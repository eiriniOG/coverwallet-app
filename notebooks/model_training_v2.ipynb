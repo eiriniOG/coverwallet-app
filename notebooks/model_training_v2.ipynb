{
  "cells": [
    {
      "cell_type": "markdown",
      "metadata": {
        "id": "8XhqfLixCtXx"
      },
      "source": [
        "# CoverWallet Test: The Account Value Case Dilemma\n",
        "\n",
        "---\n",
        "\n",
        "\n",
        "\n",
        "---\n",
        "Given:\n",
        "- a list of clients (accounts) and their basic company info.\n",
        "- a set of quotes replied to those potential clients, about certain products and their price (premium).\n",
        "- an observed fact named \"convert\" meaning that the account finally acquired the quoted product.\n",
        "- the account value definition as the sum of premiums related to quotes which were finally acquired.\n",
        "\n",
        "The goal is to resolve:\n",
        "1. What is the expected account value for any potential client?\n",
        "\n",
        "In the process, the provided data will be analyzed in order to find as many  meaningful insights as possible."
      ]
    },
    {
      "cell_type": "markdown",
      "metadata": {
        "id": "izx9kyG0EatY"
      },
      "source": [
        "## 0. Approach\n",
        "To extract conclusions we will follow these steps:\n",
        "1. Libraries and packages: import necessary Python modules\n",
        "2. Reading data:\n",
        "* Csv files will be read and checked in terms of headers.\n",
        "* Column formats and null values will be analyzed.\n",
        "3. Understanding dataset structure:\n",
        "* How the datasets are configured, how they can be merged, what they contain and their internal behaviour, what a row means.\n",
        "* Every column will be looked at in a univariate analysis.\n",
        "4. Understanding the target variable and modeling:\n",
        "* Which variable is the actual target? Conversion versus Account value.\n",
        "* How the target variable behaves compared to the other columns in a multivariate analysis.\n",
        "* Using our data for classification model training.\n",
        "5. Evaluating results:\n",
        "* Comparing the different models obtained in the previous step in terms of predictions using RMSE and other metrics.\n",
        "6. Conclusions"
      ]
    },
    {
      "cell_type": "markdown",
      "metadata": {
        "id": "hTXeUDAcJAzw"
      },
      "source": [
        "## 1. Libraries and packages"
      ]
    },
    {
      "cell_type": "code",
      "execution_count": 1,
      "metadata": {
        "colab": {
          "base_uri": "https://localhost:8080/"
        },
        "id": "St-UnuDbJBFB",
        "outputId": "cd533b7d-1519-4f06-fc94-a823688e23e2"
      },
      "outputs": [
        {
          "name": "stdout",
          "output_type": "stream",
          "text": [
            "Collecting pytictoc\n",
            "  Downloading pytictoc-1.5.2-py2.py3-none-any.whl (4.0 kB)\n",
            "Installing collected packages: pytictoc\n",
            "Successfully installed pytictoc-1.5.2\n",
            "Collecting catboost\n",
            "  Downloading catboost-1.0.4-cp37-none-manylinux1_x86_64.whl (76.1 MB)\n",
            "\u001b[K     |████████████████████████████████| 76.1 MB 1.1 MB/s \n",
            "\u001b[?25hRequirement already satisfied: graphviz in /usr/local/lib/python3.7/dist-packages (from catboost) (0.10.1)\n",
            "Requirement already satisfied: pandas>=0.24.0 in /usr/local/lib/python3.7/dist-packages (from catboost) (1.3.5)\n",
            "Requirement already satisfied: numpy>=1.16.0 in /usr/local/lib/python3.7/dist-packages (from catboost) (1.21.5)\n",
            "Requirement already satisfied: six in /usr/local/lib/python3.7/dist-packages (from catboost) (1.15.0)\n",
            "Requirement already satisfied: plotly in /usr/local/lib/python3.7/dist-packages (from catboost) (5.5.0)\n",
            "Requirement already satisfied: matplotlib in /usr/local/lib/python3.7/dist-packages (from catboost) (3.2.2)\n",
            "Requirement already satisfied: scipy in /usr/local/lib/python3.7/dist-packages (from catboost) (1.4.1)\n",
            "Requirement already satisfied: python-dateutil>=2.7.3 in /usr/local/lib/python3.7/dist-packages (from pandas>=0.24.0->catboost) (2.8.2)\n",
            "Requirement already satisfied: pytz>=2017.3 in /usr/local/lib/python3.7/dist-packages (from pandas>=0.24.0->catboost) (2018.9)\n",
            "Requirement already satisfied: cycler>=0.10 in /usr/local/lib/python3.7/dist-packages (from matplotlib->catboost) (0.11.0)\n",
            "Requirement already satisfied: kiwisolver>=1.0.1 in /usr/local/lib/python3.7/dist-packages (from matplotlib->catboost) (1.3.2)\n",
            "Requirement already satisfied: pyparsing!=2.0.4,!=2.1.2,!=2.1.6,>=2.0.1 in /usr/local/lib/python3.7/dist-packages (from matplotlib->catboost) (3.0.7)\n",
            "Requirement already satisfied: tenacity>=6.2.0 in /usr/local/lib/python3.7/dist-packages (from plotly->catboost) (8.0.1)\n",
            "Installing collected packages: catboost\n",
            "Successfully installed catboost-1.0.4\n"
          ]
        }
      ],
      "source": [
        "import pandas as pd\n",
        "pd.set_option('display.max_colwidth', None)\n",
        "import numpy as np\n",
        "import matplotlib.pyplot as plt\n",
        "plt.rc('figure', figsize=(10, 8))\n",
        "import seaborn as sns\n",
        "sns.set(color_codes=True)\n",
        "import random\n",
        "import pickle\n",
        "\n",
        "!pip install pytictoc\n",
        "from pytictoc import TicToc\n",
        "\n",
        "from sklearn.model_selection import train_test_split\n",
        "from sklearn.preprocessing import RobustScaler\n",
        "from sklearn.linear_model import LogisticRegression\n",
        "from sklearn.ensemble import RandomForestClassifier, GradientBoostingClassifier\n",
        "from sklearn.metrics import  roc_curve, auc, recall_score, precision_score,f1_score, confusion_matrix, mean_squared_error\n",
        "from sklearn.model_selection import GridSearchCV, ParameterGrid\n",
        "from sklearn.calibration import CalibratedClassifierCV, calibration_curve\n",
        "\n",
        "!pip install catboost\n",
        "from catboost import CatBoostClassifier"
      ]
    },
    {
      "cell_type": "markdown",
      "metadata": {
        "id": "4CUc4kRwZTa1"
      },
      "source": [
        "## 2. Reading data"
      ]
    },
    {
      "cell_type": "code",
      "execution_count": 2,
      "metadata": {
        "id": "52X0HAa4ZU0b"
      },
      "outputs": [],
      "source": [
        "#Read received csv\n",
        "f_accounts_train = '/content/drive/MyDrive/ColabNotebooks/coverwallet_codetest/data/accounts_train.csv'\n",
        "f_accounts_test = '/content/drive/MyDrive/ColabNotebooks/coverwallet_codetest/data/accounts_test.csv'\n",
        "f_quotes_train = '/content/drive/MyDrive/ColabNotebooks/coverwallet_codetest/data/quotes_train.csv'\n",
        "f_quotes_test = '/content/drive/MyDrive/ColabNotebooks/coverwallet_codetest/data/quotes_test.csv'\n",
        "\n",
        "df_accounts_train = pd.read_csv(f_accounts_train)\n",
        "df_accounts_test = pd.read_csv(f_accounts_test)\n",
        "df_quotes_train = pd.read_csv(f_quotes_train)\n",
        "df_quotes_test = pd.read_csv(f_quotes_test)"
      ]
    },
    {
      "cell_type": "markdown",
      "metadata": {
        "id": "v1MtyRcZpzDj"
      },
      "source": [
        "For starters, let's check first rows and column names in case there are special characters:"
      ]
    },
    {
      "cell_type": "code",
      "execution_count": 3,
      "metadata": {
        "colab": {
          "base_uri": "https://localhost:8080/",
          "height": 336
        },
        "id": "sGqefa90pS09",
        "outputId": "5e8ef745-dd39-4144-d3f9-11e67b43ee66"
      },
      "outputs": [
        {
          "data": {
            "text/html": [
              "\n",
              "  <div id=\"df-073d3b37-f533-4335-b2f5-77f23809b776\">\n",
              "    <div class=\"colab-df-container\">\n",
              "      <div>\n",
              "<style scoped>\n",
              "    .dataframe tbody tr th:only-of-type {\n",
              "        vertical-align: middle;\n",
              "    }\n",
              "\n",
              "    .dataframe tbody tr th {\n",
              "        vertical-align: top;\n",
              "    }\n",
              "\n",
              "    .dataframe thead th {\n",
              "        text-align: right;\n",
              "    }\n",
              "</style>\n",
              "<table border=\"1\" class=\"dataframe\">\n",
              "  <thead>\n",
              "    <tr style=\"text-align: right;\">\n",
              "      <th></th>\n",
              "      <th>account_uuid</th>\n",
              "      <th>state</th>\n",
              "      <th>industry</th>\n",
              "      <th>subindustry</th>\n",
              "      <th>year_established</th>\n",
              "      <th>annual_revenue</th>\n",
              "      <th>total_payroll</th>\n",
              "      <th>business_structure</th>\n",
              "      <th>num_employees</th>\n",
              "    </tr>\n",
              "  </thead>\n",
              "  <tbody>\n",
              "    <tr>\n",
              "      <th>0</th>\n",
              "      <td>4de966ca-b13f-4133-acd2-d516328062fc</td>\n",
              "      <td>PA</td>\n",
              "      <td>Retail Trade</td>\n",
              "      <td>Landscaping Services</td>\n",
              "      <td>2012.0</td>\n",
              "      <td>120000.0</td>\n",
              "      <td>50000.0</td>\n",
              "      <td>Limited Liability Company</td>\n",
              "      <td>4.0</td>\n",
              "    </tr>\n",
              "    <tr>\n",
              "      <th>1</th>\n",
              "      <td>85ec3b0c-8f89c-232b-6be4c-d033c5a52e</td>\n",
              "      <td>TX</td>\n",
              "      <td>Contractors</td>\n",
              "      <td>Electrical Contractors and Other Wiring Installation Contractors</td>\n",
              "      <td>2012.0</td>\n",
              "      <td>60000.0</td>\n",
              "      <td>40000.0</td>\n",
              "      <td>Limited Liability Company</td>\n",
              "      <td>1.0</td>\n",
              "    </tr>\n",
              "    <tr>\n",
              "      <th>2</th>\n",
              "      <td>0fb1f276-95a95-9332-6927f-7e2dc3e610</td>\n",
              "      <td>NY</td>\n",
              "      <td>NaN</td>\n",
              "      <td>NaN</td>\n",
              "      <td>2016.0</td>\n",
              "      <td>150000.0</td>\n",
              "      <td>0.0</td>\n",
              "      <td>Corporation</td>\n",
              "      <td>0.0</td>\n",
              "    </tr>\n",
              "    <tr>\n",
              "      <th>3</th>\n",
              "      <td>5fe23456-f37a8-3c12-7a731-477f60edb9</td>\n",
              "      <td>CA</td>\n",
              "      <td>Professional, Scientific and Technical Services</td>\n",
              "      <td>Architectural Services</td>\n",
              "      <td>2015.0</td>\n",
              "      <td>75000.0</td>\n",
              "      <td>55000.0</td>\n",
              "      <td>Limited Liability Company</td>\n",
              "      <td>0.0</td>\n",
              "    </tr>\n",
              "    <tr>\n",
              "      <th>4</th>\n",
              "      <td>2b2ceb23-20eb3-9a3c-87034-2eccac7276</td>\n",
              "      <td>AZ</td>\n",
              "      <td>Retail Trade</td>\n",
              "      <td>Tobacco Stores</td>\n",
              "      <td>2014.0</td>\n",
              "      <td>200000.0</td>\n",
              "      <td>0.0</td>\n",
              "      <td>Limited Liability Company</td>\n",
              "      <td>0.0</td>\n",
              "    </tr>\n",
              "  </tbody>\n",
              "</table>\n",
              "</div>\n",
              "      <button class=\"colab-df-convert\" onclick=\"convertToInteractive('df-073d3b37-f533-4335-b2f5-77f23809b776')\"\n",
              "              title=\"Convert this dataframe to an interactive table.\"\n",
              "              style=\"display:none;\">\n",
              "        \n",
              "  <svg xmlns=\"http://www.w3.org/2000/svg\" height=\"24px\"viewBox=\"0 0 24 24\"\n",
              "       width=\"24px\">\n",
              "    <path d=\"M0 0h24v24H0V0z\" fill=\"none\"/>\n",
              "    <path d=\"M18.56 5.44l.94 2.06.94-2.06 2.06-.94-2.06-.94-.94-2.06-.94 2.06-2.06.94zm-11 1L8.5 8.5l.94-2.06 2.06-.94-2.06-.94L8.5 2.5l-.94 2.06-2.06.94zm10 10l.94 2.06.94-2.06 2.06-.94-2.06-.94-.94-2.06-.94 2.06-2.06.94z\"/><path d=\"M17.41 7.96l-1.37-1.37c-.4-.4-.92-.59-1.43-.59-.52 0-1.04.2-1.43.59L10.3 9.45l-7.72 7.72c-.78.78-.78 2.05 0 2.83L4 21.41c.39.39.9.59 1.41.59.51 0 1.02-.2 1.41-.59l7.78-7.78 2.81-2.81c.8-.78.8-2.07 0-2.86zM5.41 20L4 18.59l7.72-7.72 1.47 1.35L5.41 20z\"/>\n",
              "  </svg>\n",
              "      </button>\n",
              "      \n",
              "  <style>\n",
              "    .colab-df-container {\n",
              "      display:flex;\n",
              "      flex-wrap:wrap;\n",
              "      gap: 12px;\n",
              "    }\n",
              "\n",
              "    .colab-df-convert {\n",
              "      background-color: #E8F0FE;\n",
              "      border: none;\n",
              "      border-radius: 50%;\n",
              "      cursor: pointer;\n",
              "      display: none;\n",
              "      fill: #1967D2;\n",
              "      height: 32px;\n",
              "      padding: 0 0 0 0;\n",
              "      width: 32px;\n",
              "    }\n",
              "\n",
              "    .colab-df-convert:hover {\n",
              "      background-color: #E2EBFA;\n",
              "      box-shadow: 0px 1px 2px rgba(60, 64, 67, 0.3), 0px 1px 3px 1px rgba(60, 64, 67, 0.15);\n",
              "      fill: #174EA6;\n",
              "    }\n",
              "\n",
              "    [theme=dark] .colab-df-convert {\n",
              "      background-color: #3B4455;\n",
              "      fill: #D2E3FC;\n",
              "    }\n",
              "\n",
              "    [theme=dark] .colab-df-convert:hover {\n",
              "      background-color: #434B5C;\n",
              "      box-shadow: 0px 1px 3px 1px rgba(0, 0, 0, 0.15);\n",
              "      filter: drop-shadow(0px 1px 2px rgba(0, 0, 0, 0.3));\n",
              "      fill: #FFFFFF;\n",
              "    }\n",
              "  </style>\n",
              "\n",
              "      <script>\n",
              "        const buttonEl =\n",
              "          document.querySelector('#df-073d3b37-f533-4335-b2f5-77f23809b776 button.colab-df-convert');\n",
              "        buttonEl.style.display =\n",
              "          google.colab.kernel.accessAllowed ? 'block' : 'none';\n",
              "\n",
              "        async function convertToInteractive(key) {\n",
              "          const element = document.querySelector('#df-073d3b37-f533-4335-b2f5-77f23809b776');\n",
              "          const dataTable =\n",
              "            await google.colab.kernel.invokeFunction('convertToInteractive',\n",
              "                                                     [key], {});\n",
              "          if (!dataTable) return;\n",
              "\n",
              "          const docLinkHtml = 'Like what you see? Visit the ' +\n",
              "            '<a target=\"_blank\" href=https://colab.research.google.com/notebooks/data_table.ipynb>data table notebook</a>'\n",
              "            + ' to learn more about interactive tables.';\n",
              "          element.innerHTML = '';\n",
              "          dataTable['output_type'] = 'display_data';\n",
              "          await google.colab.output.renderOutput(dataTable, element);\n",
              "          const docLink = document.createElement('div');\n",
              "          docLink.innerHTML = docLinkHtml;\n",
              "          element.appendChild(docLink);\n",
              "        }\n",
              "      </script>\n",
              "    </div>\n",
              "  </div>\n",
              "  "
            ],
            "text/plain": [
              "                           account_uuid  ... num_employees\n",
              "0  4de966ca-b13f-4133-acd2-d516328062fc  ...           4.0\n",
              "1  85ec3b0c-8f89c-232b-6be4c-d033c5a52e  ...           1.0\n",
              "2  0fb1f276-95a95-9332-6927f-7e2dc3e610  ...           0.0\n",
              "3  5fe23456-f37a8-3c12-7a731-477f60edb9  ...           0.0\n",
              "4  2b2ceb23-20eb3-9a3c-87034-2eccac7276  ...           0.0\n",
              "\n",
              "[5 rows x 9 columns]"
            ]
          },
          "execution_count": 3,
          "metadata": {},
          "output_type": "execute_result"
        }
      ],
      "source": [
        "df_accounts_train.head()"
      ]
    },
    {
      "cell_type": "code",
      "execution_count": 4,
      "metadata": {
        "colab": {
          "base_uri": "https://localhost:8080/",
          "height": 355
        },
        "id": "LJyJdJ1rpUkj",
        "outputId": "90e61fb8-14e4-4e29-e877-d4a0b1cf37ac"
      },
      "outputs": [
        {
          "data": {
            "text/html": [
              "\n",
              "  <div id=\"df-70a0364f-657a-4eb9-90f0-fdd0c135276c\">\n",
              "    <div class=\"colab-df-container\">\n",
              "      <div>\n",
              "<style scoped>\n",
              "    .dataframe tbody tr th:only-of-type {\n",
              "        vertical-align: middle;\n",
              "    }\n",
              "\n",
              "    .dataframe tbody tr th {\n",
              "        vertical-align: top;\n",
              "    }\n",
              "\n",
              "    .dataframe thead th {\n",
              "        text-align: right;\n",
              "    }\n",
              "</style>\n",
              "<table border=\"1\" class=\"dataframe\">\n",
              "  <thead>\n",
              "    <tr style=\"text-align: right;\">\n",
              "      <th></th>\n",
              "      <th>account_uuid</th>\n",
              "      <th>state</th>\n",
              "      <th>industry</th>\n",
              "      <th>subindustry</th>\n",
              "      <th>year_established</th>\n",
              "      <th>annual_revenue</th>\n",
              "      <th>total_payroll</th>\n",
              "      <th>business_structure</th>\n",
              "      <th>num_employees</th>\n",
              "    </tr>\n",
              "  </thead>\n",
              "  <tbody>\n",
              "    <tr>\n",
              "      <th>0</th>\n",
              "      <td>7c7089b9-30cc6-c5fc-9f5c8-1e4ce6a8c3</td>\n",
              "      <td>FL</td>\n",
              "      <td>Technology, Media and Telecommunications</td>\n",
              "      <td>Software Publishers</td>\n",
              "      <td>2014.0</td>\n",
              "      <td>1200000.0</td>\n",
              "      <td>1000000.0</td>\n",
              "      <td>Corporation</td>\n",
              "      <td>11.0</td>\n",
              "    </tr>\n",
              "    <tr>\n",
              "      <th>1</th>\n",
              "      <td>bf68dd36-7dc94-0f5d-ebad4-19c0cdcdc7</td>\n",
              "      <td>TX</td>\n",
              "      <td>Administrative Services and Building Maintenance</td>\n",
              "      <td>Carpet and Upholstery Cleaning Services</td>\n",
              "      <td>2017.0</td>\n",
              "      <td>75000.0</td>\n",
              "      <td>1.0</td>\n",
              "      <td>Individual</td>\n",
              "      <td>0.0</td>\n",
              "    </tr>\n",
              "    <tr>\n",
              "      <th>2</th>\n",
              "      <td>fc97744d-9e9a-47a9-b923-1e2c3016c896</td>\n",
              "      <td>CA</td>\n",
              "      <td>Healthcare</td>\n",
              "      <td>Diagnostic Imaging Centers</td>\n",
              "      <td>2018.0</td>\n",
              "      <td>500000.0</td>\n",
              "      <td>70000.0</td>\n",
              "      <td>Limited Liability Company</td>\n",
              "      <td>3.0</td>\n",
              "    </tr>\n",
              "    <tr>\n",
              "      <th>3</th>\n",
              "      <td>0484a0e0-3c35e-0d2a-14c01-0220295202</td>\n",
              "      <td>CO</td>\n",
              "      <td>Consultants</td>\n",
              "      <td>Administrative Management and General Management Consulting Services</td>\n",
              "      <td>2017.0</td>\n",
              "      <td>70000.0</td>\n",
              "      <td>0.0</td>\n",
              "      <td>Individual</td>\n",
              "      <td>0.0</td>\n",
              "    </tr>\n",
              "    <tr>\n",
              "      <th>4</th>\n",
              "      <td>673e8fb9-23833-3654-c6082-67470cfedb</td>\n",
              "      <td>AL</td>\n",
              "      <td>NaN</td>\n",
              "      <td>NaN</td>\n",
              "      <td>2017.0</td>\n",
              "      <td>156000.0</td>\n",
              "      <td>0.0</td>\n",
              "      <td>Other</td>\n",
              "      <td>0.0</td>\n",
              "    </tr>\n",
              "  </tbody>\n",
              "</table>\n",
              "</div>\n",
              "      <button class=\"colab-df-convert\" onclick=\"convertToInteractive('df-70a0364f-657a-4eb9-90f0-fdd0c135276c')\"\n",
              "              title=\"Convert this dataframe to an interactive table.\"\n",
              "              style=\"display:none;\">\n",
              "        \n",
              "  <svg xmlns=\"http://www.w3.org/2000/svg\" height=\"24px\"viewBox=\"0 0 24 24\"\n",
              "       width=\"24px\">\n",
              "    <path d=\"M0 0h24v24H0V0z\" fill=\"none\"/>\n",
              "    <path d=\"M18.56 5.44l.94 2.06.94-2.06 2.06-.94-2.06-.94-.94-2.06-.94 2.06-2.06.94zm-11 1L8.5 8.5l.94-2.06 2.06-.94-2.06-.94L8.5 2.5l-.94 2.06-2.06.94zm10 10l.94 2.06.94-2.06 2.06-.94-2.06-.94-.94-2.06-.94 2.06-2.06.94z\"/><path d=\"M17.41 7.96l-1.37-1.37c-.4-.4-.92-.59-1.43-.59-.52 0-1.04.2-1.43.59L10.3 9.45l-7.72 7.72c-.78.78-.78 2.05 0 2.83L4 21.41c.39.39.9.59 1.41.59.51 0 1.02-.2 1.41-.59l7.78-7.78 2.81-2.81c.8-.78.8-2.07 0-2.86zM5.41 20L4 18.59l7.72-7.72 1.47 1.35L5.41 20z\"/>\n",
              "  </svg>\n",
              "      </button>\n",
              "      \n",
              "  <style>\n",
              "    .colab-df-container {\n",
              "      display:flex;\n",
              "      flex-wrap:wrap;\n",
              "      gap: 12px;\n",
              "    }\n",
              "\n",
              "    .colab-df-convert {\n",
              "      background-color: #E8F0FE;\n",
              "      border: none;\n",
              "      border-radius: 50%;\n",
              "      cursor: pointer;\n",
              "      display: none;\n",
              "      fill: #1967D2;\n",
              "      height: 32px;\n",
              "      padding: 0 0 0 0;\n",
              "      width: 32px;\n",
              "    }\n",
              "\n",
              "    .colab-df-convert:hover {\n",
              "      background-color: #E2EBFA;\n",
              "      box-shadow: 0px 1px 2px rgba(60, 64, 67, 0.3), 0px 1px 3px 1px rgba(60, 64, 67, 0.15);\n",
              "      fill: #174EA6;\n",
              "    }\n",
              "\n",
              "    [theme=dark] .colab-df-convert {\n",
              "      background-color: #3B4455;\n",
              "      fill: #D2E3FC;\n",
              "    }\n",
              "\n",
              "    [theme=dark] .colab-df-convert:hover {\n",
              "      background-color: #434B5C;\n",
              "      box-shadow: 0px 1px 3px 1px rgba(0, 0, 0, 0.15);\n",
              "      filter: drop-shadow(0px 1px 2px rgba(0, 0, 0, 0.3));\n",
              "      fill: #FFFFFF;\n",
              "    }\n",
              "  </style>\n",
              "\n",
              "      <script>\n",
              "        const buttonEl =\n",
              "          document.querySelector('#df-70a0364f-657a-4eb9-90f0-fdd0c135276c button.colab-df-convert');\n",
              "        buttonEl.style.display =\n",
              "          google.colab.kernel.accessAllowed ? 'block' : 'none';\n",
              "\n",
              "        async function convertToInteractive(key) {\n",
              "          const element = document.querySelector('#df-70a0364f-657a-4eb9-90f0-fdd0c135276c');\n",
              "          const dataTable =\n",
              "            await google.colab.kernel.invokeFunction('convertToInteractive',\n",
              "                                                     [key], {});\n",
              "          if (!dataTable) return;\n",
              "\n",
              "          const docLinkHtml = 'Like what you see? Visit the ' +\n",
              "            '<a target=\"_blank\" href=https://colab.research.google.com/notebooks/data_table.ipynb>data table notebook</a>'\n",
              "            + ' to learn more about interactive tables.';\n",
              "          element.innerHTML = '';\n",
              "          dataTable['output_type'] = 'display_data';\n",
              "          await google.colab.output.renderOutput(dataTable, element);\n",
              "          const docLink = document.createElement('div');\n",
              "          docLink.innerHTML = docLinkHtml;\n",
              "          element.appendChild(docLink);\n",
              "        }\n",
              "      </script>\n",
              "    </div>\n",
              "  </div>\n",
              "  "
            ],
            "text/plain": [
              "                           account_uuid  ... num_employees\n",
              "0  7c7089b9-30cc6-c5fc-9f5c8-1e4ce6a8c3  ...          11.0\n",
              "1  bf68dd36-7dc94-0f5d-ebad4-19c0cdcdc7  ...           0.0\n",
              "2  fc97744d-9e9a-47a9-b923-1e2c3016c896  ...           3.0\n",
              "3  0484a0e0-3c35e-0d2a-14c01-0220295202  ...           0.0\n",
              "4  673e8fb9-23833-3654-c6082-67470cfedb  ...           0.0\n",
              "\n",
              "[5 rows x 9 columns]"
            ]
          },
          "execution_count": 4,
          "metadata": {},
          "output_type": "execute_result"
        }
      ],
      "source": [
        "df_accounts_test.head()"
      ]
    },
    {
      "cell_type": "code",
      "execution_count": 5,
      "metadata": {
        "colab": {
          "base_uri": "https://localhost:8080/",
          "height": 206
        },
        "id": "VUnvIvXBpayb",
        "outputId": "283f849d-539f-430e-cc18-cdb71714e1df"
      },
      "outputs": [
        {
          "data": {
            "text/html": [
              "\n",
              "  <div id=\"df-1cfba3a9-248c-4fcc-8f19-67ed27907b7a\">\n",
              "    <div class=\"colab-df-container\">\n",
              "      <div>\n",
              "<style scoped>\n",
              "    .dataframe tbody tr th:only-of-type {\n",
              "        vertical-align: middle;\n",
              "    }\n",
              "\n",
              "    .dataframe tbody tr th {\n",
              "        vertical-align: top;\n",
              "    }\n",
              "\n",
              "    .dataframe thead th {\n",
              "        text-align: right;\n",
              "    }\n",
              "</style>\n",
              "<table border=\"1\" class=\"dataframe\">\n",
              "  <thead>\n",
              "    <tr style=\"text-align: right;\">\n",
              "      <th></th>\n",
              "      <th>account_uuid</th>\n",
              "      <th>product</th>\n",
              "      <th>premium</th>\n",
              "      <th>carrier_id</th>\n",
              "      <th>convert</th>\n",
              "    </tr>\n",
              "  </thead>\n",
              "  <tbody>\n",
              "    <tr>\n",
              "      <th>0</th>\n",
              "      <td>f09e1383-2467-4741-9bd3-39cfd7a2b399</td>\n",
              "      <td>Business_Owners_Policy_BOP</td>\n",
              "      <td>4316.0</td>\n",
              "      <td>29</td>\n",
              "      <td>0</td>\n",
              "    </tr>\n",
              "    <tr>\n",
              "      <th>1</th>\n",
              "      <td>8e686305-a622-4f24-ba0a-478fcbbee32c</td>\n",
              "      <td>Commercial_Auto</td>\n",
              "      <td>2085.0</td>\n",
              "      <td>9</td>\n",
              "      <td>0</td>\n",
              "    </tr>\n",
              "    <tr>\n",
              "      <th>2</th>\n",
              "      <td>f13a4b1b-f1fe3-3e49-f60c2-824c38e79a</td>\n",
              "      <td>Business_Owners_Policy_BOP</td>\n",
              "      <td>607.0</td>\n",
              "      <td>60</td>\n",
              "      <td>0</td>\n",
              "    </tr>\n",
              "    <tr>\n",
              "      <th>3</th>\n",
              "      <td>8f58d58a-762b-40b2-8a9e-6adaa4c31ea5</td>\n",
              "      <td>Workers_Compensation</td>\n",
              "      <td>779.0</td>\n",
              "      <td>22</td>\n",
              "      <td>1</td>\n",
              "    </tr>\n",
              "    <tr>\n",
              "      <th>4</th>\n",
              "      <td>76eaf5b0-ed02d-3d49-15cf5-3745425c15</td>\n",
              "      <td>Workers_Compensation</td>\n",
              "      <td>10086.0</td>\n",
              "      <td>29</td>\n",
              "      <td>1</td>\n",
              "    </tr>\n",
              "  </tbody>\n",
              "</table>\n",
              "</div>\n",
              "      <button class=\"colab-df-convert\" onclick=\"convertToInteractive('df-1cfba3a9-248c-4fcc-8f19-67ed27907b7a')\"\n",
              "              title=\"Convert this dataframe to an interactive table.\"\n",
              "              style=\"display:none;\">\n",
              "        \n",
              "  <svg xmlns=\"http://www.w3.org/2000/svg\" height=\"24px\"viewBox=\"0 0 24 24\"\n",
              "       width=\"24px\">\n",
              "    <path d=\"M0 0h24v24H0V0z\" fill=\"none\"/>\n",
              "    <path d=\"M18.56 5.44l.94 2.06.94-2.06 2.06-.94-2.06-.94-.94-2.06-.94 2.06-2.06.94zm-11 1L8.5 8.5l.94-2.06 2.06-.94-2.06-.94L8.5 2.5l-.94 2.06-2.06.94zm10 10l.94 2.06.94-2.06 2.06-.94-2.06-.94-.94-2.06-.94 2.06-2.06.94z\"/><path d=\"M17.41 7.96l-1.37-1.37c-.4-.4-.92-.59-1.43-.59-.52 0-1.04.2-1.43.59L10.3 9.45l-7.72 7.72c-.78.78-.78 2.05 0 2.83L4 21.41c.39.39.9.59 1.41.59.51 0 1.02-.2 1.41-.59l7.78-7.78 2.81-2.81c.8-.78.8-2.07 0-2.86zM5.41 20L4 18.59l7.72-7.72 1.47 1.35L5.41 20z\"/>\n",
              "  </svg>\n",
              "      </button>\n",
              "      \n",
              "  <style>\n",
              "    .colab-df-container {\n",
              "      display:flex;\n",
              "      flex-wrap:wrap;\n",
              "      gap: 12px;\n",
              "    }\n",
              "\n",
              "    .colab-df-convert {\n",
              "      background-color: #E8F0FE;\n",
              "      border: none;\n",
              "      border-radius: 50%;\n",
              "      cursor: pointer;\n",
              "      display: none;\n",
              "      fill: #1967D2;\n",
              "      height: 32px;\n",
              "      padding: 0 0 0 0;\n",
              "      width: 32px;\n",
              "    }\n",
              "\n",
              "    .colab-df-convert:hover {\n",
              "      background-color: #E2EBFA;\n",
              "      box-shadow: 0px 1px 2px rgba(60, 64, 67, 0.3), 0px 1px 3px 1px rgba(60, 64, 67, 0.15);\n",
              "      fill: #174EA6;\n",
              "    }\n",
              "\n",
              "    [theme=dark] .colab-df-convert {\n",
              "      background-color: #3B4455;\n",
              "      fill: #D2E3FC;\n",
              "    }\n",
              "\n",
              "    [theme=dark] .colab-df-convert:hover {\n",
              "      background-color: #434B5C;\n",
              "      box-shadow: 0px 1px 3px 1px rgba(0, 0, 0, 0.15);\n",
              "      filter: drop-shadow(0px 1px 2px rgba(0, 0, 0, 0.3));\n",
              "      fill: #FFFFFF;\n",
              "    }\n",
              "  </style>\n",
              "\n",
              "      <script>\n",
              "        const buttonEl =\n",
              "          document.querySelector('#df-1cfba3a9-248c-4fcc-8f19-67ed27907b7a button.colab-df-convert');\n",
              "        buttonEl.style.display =\n",
              "          google.colab.kernel.accessAllowed ? 'block' : 'none';\n",
              "\n",
              "        async function convertToInteractive(key) {\n",
              "          const element = document.querySelector('#df-1cfba3a9-248c-4fcc-8f19-67ed27907b7a');\n",
              "          const dataTable =\n",
              "            await google.colab.kernel.invokeFunction('convertToInteractive',\n",
              "                                                     [key], {});\n",
              "          if (!dataTable) return;\n",
              "\n",
              "          const docLinkHtml = 'Like what you see? Visit the ' +\n",
              "            '<a target=\"_blank\" href=https://colab.research.google.com/notebooks/data_table.ipynb>data table notebook</a>'\n",
              "            + ' to learn more about interactive tables.';\n",
              "          element.innerHTML = '';\n",
              "          dataTable['output_type'] = 'display_data';\n",
              "          await google.colab.output.renderOutput(dataTable, element);\n",
              "          const docLink = document.createElement('div');\n",
              "          docLink.innerHTML = docLinkHtml;\n",
              "          element.appendChild(docLink);\n",
              "        }\n",
              "      </script>\n",
              "    </div>\n",
              "  </div>\n",
              "  "
            ],
            "text/plain": [
              "                           account_uuid  ... convert\n",
              "0  f09e1383-2467-4741-9bd3-39cfd7a2b399  ...       0\n",
              "1  8e686305-a622-4f24-ba0a-478fcbbee32c  ...       0\n",
              "2  f13a4b1b-f1fe3-3e49-f60c2-824c38e79a  ...       0\n",
              "3  8f58d58a-762b-40b2-8a9e-6adaa4c31ea5  ...       1\n",
              "4  76eaf5b0-ed02d-3d49-15cf5-3745425c15  ...       1\n",
              "\n",
              "[5 rows x 5 columns]"
            ]
          },
          "execution_count": 5,
          "metadata": {},
          "output_type": "execute_result"
        }
      ],
      "source": [
        "df_quotes_train.head()"
      ]
    },
    {
      "cell_type": "code",
      "execution_count": 6,
      "metadata": {
        "colab": {
          "base_uri": "https://localhost:8080/",
          "height": 206
        },
        "id": "K68DsTj1pdGL",
        "outputId": "7bc74be8-bdb2-4592-b54f-485051ee218f"
      },
      "outputs": [
        {
          "data": {
            "text/html": [
              "\n",
              "  <div id=\"df-b984053f-e7fb-4b18-9408-a84f0511eb95\">\n",
              "    <div class=\"colab-df-container\">\n",
              "      <div>\n",
              "<style scoped>\n",
              "    .dataframe tbody tr th:only-of-type {\n",
              "        vertical-align: middle;\n",
              "    }\n",
              "\n",
              "    .dataframe tbody tr th {\n",
              "        vertical-align: top;\n",
              "    }\n",
              "\n",
              "    .dataframe thead th {\n",
              "        text-align: right;\n",
              "    }\n",
              "</style>\n",
              "<table border=\"1\" class=\"dataframe\">\n",
              "  <thead>\n",
              "    <tr style=\"text-align: right;\">\n",
              "      <th></th>\n",
              "      <th>account_uuid</th>\n",
              "      <th>product</th>\n",
              "      <th>premium</th>\n",
              "      <th>carrier_id</th>\n",
              "    </tr>\n",
              "  </thead>\n",
              "  <tbody>\n",
              "    <tr>\n",
              "      <th>0</th>\n",
              "      <td>cadb76f5-2f0ad-a78b-6c138-001288b999</td>\n",
              "      <td>Business_Owners_Policy_BOP</td>\n",
              "      <td>518.0</td>\n",
              "      <td>60</td>\n",
              "    </tr>\n",
              "    <tr>\n",
              "      <th>1</th>\n",
              "      <td>cadb76f5-2f0ad-a78b-6c138-001288b999</td>\n",
              "      <td>Business_Owners_Policy_BOP</td>\n",
              "      <td>542.0</td>\n",
              "      <td>60</td>\n",
              "    </tr>\n",
              "    <tr>\n",
              "      <th>2</th>\n",
              "      <td>d8aed557-aa49-4e6c-8f1d-860fa56e633f</td>\n",
              "      <td>General_Liability</td>\n",
              "      <td>500.0</td>\n",
              "      <td>39</td>\n",
              "    </tr>\n",
              "    <tr>\n",
              "      <th>3</th>\n",
              "      <td>08ec2c90-b3037-3f8e-429af-f834f19937</td>\n",
              "      <td>Business_Owners_Policy_BOP</td>\n",
              "      <td>500.0</td>\n",
              "      <td>31</td>\n",
              "    </tr>\n",
              "    <tr>\n",
              "      <th>4</th>\n",
              "      <td>14a4b644-740b-454e-8872-3460fda39092</td>\n",
              "      <td>CW_Professional_Liability</td>\n",
              "      <td>400.0</td>\n",
              "      <td>31</td>\n",
              "    </tr>\n",
              "  </tbody>\n",
              "</table>\n",
              "</div>\n",
              "      <button class=\"colab-df-convert\" onclick=\"convertToInteractive('df-b984053f-e7fb-4b18-9408-a84f0511eb95')\"\n",
              "              title=\"Convert this dataframe to an interactive table.\"\n",
              "              style=\"display:none;\">\n",
              "        \n",
              "  <svg xmlns=\"http://www.w3.org/2000/svg\" height=\"24px\"viewBox=\"0 0 24 24\"\n",
              "       width=\"24px\">\n",
              "    <path d=\"M0 0h24v24H0V0z\" fill=\"none\"/>\n",
              "    <path d=\"M18.56 5.44l.94 2.06.94-2.06 2.06-.94-2.06-.94-.94-2.06-.94 2.06-2.06.94zm-11 1L8.5 8.5l.94-2.06 2.06-.94-2.06-.94L8.5 2.5l-.94 2.06-2.06.94zm10 10l.94 2.06.94-2.06 2.06-.94-2.06-.94-.94-2.06-.94 2.06-2.06.94z\"/><path d=\"M17.41 7.96l-1.37-1.37c-.4-.4-.92-.59-1.43-.59-.52 0-1.04.2-1.43.59L10.3 9.45l-7.72 7.72c-.78.78-.78 2.05 0 2.83L4 21.41c.39.39.9.59 1.41.59.51 0 1.02-.2 1.41-.59l7.78-7.78 2.81-2.81c.8-.78.8-2.07 0-2.86zM5.41 20L4 18.59l7.72-7.72 1.47 1.35L5.41 20z\"/>\n",
              "  </svg>\n",
              "      </button>\n",
              "      \n",
              "  <style>\n",
              "    .colab-df-container {\n",
              "      display:flex;\n",
              "      flex-wrap:wrap;\n",
              "      gap: 12px;\n",
              "    }\n",
              "\n",
              "    .colab-df-convert {\n",
              "      background-color: #E8F0FE;\n",
              "      border: none;\n",
              "      border-radius: 50%;\n",
              "      cursor: pointer;\n",
              "      display: none;\n",
              "      fill: #1967D2;\n",
              "      height: 32px;\n",
              "      padding: 0 0 0 0;\n",
              "      width: 32px;\n",
              "    }\n",
              "\n",
              "    .colab-df-convert:hover {\n",
              "      background-color: #E2EBFA;\n",
              "      box-shadow: 0px 1px 2px rgba(60, 64, 67, 0.3), 0px 1px 3px 1px rgba(60, 64, 67, 0.15);\n",
              "      fill: #174EA6;\n",
              "    }\n",
              "\n",
              "    [theme=dark] .colab-df-convert {\n",
              "      background-color: #3B4455;\n",
              "      fill: #D2E3FC;\n",
              "    }\n",
              "\n",
              "    [theme=dark] .colab-df-convert:hover {\n",
              "      background-color: #434B5C;\n",
              "      box-shadow: 0px 1px 3px 1px rgba(0, 0, 0, 0.15);\n",
              "      filter: drop-shadow(0px 1px 2px rgba(0, 0, 0, 0.3));\n",
              "      fill: #FFFFFF;\n",
              "    }\n",
              "  </style>\n",
              "\n",
              "      <script>\n",
              "        const buttonEl =\n",
              "          document.querySelector('#df-b984053f-e7fb-4b18-9408-a84f0511eb95 button.colab-df-convert');\n",
              "        buttonEl.style.display =\n",
              "          google.colab.kernel.accessAllowed ? 'block' : 'none';\n",
              "\n",
              "        async function convertToInteractive(key) {\n",
              "          const element = document.querySelector('#df-b984053f-e7fb-4b18-9408-a84f0511eb95');\n",
              "          const dataTable =\n",
              "            await google.colab.kernel.invokeFunction('convertToInteractive',\n",
              "                                                     [key], {});\n",
              "          if (!dataTable) return;\n",
              "\n",
              "          const docLinkHtml = 'Like what you see? Visit the ' +\n",
              "            '<a target=\"_blank\" href=https://colab.research.google.com/notebooks/data_table.ipynb>data table notebook</a>'\n",
              "            + ' to learn more about interactive tables.';\n",
              "          element.innerHTML = '';\n",
              "          dataTable['output_type'] = 'display_data';\n",
              "          await google.colab.output.renderOutput(dataTable, element);\n",
              "          const docLink = document.createElement('div');\n",
              "          docLink.innerHTML = docLinkHtml;\n",
              "          element.appendChild(docLink);\n",
              "        }\n",
              "      </script>\n",
              "    </div>\n",
              "  </div>\n",
              "  "
            ],
            "text/plain": [
              "                           account_uuid  ... carrier_id\n",
              "0  cadb76f5-2f0ad-a78b-6c138-001288b999  ...         60\n",
              "1  cadb76f5-2f0ad-a78b-6c138-001288b999  ...         60\n",
              "2  d8aed557-aa49-4e6c-8f1d-860fa56e633f  ...         39\n",
              "3  08ec2c90-b3037-3f8e-429af-f834f19937  ...         31\n",
              "4  14a4b644-740b-454e-8872-3460fda39092  ...         31\n",
              "\n",
              "[5 rows x 4 columns]"
            ]
          },
          "execution_count": 6,
          "metadata": {},
          "output_type": "execute_result"
        }
      ],
      "source": [
        "df_quotes_test.head()"
      ]
    },
    {
      "cell_type": "markdown",
      "metadata": {
        "id": "6ZIzZHMXqb3H"
      },
      "source": [
        "For now, test dataset is going to be put aside, and we will focus on train dataset"
      ]
    },
    {
      "cell_type": "code",
      "execution_count": 7,
      "metadata": {
        "colab": {
          "base_uri": "https://localhost:8080/"
        },
        "id": "GieFHGA6qRWq",
        "outputId": "503d5e3f-e5ab-46c9-8dbc-dd2fef06292d"
      },
      "outputs": [
        {
          "name": "stdout",
          "output_type": "stream",
          "text": [
            "The accounts dataset has 5709 rows and 9 columns\n",
            "The quotes dataset has 11724 rows and 5 columns\n"
          ]
        }
      ],
      "source": [
        "#Datasets dimensions\n",
        "num_rows_acc, num_cols_acc = df_accounts_train.shape\n",
        "num_rows_quo, num_cols_quo = df_quotes_train.shape\n",
        "print(\"The accounts dataset has {0} rows and {1} columns\".format(num_rows_acc,num_cols_acc))\n",
        "print(\"The quotes dataset has {0} rows and {1} columns\".format(num_rows_quo,num_cols_quo))"
      ]
    },
    {
      "cell_type": "code",
      "execution_count": 8,
      "metadata": {
        "colab": {
          "base_uri": "https://localhost:8080/"
        },
        "id": "CFqWRNz9vz6N",
        "outputId": "fe4a73f4-abba-44d4-fe5d-e33df351e46e"
      },
      "outputs": [
        {
          "data": {
            "text/plain": [
              "account_uuid           object\n",
              "state                  object\n",
              "industry               object\n",
              "subindustry            object\n",
              "year_established      float64\n",
              "annual_revenue        float64\n",
              "total_payroll         float64\n",
              "business_structure     object\n",
              "num_employees         float64\n",
              "dtype: object"
            ]
          },
          "execution_count": 8,
          "metadata": {},
          "output_type": "execute_result"
        }
      ],
      "source": [
        "#Describe column names and types\n",
        "df_accounts_train.dtypes"
      ]
    },
    {
      "cell_type": "code",
      "execution_count": 9,
      "metadata": {
        "colab": {
          "base_uri": "https://localhost:8080/"
        },
        "id": "gtmg9OpvwAPM",
        "outputId": "739b9b90-c4d4-44ba-a0a0-1b3fcf0af8de"
      },
      "outputs": [
        {
          "data": {
            "text/plain": [
              "account_uuid     object\n",
              "product          object\n",
              "premium         float64\n",
              "carrier_id        int64\n",
              "convert           int64\n",
              "dtype: object"
            ]
          },
          "execution_count": 9,
          "metadata": {},
          "output_type": "execute_result"
        }
      ],
      "source": [
        "#Describe column names and types\n",
        "df_quotes_train.dtypes"
      ]
    },
    {
      "cell_type": "markdown",
      "metadata": {
        "id": "B4t-fmEdwNma"
      },
      "source": [
        "All column types and names appear to be cool, except for \"carrier_id\" which should be a string object if we later need to use it."
      ]
    },
    {
      "cell_type": "code",
      "execution_count": 10,
      "metadata": {
        "id": "rzuZ78-KNiYT"
      },
      "outputs": [],
      "source": [
        "df_quotes_train[\"carrier_id\"] = df_quotes_train[\"carrier_id\"].astype(str)"
      ]
    },
    {
      "cell_type": "markdown",
      "metadata": {
        "id": "PIc1dg8AvkyF"
      },
      "source": [
        "### 2.1 Duplicated rows"
      ]
    },
    {
      "cell_type": "code",
      "execution_count": 11,
      "metadata": {
        "colab": {
          "base_uri": "https://localhost:8080/"
        },
        "id": "XRffqucxqVwA",
        "outputId": "917d286b-2190-4d15-caa1-de6c7b565038"
      },
      "outputs": [
        {
          "name": "stdout",
          "output_type": "stream",
          "text": [
            "Duplicated full rows in quotes dataset\n"
          ]
        }
      ],
      "source": [
        "#Unnecessarily duplicated rows\n",
        "if df_accounts_train.duplicated().any():\n",
        "    print(\"Duplicated full rows in accounts dataset\")\n",
        "if df_quotes_train.duplicated().any():\n",
        "    print(\"Duplicated full rows in quotes dataset\")  \n",
        "else: print(\"Everything is ok\")"
      ]
    },
    {
      "cell_type": "markdown",
      "metadata": {
        "id": "CBY4vUCnrYbl"
      },
      "source": [
        "It appears that we found some duplicated rows. Let's check for them:"
      ]
    },
    {
      "cell_type": "code",
      "execution_count": 12,
      "metadata": {
        "colab": {
          "base_uri": "https://localhost:8080/"
        },
        "id": "t4AVLswxrggb",
        "outputId": "c884d278-c7b7-48d6-bc67-8970597cdafb"
      },
      "outputs": [
        {
          "name": "stdout",
          "output_type": "stream",
          "text": [
            "580\n"
          ]
        }
      ],
      "source": [
        "quotes_duplicates = df_quotes_train[df_quotes_train.duplicated()]\n",
        "print(len(quotes_duplicates))"
      ]
    },
    {
      "cell_type": "markdown",
      "metadata": {
        "id": "RGYKXJyhsQ9q"
      },
      "source": [
        "We need to understand what these 580 duplicates mean in term of business:\n",
        "- Are they related to a certain product, carrier or conversion state? The answer is apparently \"no\" as it is observed in the following cells"
      ]
    },
    {
      "cell_type": "code",
      "execution_count": 13,
      "metadata": {
        "colab": {
          "base_uri": "https://localhost:8080/"
        },
        "id": "h2xx8TgssLgc",
        "outputId": "61092a63-be95-4cff-fb64-aea232fe7186"
      },
      "outputs": [
        {
          "data": {
            "text/plain": [
              "Business_Owners_Policy_BOP    444\n",
              "General_Liability             115\n",
              "CW_Professional_Liability      10\n",
              "Workers_Compensation            6\n",
              "CW_Special_Events               3\n",
              "Commercial_Property             1\n",
              "CW_Errors_Omissions_E_O         1\n",
              "Name: product, dtype: int64"
            ]
          },
          "execution_count": 13,
          "metadata": {},
          "output_type": "execute_result"
        }
      ],
      "source": [
        "quotes_duplicates[\"product\"].value_counts()"
      ]
    },
    {
      "cell_type": "code",
      "execution_count": 14,
      "metadata": {
        "colab": {
          "base_uri": "https://localhost:8080/"
        },
        "id": "4Vy3aSn_s5Qg",
        "outputId": "70799772-3373-459d-a997-f3ed6b3e987d"
      },
      "outputs": [
        {
          "data": {
            "text/plain": [
              "60    412\n",
              "39    122\n",
              "31     13\n",
              "21     12\n",
              "30      8\n",
              "9       5\n",
              "72      3\n",
              "22      2\n",
              "29      1\n",
              "74      1\n",
              "50      1\n",
              "Name: carrier_id, dtype: int64"
            ]
          },
          "execution_count": 14,
          "metadata": {},
          "output_type": "execute_result"
        }
      ],
      "source": [
        "quotes_duplicates[\"carrier_id\"].value_counts()"
      ]
    },
    {
      "cell_type": "code",
      "execution_count": 15,
      "metadata": {
        "colab": {
          "base_uri": "https://localhost:8080/"
        },
        "id": "Z5TWLav0s96F",
        "outputId": "b78c221d-d055-4294-803e-5e30a8e92fd9"
      },
      "outputs": [
        {
          "data": {
            "text/plain": [
              "0    566\n",
              "1     14\n",
              "Name: convert, dtype: int64"
            ]
          },
          "execution_count": 15,
          "metadata": {},
          "output_type": "execute_result"
        }
      ],
      "source": [
        "quotes_duplicates[\"convert\"].value_counts()"
      ]
    },
    {
      "cell_type": "code",
      "execution_count": 16,
      "metadata": {
        "colab": {
          "base_uri": "https://localhost:8080/",
          "height": 0
        },
        "id": "wVdtyYNYtrBl",
        "outputId": "d95425f5-b853-4828-b026-ac1907fca313"
      },
      "outputs": [
        {
          "data": {
            "text/html": [
              "\n",
              "  <div id=\"df-c658c7d8-f5ac-4520-9da0-ff7e0327a733\">\n",
              "    <div class=\"colab-df-container\">\n",
              "      <div>\n",
              "<style scoped>\n",
              "    .dataframe tbody tr th:only-of-type {\n",
              "        vertical-align: middle;\n",
              "    }\n",
              "\n",
              "    .dataframe tbody tr th {\n",
              "        vertical-align: top;\n",
              "    }\n",
              "\n",
              "    .dataframe thead th {\n",
              "        text-align: right;\n",
              "    }\n",
              "</style>\n",
              "<table border=\"1\" class=\"dataframe\">\n",
              "  <thead>\n",
              "    <tr style=\"text-align: right;\">\n",
              "      <th></th>\n",
              "      <th>account_uuid</th>\n",
              "      <th>product</th>\n",
              "      <th>premium</th>\n",
              "      <th>carrier_id</th>\n",
              "      <th>convert</th>\n",
              "    </tr>\n",
              "  </thead>\n",
              "  <tbody>\n",
              "    <tr>\n",
              "      <th>105</th>\n",
              "      <td>1d5dad44-d2964-2567-3eb61-16fe2a2661</td>\n",
              "      <td>Business_Owners_Policy_BOP</td>\n",
              "      <td>475.6</td>\n",
              "      <td>30</td>\n",
              "      <td>0</td>\n",
              "    </tr>\n",
              "    <tr>\n",
              "      <th>107</th>\n",
              "      <td>1d5dad44-d2964-2567-3eb61-16fe2a2661</td>\n",
              "      <td>Business_Owners_Policy_BOP</td>\n",
              "      <td>500.0</td>\n",
              "      <td>60</td>\n",
              "      <td>0</td>\n",
              "    </tr>\n",
              "    <tr>\n",
              "      <th>108</th>\n",
              "      <td>1d5dad44-d2964-2567-3eb61-16fe2a2661</td>\n",
              "      <td>Business_Owners_Policy_BOP</td>\n",
              "      <td>500.0</td>\n",
              "      <td>60</td>\n",
              "      <td>0</td>\n",
              "    </tr>\n",
              "    <tr>\n",
              "      <th>302</th>\n",
              "      <td>1d5dad44-d2964-2567-3eb61-16fe2a2661</td>\n",
              "      <td>Business_Owners_Policy_BOP</td>\n",
              "      <td>500.0</td>\n",
              "      <td>60</td>\n",
              "      <td>0</td>\n",
              "    </tr>\n",
              "    <tr>\n",
              "      <th>691</th>\n",
              "      <td>1d5dad44-d2964-2567-3eb61-16fe2a2661</td>\n",
              "      <td>General_Liability</td>\n",
              "      <td>550.0</td>\n",
              "      <td>60</td>\n",
              "      <td>0</td>\n",
              "    </tr>\n",
              "    <tr>\n",
              "      <th>2117</th>\n",
              "      <td>1d5dad44-d2964-2567-3eb61-16fe2a2661</td>\n",
              "      <td>Business_Owners_Policy_BOP</td>\n",
              "      <td>500.0</td>\n",
              "      <td>22</td>\n",
              "      <td>1</td>\n",
              "    </tr>\n",
              "  </tbody>\n",
              "</table>\n",
              "</div>\n",
              "      <button class=\"colab-df-convert\" onclick=\"convertToInteractive('df-c658c7d8-f5ac-4520-9da0-ff7e0327a733')\"\n",
              "              title=\"Convert this dataframe to an interactive table.\"\n",
              "              style=\"display:none;\">\n",
              "        \n",
              "  <svg xmlns=\"http://www.w3.org/2000/svg\" height=\"24px\"viewBox=\"0 0 24 24\"\n",
              "       width=\"24px\">\n",
              "    <path d=\"M0 0h24v24H0V0z\" fill=\"none\"/>\n",
              "    <path d=\"M18.56 5.44l.94 2.06.94-2.06 2.06-.94-2.06-.94-.94-2.06-.94 2.06-2.06.94zm-11 1L8.5 8.5l.94-2.06 2.06-.94-2.06-.94L8.5 2.5l-.94 2.06-2.06.94zm10 10l.94 2.06.94-2.06 2.06-.94-2.06-.94-.94-2.06-.94 2.06-2.06.94z\"/><path d=\"M17.41 7.96l-1.37-1.37c-.4-.4-.92-.59-1.43-.59-.52 0-1.04.2-1.43.59L10.3 9.45l-7.72 7.72c-.78.78-.78 2.05 0 2.83L4 21.41c.39.39.9.59 1.41.59.51 0 1.02-.2 1.41-.59l7.78-7.78 2.81-2.81c.8-.78.8-2.07 0-2.86zM5.41 20L4 18.59l7.72-7.72 1.47 1.35L5.41 20z\"/>\n",
              "  </svg>\n",
              "      </button>\n",
              "      \n",
              "  <style>\n",
              "    .colab-df-container {\n",
              "      display:flex;\n",
              "      flex-wrap:wrap;\n",
              "      gap: 12px;\n",
              "    }\n",
              "\n",
              "    .colab-df-convert {\n",
              "      background-color: #E8F0FE;\n",
              "      border: none;\n",
              "      border-radius: 50%;\n",
              "      cursor: pointer;\n",
              "      display: none;\n",
              "      fill: #1967D2;\n",
              "      height: 32px;\n",
              "      padding: 0 0 0 0;\n",
              "      width: 32px;\n",
              "    }\n",
              "\n",
              "    .colab-df-convert:hover {\n",
              "      background-color: #E2EBFA;\n",
              "      box-shadow: 0px 1px 2px rgba(60, 64, 67, 0.3), 0px 1px 3px 1px rgba(60, 64, 67, 0.15);\n",
              "      fill: #174EA6;\n",
              "    }\n",
              "\n",
              "    [theme=dark] .colab-df-convert {\n",
              "      background-color: #3B4455;\n",
              "      fill: #D2E3FC;\n",
              "    }\n",
              "\n",
              "    [theme=dark] .colab-df-convert:hover {\n",
              "      background-color: #434B5C;\n",
              "      box-shadow: 0px 1px 3px 1px rgba(0, 0, 0, 0.15);\n",
              "      filter: drop-shadow(0px 1px 2px rgba(0, 0, 0, 0.3));\n",
              "      fill: #FFFFFF;\n",
              "    }\n",
              "  </style>\n",
              "\n",
              "      <script>\n",
              "        const buttonEl =\n",
              "          document.querySelector('#df-c658c7d8-f5ac-4520-9da0-ff7e0327a733 button.colab-df-convert');\n",
              "        buttonEl.style.display =\n",
              "          google.colab.kernel.accessAllowed ? 'block' : 'none';\n",
              "\n",
              "        async function convertToInteractive(key) {\n",
              "          const element = document.querySelector('#df-c658c7d8-f5ac-4520-9da0-ff7e0327a733');\n",
              "          const dataTable =\n",
              "            await google.colab.kernel.invokeFunction('convertToInteractive',\n",
              "                                                     [key], {});\n",
              "          if (!dataTable) return;\n",
              "\n",
              "          const docLinkHtml = 'Like what you see? Visit the ' +\n",
              "            '<a target=\"_blank\" href=https://colab.research.google.com/notebooks/data_table.ipynb>data table notebook</a>'\n",
              "            + ' to learn more about interactive tables.';\n",
              "          element.innerHTML = '';\n",
              "          dataTable['output_type'] = 'display_data';\n",
              "          await google.colab.output.renderOutput(dataTable, element);\n",
              "          const docLink = document.createElement('div');\n",
              "          docLink.innerHTML = docLinkHtml;\n",
              "          element.appendChild(docLink);\n",
              "        }\n",
              "      </script>\n",
              "    </div>\n",
              "  </div>\n",
              "  "
            ],
            "text/plain": [
              "                              account_uuid  ... convert\n",
              "105   1d5dad44-d2964-2567-3eb61-16fe2a2661  ...       0\n",
              "107   1d5dad44-d2964-2567-3eb61-16fe2a2661  ...       0\n",
              "108   1d5dad44-d2964-2567-3eb61-16fe2a2661  ...       0\n",
              "302   1d5dad44-d2964-2567-3eb61-16fe2a2661  ...       0\n",
              "691   1d5dad44-d2964-2567-3eb61-16fe2a2661  ...       0\n",
              "2117  1d5dad44-d2964-2567-3eb61-16fe2a2661  ...       1\n",
              "\n",
              "[6 rows x 5 columns]"
            ]
          },
          "execution_count": 16,
          "metadata": {},
          "output_type": "execute_result"
        }
      ],
      "source": [
        "#Let's look at one account with duplicated rows\n",
        "df_quotes_train[df_quotes_train[\"account_uuid\"] == \"1d5dad44-d2964-2567-3eb61-16fe2a2661\"]"
      ]
    },
    {
      "cell_type": "markdown",
      "metadata": {
        "id": "3DLo-vh8uP2F"
      },
      "source": [
        "It appears that these duplicate do not mean anything crucial in terms of information, and there are only a few of them, so we are going to just erase them. They could be related to a potential client making the same product request to the same carrier more than once."
      ]
    },
    {
      "cell_type": "code",
      "execution_count": 17,
      "metadata": {
        "colab": {
          "base_uri": "https://localhost:8080/"
        },
        "id": "UQv8cEJ0uvGL",
        "outputId": "12c31fdd-e344-4a03-d22c-8b0f1a1a13a9"
      },
      "outputs": [
        {
          "name": "stdout",
          "output_type": "stream",
          "text": [
            "The quotes dataset has 11144 rows and 5 columns\n"
          ]
        }
      ],
      "source": [
        "df_quotes_train = df_quotes_train[~df_quotes_train.duplicated()]\n",
        "num_rows_quo, num_cols_quo = df_quotes_train.shape\n",
        "print(\"The quotes dataset has {0} rows and {1} columns\".format(num_rows_quo,num_cols_quo))"
      ]
    },
    {
      "cell_type": "markdown",
      "metadata": {
        "id": "viJ9bnLZqQXw"
      },
      "source": [
        "This dataset df_quotes_train is going to be used at the Validation step, so we are going to keep it as it is in this moment."
      ]
    },
    {
      "cell_type": "markdown",
      "metadata": {
        "id": "FnQ7twX8wf1p"
      },
      "source": [
        "### 2.2 Null values"
      ]
    },
    {
      "cell_type": "code",
      "execution_count": 18,
      "metadata": {
        "colab": {
          "base_uri": "https://localhost:8080/"
        },
        "id": "wTxC9whNwkNi",
        "outputId": "4e988fe6-3630-4414-a05b-6254d0e66351"
      },
      "outputs": [
        {
          "data": {
            "text/plain": [
              "account_uuid    0\n",
              "product         0\n",
              "premium         0\n",
              "carrier_id      0\n",
              "convert         0\n",
              "dtype: int64"
            ]
          },
          "execution_count": 18,
          "metadata": {},
          "output_type": "execute_result"
        }
      ],
      "source": [
        "#Are there any null values?\n",
        "df_quotes_train.isnull().sum()"
      ]
    },
    {
      "cell_type": "code",
      "execution_count": 19,
      "metadata": {
        "colab": {
          "base_uri": "https://localhost:8080/"
        },
        "id": "0oCmpR1jwstK",
        "outputId": "8cb31a69-c0cc-49af-cfb0-88f5f50c558f"
      },
      "outputs": [
        {
          "data": {
            "text/plain": [
              "account_uuid            0\n",
              "state                  20\n",
              "industry              194\n",
              "subindustry           194\n",
              "year_established       42\n",
              "annual_revenue         31\n",
              "total_payroll          55\n",
              "business_structure      2\n",
              "num_employees          48\n",
              "dtype: int64"
            ]
          },
          "execution_count": 19,
          "metadata": {},
          "output_type": "execute_result"
        }
      ],
      "source": [
        "df_accounts_train.isnull().sum()"
      ]
    },
    {
      "cell_type": "markdown",
      "metadata": {
        "id": "T529wLlfbR29"
      },
      "source": [
        "In order to apply a treatment to the different columns containing null values, it would be necessary to understand the meaning of them alongside the Model Owner, and decide what is best in terms of model use.\n",
        "To avoid bottlenecks, we are assuming that less than 1% of nulls in one given column can be discarded. Otherwise, we will assign the most frequent value if the proportion of null values is not higher than 5% (in which case it starts to be an issue)."
      ]
    },
    {
      "cell_type": "code",
      "execution_count": 20,
      "metadata": {
        "colab": {
          "base_uri": "https://localhost:8080/"
        },
        "id": "IACCjDrrYYGX",
        "outputId": "87e4031e-3b98-419c-d4c5-50e5dd073a10"
      },
      "outputs": [
        {
          "name": "stdout",
          "output_type": "stream",
          "text": [
            "The accounts dataset has 5636 rows and 9 columns\n"
          ]
        }
      ],
      "source": [
        "null_columns = [(name, value/num_rows_acc) for name, value in df_accounts_train.isnull().sum().iteritems() if value > 0]\n",
        "limit_nulls_discard = 0.01\n",
        "\n",
        "for (col, value) in null_columns:\n",
        "    if value < limit_nulls_discard:\n",
        "        df_accounts_train = df_accounts_train[df_accounts_train[col].notnull()]\n",
        "  \n",
        "num_rows_acc, num_cols_acc = df_accounts_train.shape\n",
        "print(\"The accounts dataset has {0} rows and {1} columns\".format(num_rows_acc, num_cols_acc))"
      ]
    },
    {
      "cell_type": "code",
      "execution_count": 21,
      "metadata": {
        "colab": {
          "base_uri": "https://localhost:8080/"
        },
        "id": "UpceVDPkn0CZ",
        "outputId": "56db4596-64b4-418d-eeac-1eeb20d9d798"
      },
      "outputs": [
        {
          "data": {
            "text/plain": [
              "[('industry', 2.785663591199432), ('subindustry', 2.785663591199432)]"
            ]
          },
          "execution_count": 21,
          "metadata": {},
          "output_type": "execute_result"
        }
      ],
      "source": [
        "[(name, value*100/num_rows_acc) for name, value in df_accounts_train.isnull().sum().iteritems() if value > 0]"
      ]
    },
    {
      "cell_type": "markdown",
      "metadata": {
        "id": "KoaMxK4CmjuM"
      },
      "source": [
        "Let's see how columns \"industry\" and \"subindustry\" values are distributed:"
      ]
    },
    {
      "cell_type": "code",
      "execution_count": 22,
      "metadata": {
        "colab": {
          "base_uri": "https://localhost:8080/"
        },
        "id": "HSpWrAVfmi6r",
        "outputId": "573c9b53-6075-4765-c654-710ba12c741b"
      },
      "outputs": [
        {
          "data": {
            "text/plain": [
              "Contractors                                         948\n",
              "Retail Trade                                        770\n",
              "Other Services                                      741\n",
              "Administrative Services and Building Maintenance    511\n",
              "Food and Accommodation                              448\n",
              "Professional, Scientific and Technical Services     405\n",
              "Manufacturing                                       211\n",
              "Consultants                                         209\n",
              "Transportation and Warehousing                      179\n",
              "Healthcare                                          163\n",
              "Real Estate                                         135\n",
              "Wholesale Trade                                     122\n",
              "Technology, Media and Telecommunications            121\n",
              "Sports, Arts, Entertainment, and Recreation         121\n",
              "Finance and Insurance                               120\n",
              "Construction                                        109\n",
              "Education                                            97\n",
              "Non Profits                                          55\n",
              "Agriculture, Forestry, Fishing and Hunting            7\n",
              "Rentals and Leasing                                   6\n",
              "Home Based Business                                   1\n",
              "Name: industry, dtype: int64"
            ]
          },
          "execution_count": 22,
          "metadata": {},
          "output_type": "execute_result"
        }
      ],
      "source": [
        "#Industry\n",
        "df_accounts_train[\"industry\"].value_counts()"
      ]
    },
    {
      "cell_type": "markdown",
      "metadata": {
        "id": "3bi9325qpk9z"
      },
      "source": [
        "Looking at the different categories, we could maybe use \"Other Services\" but we are creating a new value for \"industry\" to gather \"blank\" cases, since it seems to be a rather common case."
      ]
    },
    {
      "cell_type": "markdown",
      "metadata": {
        "id": "VYXug66nmjyz"
      },
      "source": [
        "In the case of subindustry, we are doing the same procedure, although it is already obvious that this variable is very diverse."
      ]
    },
    {
      "cell_type": "code",
      "execution_count": 23,
      "metadata": {
        "colab": {
          "base_uri": "https://localhost:8080/"
        },
        "id": "Hv8HN-5R2-Tf",
        "outputId": "d04d1355-0816-470c-997e-3538dec0cc2d"
      },
      "outputs": [
        {
          "data": {
            "text/plain": [
              "482"
            ]
          },
          "execution_count": 23,
          "metadata": {},
          "output_type": "execute_result"
        }
      ],
      "source": [
        "len(df_accounts_train[\"subindustry\"].value_counts())"
      ]
    },
    {
      "cell_type": "code",
      "execution_count": 24,
      "metadata": {
        "colab": {
          "base_uri": "https://localhost:8080/"
        },
        "id": "Jm7nW6uSoQh2",
        "outputId": "56067fe9-8113-419f-e2c6-3f5b939e1368"
      },
      "outputs": [
        {
          "data": {
            "text/plain": [
              "Janitorial Services                                                 402\n",
              "Residential Remodelers                                              229\n",
              "Landscaping Services                                                207\n",
              "Painting and Wall Covering Contractors                              137\n",
              "Limited-Service Restaurants                                         132\n",
              "Full-Service Restaurants                                            122\n",
              "Caterers                                                            118\n",
              "Finish Carpentry Contractors                                        107\n",
              "Building Inspection Services                                         96\n",
              "Electrical Contractors and Other Wiring Installation Contractors     94\n",
              "Name: subindustry, dtype: int64"
            ]
          },
          "execution_count": 24,
          "metadata": {},
          "output_type": "execute_result"
        }
      ],
      "source": [
        "df_accounts_train[\"subindustry\"].value_counts().head(10)"
      ]
    },
    {
      "cell_type": "code",
      "execution_count": 25,
      "metadata": {
        "id": "5iu1DOAv2eCr"
      },
      "outputs": [],
      "source": [
        "values = {\"industry\": \"blank\", \"subindustry\": \"blank\"}\n",
        "df_accounts_train.fillna(value=values, inplace=True)"
      ]
    },
    {
      "cell_type": "markdown",
      "metadata": {
        "id": "ezG8leo-3bHn"
      },
      "source": [
        "Again, these decisions should be confirmed by the Model Owner."
      ]
    },
    {
      "cell_type": "markdown",
      "metadata": {
        "id": "WOAyc7Lk4Akj"
      },
      "source": [
        "## 3. Understanding datasets structure"
      ]
    },
    {
      "cell_type": "markdown",
      "metadata": {
        "id": "Ucaw_Qxi4K_w"
      },
      "source": [
        "We are going to understand the datasets and restructure them as follows:\n",
        "\n",
        "* Assuming that each in quotes is actually our unit of prediction, we will bring the company info in accounts table into each quote and create a single training dataset.\n",
        "* The info in accounts table is just descriptive variables about the account id, so we can use them as variables inserted into the rows for modeling.\n",
        "* We will have for each quote: info about the quote itself, and info about the company that made it.\n",
        "\n",
        "From now on, all the treatments are made in regard to the modeling of conversion, and their goal is to provide a good prediction of 1/0s.\n",
        "Later, we will need to be careful around the account value final calculation, since this is a \"global\" concept surrounding a client, and not a single quote. Same treatments do not apply to quotes and accounts."
      ]
    },
    {
      "cell_type": "markdown",
      "metadata": {
        "id": "gaLEOHxu5JZr"
      },
      "source": [
        "### 3.1 Understanding account ids"
      ]
    },
    {
      "cell_type": "code",
      "execution_count": 26,
      "metadata": {
        "colab": {
          "base_uri": "https://localhost:8080/"
        },
        "id": "msb2JCNJ4v5n",
        "outputId": "e8c38219-3470-4ea2-dac7-d5490d208ce5"
      },
      "outputs": [
        {
          "name": "stdout",
          "output_type": "stream",
          "text": [
            "There are 5636 different ids in accounts table\n",
            "There are 5709 different ids in quotes table\n"
          ]
        }
      ],
      "source": [
        "accounts_id_list = df_accounts_train.account_uuid.unique()\n",
        "quotes_id_list = df_quotes_train.account_uuid.unique()\n",
        "print(\"There are {0} different ids in accounts table\".format(len(accounts_id_list)))\n",
        "print(\"There are {0} different ids in quotes table\".format(len(quotes_id_list)))"
      ]
    },
    {
      "cell_type": "markdown",
      "metadata": {
        "id": "tVMUwkM16ELR"
      },
      "source": [
        "This means, that there are accounts in quotes table for which there is no available company info at all, so we will quantify how many quotes it implies and we will decide if we get rid of them or we assign values."
      ]
    },
    {
      "cell_type": "code",
      "execution_count": 27,
      "metadata": {
        "id": "2v7nXawm8LC5"
      },
      "outputs": [],
      "source": [
        "df_accounts_train = df_accounts_train.rename({\"account_uuid\": \"company_id\"}, axis=\"columns\")"
      ]
    },
    {
      "cell_type": "code",
      "execution_count": 28,
      "metadata": {
        "colab": {
          "base_uri": "https://localhost:8080/"
        },
        "id": "cUsqHDfO6uLX",
        "outputId": "d6bb6b2e-85e0-4739-d42d-f0f0e8c9af5b"
      },
      "outputs": [
        {
          "name": "stdout",
          "output_type": "stream",
          "text": [
            "The quotes dataset has 11144 rows and 14 columns\n"
          ]
        }
      ],
      "source": [
        "df_quotes_full_train = df_quotes_train.merge(df_accounts_train, how=\"left\", left_on=[\"account_uuid\"],right_on=[\"company_id\"])\n",
        "num_rows_quo, num_cols_quo = df_quotes_full_train.shape\n",
        "print(\"The quotes dataset has {0} rows and {1} columns\".format(num_rows_quo,num_cols_quo))"
      ]
    },
    {
      "cell_type": "markdown",
      "metadata": {
        "id": "dy_1Buy4-Fei"
      },
      "source": [
        "There has been no duplicates in the merge, which is logical since there were no duplicated accounts_id in accounts table"
      ]
    },
    {
      "cell_type": "code",
      "execution_count": 29,
      "metadata": {
        "colab": {
          "base_uri": "https://localhost:8080/"
        },
        "id": "LwbNhlSL8qgf",
        "outputId": "37ce5502-89e2-4a66-eb44-f5e157082902"
      },
      "outputs": [
        {
          "name": "stdout",
          "output_type": "stream",
          "text": [
            "There are 126 quotes (1.1306532663316582%) that do not have company info\n"
          ]
        }
      ],
      "source": [
        "n_quotes_null = df_quotes_full_train.company_id.isnull().sum()\n",
        "print(\"There are {0} quotes ({1}%) that do not have company info\".format(n_quotes_null, 100*n_quotes_null/num_rows_quo))"
      ]
    },
    {
      "cell_type": "markdown",
      "metadata": {
        "id": "I5BIiu0y_kJW"
      },
      "source": [
        "Since there are only 126 rows without company info representing a 1% of the dataset, and knowing that we would have to recreate the whole bunch of company variables for each row (it is not a column-by-column basis null treatment), it seems fair to just get rid of them."
      ]
    },
    {
      "cell_type": "code",
      "execution_count": 30,
      "metadata": {
        "colab": {
          "base_uri": "https://localhost:8080/"
        },
        "id": "4A82Pn6KCUgk",
        "outputId": "861ff318-5dec-4fd0-dca7-07b0efae962b"
      },
      "outputs": [
        {
          "name": "stdout",
          "output_type": "stream",
          "text": [
            "The enriched quotes dataset has 11018 rows and 14 columns\n"
          ]
        }
      ],
      "source": [
        "df_quotes_full_train = df_quotes_full_train[~df_quotes_full_train.company_id.isnull()]\n",
        "num_rows_quo, num_cols_quo = df_quotes_full_train.shape\n",
        "print(\"The enriched quotes dataset has {0} rows and {1} columns\".format(num_rows_quo,num_cols_quo))"
      ]
    },
    {
      "cell_type": "markdown",
      "metadata": {
        "id": "9obygMtgJxJr"
      },
      "source": [
        "So, now we have a full quotes dataset containing all the available info, with no null values."
      ]
    },
    {
      "cell_type": "markdown",
      "metadata": {
        "id": "WUYp0nNKKrUW"
      },
      "source": [
        "### 3.2. Univariate analysis"
      ]
    },
    {
      "cell_type": "markdown",
      "metadata": {
        "id": "ZjPV7uSFKxXK"
      },
      "source": [
        "We are using the enriched quotes dataset from now on for the rest of the analysis. This dataset is not going to be splitted into train and validation sets yet, because we need to understand the variables as a whole with as many rows at we can to make conclusions and affirmation more statistically robust (e.g., taking into account the law of large numbers)."
      ]
    },
    {
      "cell_type": "markdown",
      "metadata": {
        "id": "TVYn331fL0s3"
      },
      "source": [
        "Let's take a first look at each variable individually:"
      ]
    },
    {
      "cell_type": "code",
      "execution_count": 31,
      "metadata": {
        "colab": {
          "base_uri": "https://localhost:8080/",
          "height": 510
        },
        "id": "Tq-m06KkKxCK",
        "outputId": "5fb081bc-2a3f-4017-c468-408deb428f51"
      },
      "outputs": [
        {
          "data": {
            "text/html": [
              "\n",
              "  <div id=\"df-0065e7dd-0ed2-4633-adf4-2d891a367f7e\">\n",
              "    <div class=\"colab-df-container\">\n",
              "      <div>\n",
              "<style scoped>\n",
              "    .dataframe tbody tr th:only-of-type {\n",
              "        vertical-align: middle;\n",
              "    }\n",
              "\n",
              "    .dataframe tbody tr th {\n",
              "        vertical-align: top;\n",
              "    }\n",
              "\n",
              "    .dataframe thead th {\n",
              "        text-align: right;\n",
              "    }\n",
              "</style>\n",
              "<table border=\"1\" class=\"dataframe\">\n",
              "  <thead>\n",
              "    <tr style=\"text-align: right;\">\n",
              "      <th></th>\n",
              "      <th>account_uuid</th>\n",
              "      <th>product</th>\n",
              "      <th>premium</th>\n",
              "      <th>carrier_id</th>\n",
              "      <th>convert</th>\n",
              "      <th>company_id</th>\n",
              "      <th>state</th>\n",
              "      <th>industry</th>\n",
              "      <th>subindustry</th>\n",
              "      <th>year_established</th>\n",
              "      <th>annual_revenue</th>\n",
              "      <th>total_payroll</th>\n",
              "      <th>business_structure</th>\n",
              "      <th>num_employees</th>\n",
              "    </tr>\n",
              "  </thead>\n",
              "  <tbody>\n",
              "    <tr>\n",
              "      <th>count</th>\n",
              "      <td>11018</td>\n",
              "      <td>11018</td>\n",
              "      <td>11018.000000</td>\n",
              "      <td>11018</td>\n",
              "      <td>11018.000000</td>\n",
              "      <td>11018</td>\n",
              "      <td>11018</td>\n",
              "      <td>11018</td>\n",
              "      <td>11018</td>\n",
              "      <td>11018.000000</td>\n",
              "      <td>1.101800e+04</td>\n",
              "      <td>1.101800e+04</td>\n",
              "      <td>11018</td>\n",
              "      <td>11018.000000</td>\n",
              "    </tr>\n",
              "    <tr>\n",
              "      <th>unique</th>\n",
              "      <td>5636</td>\n",
              "      <td>34</td>\n",
              "      <td>NaN</td>\n",
              "      <td>61</td>\n",
              "      <td>NaN</td>\n",
              "      <td>5636</td>\n",
              "      <td>50</td>\n",
              "      <td>22</td>\n",
              "      <td>483</td>\n",
              "      <td>NaN</td>\n",
              "      <td>NaN</td>\n",
              "      <td>NaN</td>\n",
              "      <td>9</td>\n",
              "      <td>NaN</td>\n",
              "    </tr>\n",
              "    <tr>\n",
              "      <th>top</th>\n",
              "      <td>387b20e2-28d6-4ada-8c29-9f81f50372e7</td>\n",
              "      <td>General_Liability</td>\n",
              "      <td>NaN</td>\n",
              "      <td>39</td>\n",
              "      <td>NaN</td>\n",
              "      <td>387b20e2-28d6-4ada-8c29-9f81f50372e7</td>\n",
              "      <td>FL</td>\n",
              "      <td>Contractors</td>\n",
              "      <td>Janitorial Services</td>\n",
              "      <td>NaN</td>\n",
              "      <td>NaN</td>\n",
              "      <td>NaN</td>\n",
              "      <td>Limited Liability Company</td>\n",
              "      <td>NaN</td>\n",
              "    </tr>\n",
              "    <tr>\n",
              "      <th>freq</th>\n",
              "      <td>12</td>\n",
              "      <td>4635</td>\n",
              "      <td>NaN</td>\n",
              "      <td>3145</td>\n",
              "      <td>NaN</td>\n",
              "      <td>12</td>\n",
              "      <td>1223</td>\n",
              "      <td>1974</td>\n",
              "      <td>692</td>\n",
              "      <td>NaN</td>\n",
              "      <td>NaN</td>\n",
              "      <td>NaN</td>\n",
              "      <td>5025</td>\n",
              "      <td>NaN</td>\n",
              "    </tr>\n",
              "    <tr>\n",
              "      <th>mean</th>\n",
              "      <td>NaN</td>\n",
              "      <td>NaN</td>\n",
              "      <td>1424.096304</td>\n",
              "      <td>NaN</td>\n",
              "      <td>0.606644</td>\n",
              "      <td>NaN</td>\n",
              "      <td>NaN</td>\n",
              "      <td>NaN</td>\n",
              "      <td>NaN</td>\n",
              "      <td>2013.078236</td>\n",
              "      <td>2.177069e+05</td>\n",
              "      <td>4.346987e+04</td>\n",
              "      <td>NaN</td>\n",
              "      <td>7.943456</td>\n",
              "    </tr>\n",
              "    <tr>\n",
              "      <th>std</th>\n",
              "      <td>NaN</td>\n",
              "      <td>NaN</td>\n",
              "      <td>2616.764891</td>\n",
              "      <td>NaN</td>\n",
              "      <td>0.488517</td>\n",
              "      <td>NaN</td>\n",
              "      <td>NaN</td>\n",
              "      <td>NaN</td>\n",
              "      <td>NaN</td>\n",
              "      <td>23.044216</td>\n",
              "      <td>8.736044e+05</td>\n",
              "      <td>2.348013e+05</td>\n",
              "      <td>NaN</td>\n",
              "      <td>485.114821</td>\n",
              "    </tr>\n",
              "    <tr>\n",
              "      <th>min</th>\n",
              "      <td>NaN</td>\n",
              "      <td>NaN</td>\n",
              "      <td>1.000000</td>\n",
              "      <td>NaN</td>\n",
              "      <td>0.000000</td>\n",
              "      <td>NaN</td>\n",
              "      <td>NaN</td>\n",
              "      <td>NaN</td>\n",
              "      <td>NaN</td>\n",
              "      <td>6.000000</td>\n",
              "      <td>0.000000e+00</td>\n",
              "      <td>0.000000e+00</td>\n",
              "      <td>NaN</td>\n",
              "      <td>0.000000</td>\n",
              "    </tr>\n",
              "    <tr>\n",
              "      <th>25%</th>\n",
              "      <td>NaN</td>\n",
              "      <td>NaN</td>\n",
              "      <td>500.000000</td>\n",
              "      <td>NaN</td>\n",
              "      <td>0.000000</td>\n",
              "      <td>NaN</td>\n",
              "      <td>NaN</td>\n",
              "      <td>NaN</td>\n",
              "      <td>NaN</td>\n",
              "      <td>2013.000000</td>\n",
              "      <td>3.000000e+04</td>\n",
              "      <td>0.000000e+00</td>\n",
              "      <td>NaN</td>\n",
              "      <td>0.000000</td>\n",
              "    </tr>\n",
              "    <tr>\n",
              "      <th>50%</th>\n",
              "      <td>NaN</td>\n",
              "      <td>NaN</td>\n",
              "      <td>645.000000</td>\n",
              "      <td>NaN</td>\n",
              "      <td>1.000000</td>\n",
              "      <td>NaN</td>\n",
              "      <td>NaN</td>\n",
              "      <td>NaN</td>\n",
              "      <td>NaN</td>\n",
              "      <td>2017.000000</td>\n",
              "      <td>6.500000e+04</td>\n",
              "      <td>0.000000e+00</td>\n",
              "      <td>NaN</td>\n",
              "      <td>0.000000</td>\n",
              "    </tr>\n",
              "    <tr>\n",
              "      <th>75%</th>\n",
              "      <td>NaN</td>\n",
              "      <td>NaN</td>\n",
              "      <td>1268.750000</td>\n",
              "      <td>NaN</td>\n",
              "      <td>1.000000</td>\n",
              "      <td>NaN</td>\n",
              "      <td>NaN</td>\n",
              "      <td>NaN</td>\n",
              "      <td>NaN</td>\n",
              "      <td>2017.000000</td>\n",
              "      <td>1.500000e+05</td>\n",
              "      <td>3.000000e+04</td>\n",
              "      <td>NaN</td>\n",
              "      <td>1.000000</td>\n",
              "    </tr>\n",
              "    <tr>\n",
              "      <th>max</th>\n",
              "      <td>NaN</td>\n",
              "      <td>NaN</td>\n",
              "      <td>62111.000000</td>\n",
              "      <td>NaN</td>\n",
              "      <td>1.000000</td>\n",
              "      <td>NaN</td>\n",
              "      <td>NaN</td>\n",
              "      <td>NaN</td>\n",
              "      <td>NaN</td>\n",
              "      <td>2107.000000</td>\n",
              "      <td>2.000000e+07</td>\n",
              "      <td>7.000000e+06</td>\n",
              "      <td>NaN</td>\n",
              "      <td>36000.000000</td>\n",
              "    </tr>\n",
              "  </tbody>\n",
              "</table>\n",
              "</div>\n",
              "      <button class=\"colab-df-convert\" onclick=\"convertToInteractive('df-0065e7dd-0ed2-4633-adf4-2d891a367f7e')\"\n",
              "              title=\"Convert this dataframe to an interactive table.\"\n",
              "              style=\"display:none;\">\n",
              "        \n",
              "  <svg xmlns=\"http://www.w3.org/2000/svg\" height=\"24px\"viewBox=\"0 0 24 24\"\n",
              "       width=\"24px\">\n",
              "    <path d=\"M0 0h24v24H0V0z\" fill=\"none\"/>\n",
              "    <path d=\"M18.56 5.44l.94 2.06.94-2.06 2.06-.94-2.06-.94-.94-2.06-.94 2.06-2.06.94zm-11 1L8.5 8.5l.94-2.06 2.06-.94-2.06-.94L8.5 2.5l-.94 2.06-2.06.94zm10 10l.94 2.06.94-2.06 2.06-.94-2.06-.94-.94-2.06-.94 2.06-2.06.94z\"/><path d=\"M17.41 7.96l-1.37-1.37c-.4-.4-.92-.59-1.43-.59-.52 0-1.04.2-1.43.59L10.3 9.45l-7.72 7.72c-.78.78-.78 2.05 0 2.83L4 21.41c.39.39.9.59 1.41.59.51 0 1.02-.2 1.41-.59l7.78-7.78 2.81-2.81c.8-.78.8-2.07 0-2.86zM5.41 20L4 18.59l7.72-7.72 1.47 1.35L5.41 20z\"/>\n",
              "  </svg>\n",
              "      </button>\n",
              "      \n",
              "  <style>\n",
              "    .colab-df-container {\n",
              "      display:flex;\n",
              "      flex-wrap:wrap;\n",
              "      gap: 12px;\n",
              "    }\n",
              "\n",
              "    .colab-df-convert {\n",
              "      background-color: #E8F0FE;\n",
              "      border: none;\n",
              "      border-radius: 50%;\n",
              "      cursor: pointer;\n",
              "      display: none;\n",
              "      fill: #1967D2;\n",
              "      height: 32px;\n",
              "      padding: 0 0 0 0;\n",
              "      width: 32px;\n",
              "    }\n",
              "\n",
              "    .colab-df-convert:hover {\n",
              "      background-color: #E2EBFA;\n",
              "      box-shadow: 0px 1px 2px rgba(60, 64, 67, 0.3), 0px 1px 3px 1px rgba(60, 64, 67, 0.15);\n",
              "      fill: #174EA6;\n",
              "    }\n",
              "\n",
              "    [theme=dark] .colab-df-convert {\n",
              "      background-color: #3B4455;\n",
              "      fill: #D2E3FC;\n",
              "    }\n",
              "\n",
              "    [theme=dark] .colab-df-convert:hover {\n",
              "      background-color: #434B5C;\n",
              "      box-shadow: 0px 1px 3px 1px rgba(0, 0, 0, 0.15);\n",
              "      filter: drop-shadow(0px 1px 2px rgba(0, 0, 0, 0.3));\n",
              "      fill: #FFFFFF;\n",
              "    }\n",
              "  </style>\n",
              "\n",
              "      <script>\n",
              "        const buttonEl =\n",
              "          document.querySelector('#df-0065e7dd-0ed2-4633-adf4-2d891a367f7e button.colab-df-convert');\n",
              "        buttonEl.style.display =\n",
              "          google.colab.kernel.accessAllowed ? 'block' : 'none';\n",
              "\n",
              "        async function convertToInteractive(key) {\n",
              "          const element = document.querySelector('#df-0065e7dd-0ed2-4633-adf4-2d891a367f7e');\n",
              "          const dataTable =\n",
              "            await google.colab.kernel.invokeFunction('convertToInteractive',\n",
              "                                                     [key], {});\n",
              "          if (!dataTable) return;\n",
              "\n",
              "          const docLinkHtml = 'Like what you see? Visit the ' +\n",
              "            '<a target=\"_blank\" href=https://colab.research.google.com/notebooks/data_table.ipynb>data table notebook</a>'\n",
              "            + ' to learn more about interactive tables.';\n",
              "          element.innerHTML = '';\n",
              "          dataTable['output_type'] = 'display_data';\n",
              "          await google.colab.output.renderOutput(dataTable, element);\n",
              "          const docLink = document.createElement('div');\n",
              "          docLink.innerHTML = docLinkHtml;\n",
              "          element.appendChild(docLink);\n",
              "        }\n",
              "      </script>\n",
              "    </div>\n",
              "  </div>\n",
              "  "
            ],
            "text/plain": [
              "                                account_uuid  ... num_employees\n",
              "count                                  11018  ...  11018.000000\n",
              "unique                                  5636  ...           NaN\n",
              "top     387b20e2-28d6-4ada-8c29-9f81f50372e7  ...           NaN\n",
              "freq                                      12  ...           NaN\n",
              "mean                                     NaN  ...      7.943456\n",
              "std                                      NaN  ...    485.114821\n",
              "min                                      NaN  ...      0.000000\n",
              "25%                                      NaN  ...      0.000000\n",
              "50%                                      NaN  ...      0.000000\n",
              "75%                                      NaN  ...      1.000000\n",
              "max                                      NaN  ...  36000.000000\n",
              "\n",
              "[11 rows x 14 columns]"
            ]
          },
          "execution_count": 31,
          "metadata": {},
          "output_type": "execute_result"
        }
      ],
      "source": [
        "df_quotes_full_train.describe(include='all')"
      ]
    },
    {
      "cell_type": "markdown",
      "metadata": {
        "id": "tuiDchCEMVwE"
      },
      "source": [
        "Interesting things we can observe from the above table:\n",
        "* There are 34 types of products, which means it would not be a very useful idea to model the conversion separately for each one.\n",
        "* All continuous variables have some min and max values that need to be checked, since they could be errors or outliers.\n",
        "* It is important to note that all categorical variables are assumed to be representing the whole \"universe\" of values for each other. Meaning that, if there is for example a product, state or carrier that is not present in this dataset, the model is not gonna take it into account when making future predictions. These cases should be reviewed.\n",
        "* The year of establishment is going to be rebuild as \"age\".\n",
        "* There is a 60% of conversions over the total number of quotes, that means 1s and 0s are fairly balance in our dataset.\n",
        "* As aforementioned, subindustry is a very diverse variable with 483 different values. This means it is not a very useful column for modeling, we may have to group it. However, grouping this variable is conceptually building variable industry, so we better just not use variable subindustry. In this regard, we could consult with Business/Model owners if there is a particular subindustry that we need to take into account in the model, and see if it is worthy to build a particular subindustry flag."
      ]
    },
    {
      "cell_type": "code",
      "execution_count": 32,
      "metadata": {
        "id": "M1GKJ6XbTWTb"
      },
      "outputs": [],
      "source": [
        "#Dropping unuseful columns\n",
        "df_quotes_full_train.drop([\"company_id\", \"subindustry\"], axis=1, inplace=True)\n",
        "\n",
        "#Formatting year for analysis\n",
        "df_quotes_full_train[\"year_obj\"] =  df_quotes_full_train[\"year_established\"].astype(str)"
      ]
    },
    {
      "cell_type": "code",
      "execution_count": 33,
      "metadata": {
        "id": "UNjJ9g-mS6Kd"
      },
      "outputs": [],
      "source": [
        "name_vars_id = ['account_uuid']"
      ]
    },
    {
      "cell_type": "code",
      "execution_count": 34,
      "metadata": {
        "id": "j9qJFUTkTJ68"
      },
      "outputs": [],
      "source": [
        "name_vars_object = [name for name,tipo in df_quotes_full_train.dtypes.iteritems() if 'object' in str(tipo) and name not in name_vars_id]\n",
        "name_vars_float = [name for name, tipo in df_quotes_full_train.dtypes.iteritems() if 'float' in str(tipo)]\n",
        "name_vars_int = [name for name, tipo in df_quotes_full_train.dtypes.iteritems() if 'int' in str(tipo)]"
      ]
    },
    {
      "cell_type": "markdown",
      "metadata": {
        "id": "uJm91qvaRTWE"
      },
      "source": [
        "#### 3.2.1. Categorical variables"
      ]
    },
    {
      "cell_type": "code",
      "execution_count": 35,
      "metadata": {
        "colab": {
          "base_uri": "https://localhost:8080/",
          "height": 0
        },
        "id": "PsVP9sf6VRWc",
        "outputId": "fb604e6c-04f6-477a-c493-fe6e7903725b"
      },
      "outputs": [
        {
          "name": "stdout",
          "output_type": "stream",
          "text": [
            "--------\n",
            "\n",
            "product :\n",
            "\n",
            "General_Liability                                   42.067526\n",
            "Business_Owners_Policy_BOP                          31.094573\n",
            "Workers_Compensation                                 7.578508\n",
            "CW_Professional_Liability                            4.683246\n",
            "Commercial_Auto                                      4.410964\n",
            "CW_Errors_Omissions_E_O                              2.486840\n",
            "CW_Umbrella_Policy                                   1.361409\n",
            "Package                                              1.316028\n",
            "Commercial_Property                                  0.807769\n",
            "CW_Inland_Marine                                     0.780541\n",
            "CW_Directors_Officers_D_O                            0.717009\n",
            "CW_Special_Events                                    0.517335\n",
            "Liquor_Liability                                     0.335814\n",
            "CW_Disability_Insurance                              0.299510\n",
            "CW_Garage_Liability                                  0.272282\n",
            "Cyber_Liability                                      0.263206\n",
            "CW_Surety_Bond                                       0.217825\n",
            "CW_GL_and_E_O                                        0.163369\n",
            "CW_Other                                             0.117989\n",
            "CW_Medical_Malpractice                               0.090761\n",
            "CW_Employment_Practices_Liability_Insurance_EPLI     0.090761\n",
            "CW_Hired_Non_Owned_Auto                              0.090761\n",
            "CW_Crime_Liability                                   0.072608\n",
            "CW_Fidelity_Bond                                     0.036304\n",
            "CW_Product_Liability                                 0.036304\n",
            "CW_BOP_E_O                                           0.018152\n",
            "Miscellaneous_Contract_Bond                          0.009076\n",
            "CW_Pollution_Liability                               0.009076\n",
            "CW_Employee_Benefits_Liability                       0.009076\n",
            "CW_Fiduciary_Bond                                    0.009076\n",
            "ERISA_Bond                                           0.009076\n",
            "Accident_Group                                       0.009076\n",
            "CW_Ocean_Marine                                      0.009076\n",
            "Inland_Marine_Commercial                             0.009076\n",
            "Name: product, dtype: float64\n",
            "\n",
            "\n",
            "--------\n",
            "\n",
            "carrier_id :\n",
            "\n",
            "39    28.544200\n",
            "31    17.317117\n",
            "60    17.153748\n",
            "30     9.738610\n",
            "29     5.890361\n",
            "9      3.303685\n",
            "53     3.076783\n",
            "21     2.786350\n",
            "73     2.178254\n",
            "22     1.724451\n",
            "40     1.161735\n",
            "72     1.116355\n",
            "71     0.626248\n",
            "56     0.589944\n",
            "48     0.580868\n",
            "1      0.499183\n",
            "50     0.462879\n",
            "47     0.408423\n",
            "74     0.281358\n",
            "4      0.235977\n",
            "64     0.226901\n",
            "67     0.217825\n",
            "59     0.217825\n",
            "24     0.172445\n",
            "77     0.154293\n",
            "18     0.154293\n",
            "14     0.145217\n",
            "76     0.136141\n",
            "27     0.127065\n",
            "3      0.090761\n",
            "49     0.072608\n",
            "33     0.063532\n",
            "17     0.054456\n",
            "2      0.054456\n",
            "19     0.045380\n",
            "46     0.036304\n",
            "38     0.036304\n",
            "28     0.036304\n",
            "41     0.027228\n",
            "68     0.027228\n",
            "15     0.018152\n",
            "69     0.018152\n",
            "32     0.018152\n",
            "13     0.018152\n",
            "7      0.009076\n",
            "62     0.009076\n",
            "54     0.009076\n",
            "11     0.009076\n",
            "45     0.009076\n",
            "34     0.009076\n",
            "42     0.009076\n",
            "23     0.009076\n",
            "57     0.009076\n",
            "65     0.009076\n",
            "5      0.009076\n",
            "43     0.009076\n",
            "52     0.009076\n",
            "36     0.009076\n",
            "63     0.009076\n",
            "25     0.009076\n",
            "16     0.009076\n",
            "Name: carrier_id, dtype: float64\n",
            "\n",
            "\n",
            "--------\n",
            "\n",
            "state :\n",
            "\n",
            "FL    11.100018\n",
            "CA    10.573607\n",
            "NY     7.514975\n",
            "TX     5.509167\n",
            "GA     5.082592\n",
            "NJ     4.556181\n",
            "VA     3.339989\n",
            "PA     3.321837\n",
            "NC     3.276457\n",
            "SC     3.231076\n",
            "IL     2.686513\n",
            "LA     2.650209\n",
            "MA     2.495916\n",
            "OH     2.359775\n",
            "MI     2.269014\n",
            "CO     2.232710\n",
            "MD     2.223634\n",
            "AL     1.924124\n",
            "TN     1.869668\n",
            "MO     1.642766\n",
            "AZ     1.561082\n",
            "WA     1.270648\n",
            "WI     1.270648\n",
            "IN     1.225268\n",
            "NV     1.188964\n",
            "OK     1.143583\n",
            "KY     1.116355\n",
            "MS     1.061899\n",
            "OR     1.043747\n",
            "UT     0.898530\n",
            "CT     0.862225\n",
            "MN     0.798693\n",
            "AR     0.780541\n",
            "KS     0.689780\n",
            "DE     0.617172\n",
            "NH     0.544563\n",
            "DC     0.499183\n",
            "ID     0.471955\n",
            "NM     0.435651\n",
            "RI     0.417499\n",
            "ME     0.417499\n",
            "WV     0.363042\n",
            "IA     0.326738\n",
            "WY     0.308586\n",
            "MT     0.245054\n",
            "NE     0.235977\n",
            "VT     0.136141\n",
            "ND     0.117989\n",
            "SD     0.072608\n",
            "HI     0.018152\n",
            "Name: state, dtype: float64\n",
            "\n",
            "\n",
            "--------\n",
            "\n",
            "industry :\n",
            "\n",
            "Contractors                                         17.916137\n",
            "Retail Trade                                        16.309675\n",
            "Other Services                                      13.477945\n",
            "Professional, Scientific and Technical Services      9.030677\n",
            "Administrative Services and Building Maintenance     7.868942\n",
            "Food and Accommodation                               6.843347\n",
            "Consultants                                          4.456344\n",
            "Technology, Media and Telecommunications             3.149392\n",
            "Manufacturing                                        2.904338\n",
            "Healthcare                                           2.622981\n",
            "Wholesale Trade                                      2.296243\n",
            "Transportation and Warehousing                       2.205482\n",
            "Real Estate                                          2.005809\n",
            "blank                                                1.769831\n",
            "Sports, Arts, Entertainment, and Recreation          1.669995\n",
            "Construction                                         1.533854\n",
            "Finance and Insurance                                1.515702\n",
            "Education                                            1.488473\n",
            "Non Profits                                          0.771465\n",
            "Rentals and Leasing                                  0.081685\n",
            "Agriculture, Forestry, Fishing and Hunting           0.072608\n",
            "Home Based Business                                  0.009076\n",
            "Name: industry, dtype: float64\n",
            "\n",
            "\n",
            "--------\n",
            "\n",
            "business_structure :\n",
            "\n",
            "Limited Liability Company    45.607188\n",
            "Individual                   34.116900\n",
            "Corporation                  15.937557\n",
            "Partnership                   1.488473\n",
            "Non-Profit                    1.415865\n",
            "Other                         1.016518\n",
            "Limited Partnership           0.381194\n",
            "Not sure yet                  0.018152\n",
            "Trust                         0.018152\n",
            "Name: business_structure, dtype: float64\n",
            "\n",
            "\n",
            "--------\n",
            "\n",
            "year_obj :\n",
            "\n",
            "2017.0    36.585587\n",
            "2018.0    19.096025\n",
            "2016.0     7.578508\n",
            "2015.0     6.244327\n",
            "2014.0     4.220367\n",
            "2012.0     3.194772\n",
            "2013.0     3.022327\n",
            "2008.0     1.942276\n",
            "2007.0     1.896896\n",
            "2010.0     1.651842\n",
            "2011.0     1.606462\n",
            "2009.0     1.316028\n",
            "2006.0     0.998366\n",
            "2003.0     0.916682\n",
            "2005.0     0.871302\n",
            "2002.0     0.853149\n",
            "2000.0     0.825921\n",
            "1998.0     0.816845\n",
            "2004.0     0.726085\n",
            "1999.0     0.453803\n",
            "1997.0     0.408423\n",
            "1995.0     0.390270\n",
            "2001.0     0.326738\n",
            "1988.0     0.317662\n",
            "1993.0     0.281358\n",
            "1992.0     0.254130\n",
            "1985.0     0.245054\n",
            "1987.0     0.245054\n",
            "1996.0     0.245054\n",
            "1990.0     0.235977\n",
            "1994.0     0.226901\n",
            "1989.0     0.217825\n",
            "1976.0     0.199673\n",
            "1984.0     0.154293\n",
            "1983.0     0.136141\n",
            "1991.0     0.108913\n",
            "1982.0     0.108913\n",
            "1980.0     0.108913\n",
            "1981.0     0.099837\n",
            "1978.0     0.090761\n",
            "1916.0     0.081685\n",
            "1974.0     0.072608\n",
            "1986.0     0.072608\n",
            "1970.0     0.063532\n",
            "1968.0     0.063532\n",
            "1979.0     0.054456\n",
            "1977.0     0.045380\n",
            "1920.0     0.045380\n",
            "1972.0     0.036304\n",
            "1973.0     0.036304\n",
            "1955.0     0.027228\n",
            "1966.0     0.027228\n",
            "1906.0     0.018152\n",
            "1963.0     0.018152\n",
            "1928.0     0.018152\n",
            "1957.0     0.009076\n",
            "1001.0     0.009076\n",
            "1971.0     0.009076\n",
            "1965.0     0.009076\n",
            "6.0        0.009076\n",
            "1938.0     0.009076\n",
            "1967.0     0.009076\n",
            "2107.0     0.009076\n",
            "1937.0     0.009076\n",
            "1952.0     0.009076\n",
            "1960.0     0.009076\n",
            "Name: year_obj, dtype: float64\n",
            "\n",
            "\n"
          ]
        },
        {
          "data": {
            "image/png": "[encoded data removed]",
            "text/plain": [
              "<Figure size 432x288 with 1 Axes>"
            ]
          },
          "metadata": {
            "needs_background": "light"
          },
          "output_type": "display_data"
        },
        {
          "data": {
            "image/png": "[encoded data removed]",
            "text/plain": [
              "<Figure size 432x288 with 1 Axes>"
            ]
          },
          "metadata": {
            "needs_background": "light"
          },
          "output_type": "display_data"
        },
        {
          "data": {
            "image/png": "[encoded data removed]",
            "text/plain": [
              "<Figure size 432x288 with 1 Axes>"
            ]
          },
          "metadata": {
            "needs_background": "light"
          },
          "output_type": "display_data"
        },
        {
          "data": {
            "image/png": "[encoded data removed]",
            "text/plain": [
              "<Figure size 432x288 with 1 Axes>"
            ]
          },
          "metadata": {
            "needs_background": "light"
          },
          "output_type": "display_data"
        },
        {
          "data": {
            "image/png": "[encoded data removed]",
            "text/plain": [
              "<Figure size 432x288 with 1 Axes>"
            ]
          },
          "metadata": {
            "needs_background": "light"
          },
          "output_type": "display_data"
        },
        {
          "data": {
            "image/png": "[encoded data removed]",
            "text/plain": [
              "<Figure size 432x288 with 1 Axes>"
            ]
          },
          "metadata": {
            "needs_background": "light"
          },
          "output_type": "display_data"
        }
      ],
      "source": [
        "pd.set_option(\"display.max_rows\", None)\n",
        "for name in name_vars_object:\n",
        "  print(\"--------\\n\")\n",
        "  print(name, ':\\n')\n",
        "  print(df_quotes_full_train[name].value_counts() / num_rows_quo * 100)\n",
        "  print(\"\\n\")\n",
        "\n",
        "  plt.figure()\n",
        "  sns.countplot(y=name, data=df_quotes_full_train, color=\"c\", order = df_quotes_full_train[name].value_counts().index)\n",
        "  \n"
      ]
    },
    {
      "cell_type": "markdown",
      "metadata": {
        "id": "L_z6JbbhZ_fF"
      },
      "source": [
        "- State: it appears that all 50 states in the US are represented.\n",
        "- For Product, Carrier, State and Industry, we are going to group categories with less than 1% of quotes into a category \"Others\", to avoid residual values.\n",
        "- Business structure is clearly concentrated around Limited Liability Company, Individual, and Corporation, so the rest can be grouped into one residual set.\n",
        "- Year is actually transforming into age, but with this analysis we can detect that there are some wrong values like \"6\" (will be deleted), \"1001\" (typo for 2001), or \"2107\" (typo for 2017).\n"
      ]
    },
    {
      "cell_type": "markdown",
      "metadata": {
        "id": "jfqdeEo1lwwT"
      },
      "source": [
        "It is important to note that these grouping does not intend to reorder variables regarding the separation of target variable, it is only a way of avoiding many residual values within each column. This is why we are creating only one new group in each case.\n",
        "Segmentation into major categories (optimal binning) should take into account the target variable \"convert\", we are not implementing this technique this time.\n",
        "It is also a matter of trade-off between complexity and number of dummy variables to create."
      ]
    },
    {
      "cell_type": "code",
      "execution_count": 36,
      "metadata": {
        "colab": {
          "base_uri": "https://localhost:8080/"
        },
        "id": "bjfMBg-PSoMe",
        "outputId": "ac19fad2-f346-4169-d2ac-09e97eb99c18"
      },
      "outputs": [
        {
          "name": "stderr",
          "output_type": "stream",
          "text": [
            "/usr/local/lib/python3.7/dist-packages/pandas/core/indexing.py:1817: SettingWithCopyWarning: \n",
            "A value is trying to be set on a copy of a slice from a DataFrame.\n",
            "Try using .loc[row_indexer,col_indexer] = value instead\n",
            "\n",
            "See the caveats in the documentation: https://pandas.pydata.org/pandas-docs/stable/user_guide/indexing.html#returning-a-view-versus-a-copy\n",
            "  self._setitem_single_column(loc, value, pi)\n"
          ]
        }
      ],
      "source": [
        "#Correcting the year\n",
        "df_quotes_full_train = df_quotes_full_train[~(df_quotes_full_train[\"year_established\"] == 6)]\n",
        "df_quotes_full_train.loc[df_quotes_full_train[\"year_established\"] == 2107, [\"year_established\"]] = 2017\n",
        "df_quotes_full_train.loc[df_quotes_full_train[\"year_established\"] == 1001, [\"year_established\"]] = 2001"
      ]
    },
    {
      "cell_type": "code",
      "execution_count": 37,
      "metadata": {
        "colab": {
          "base_uri": "https://localhost:8080/"
        },
        "id": "3aOCcS0DqqUl",
        "outputId": "1b97a66e-5ab1-4433-cb24-9b96570039db"
      },
      "outputs": [
        {
          "name": "stderr",
          "output_type": "stream",
          "text": [
            "/usr/local/lib/python3.7/dist-packages/ipykernel_launcher.py:16: SettingWithCopyWarning: \n",
            "A value is trying to be set on a copy of a slice from a DataFrame.\n",
            "Try using .loc[row_indexer,col_indexer] = value instead\n",
            "\n",
            "See the caveats in the documentation: https://pandas.pydata.org/pandas-docs/stable/user_guide/indexing.html#returning-a-view-versus-a-copy\n",
            "  app.launch_new_instance()\n",
            "/usr/local/lib/python3.7/dist-packages/ipykernel_launcher.py:17: SettingWithCopyWarning: \n",
            "A value is trying to be set on a copy of a slice from a DataFrame.\n",
            "Try using .loc[row_indexer,col_indexer] = value instead\n",
            "\n",
            "See the caveats in the documentation: https://pandas.pydata.org/pandas-docs/stable/user_guide/indexing.html#returning-a-view-versus-a-copy\n",
            "/usr/local/lib/python3.7/dist-packages/ipykernel_launcher.py:18: SettingWithCopyWarning: \n",
            "A value is trying to be set on a copy of a slice from a DataFrame.\n",
            "Try using .loc[row_indexer,col_indexer] = value instead\n",
            "\n",
            "See the caveats in the documentation: https://pandas.pydata.org/pandas-docs/stable/user_guide/indexing.html#returning-a-view-versus-a-copy\n",
            "/usr/local/lib/python3.7/dist-packages/ipykernel_launcher.py:19: SettingWithCopyWarning: \n",
            "A value is trying to be set on a copy of a slice from a DataFrame.\n",
            "Try using .loc[row_indexer,col_indexer] = value instead\n",
            "\n",
            "See the caveats in the documentation: https://pandas.pydata.org/pandas-docs/stable/user_guide/indexing.html#returning-a-view-versus-a-copy\n",
            "/usr/local/lib/python3.7/dist-packages/ipykernel_launcher.py:20: SettingWithCopyWarning: \n",
            "A value is trying to be set on a copy of a slice from a DataFrame.\n",
            "Try using .loc[row_indexer,col_indexer] = value instead\n",
            "\n",
            "See the caveats in the documentation: https://pandas.pydata.org/pandas-docs/stable/user_guide/indexing.html#returning-a-view-versus-a-copy\n"
          ]
        }
      ],
      "source": [
        "#Grouping residual values\n",
        "#TODO: do it by filtering count_values on 1%\n",
        "major_bu_structures = [\"Limited Liability Company\", \"Individual\", \"Corporation\"]\n",
        "major_products = [\"General_Liability\", \"Business_Owners_Policy_BOP\", \"Workers_Compensation\", \"CW_Professional_Liability\", \"Commercial_Auto\", \"CW_Errors_Omissions_E_O\", \"CW_Umbrella_Policy\", \"Package\"]\n",
        "major_carriers = [\"39\", \"31\", \"60\",\"30\",\"29\",\"9\",\"53\",\"21\",\"73\",\"22\",\"40\",\"72\"]\n",
        "major_states = [\"FL\",\"CA\",\"NY\",\"TX\",\"GA\",\"NJ\",\"VA\",\"PA\",\"NC\",\"SC\",\"IL\",\"LA\",\"MA\",\"OH\",\"MI\",\"CO\",\"MD\",\"AL\",\"TN\",\"MO\",\"AZ\",\"WA\",\"WI\",\"IN\",\"NV\",\"OK\",\"KY\",\"MS\",\"OR\"]\n",
        "major_industries = [\"Contractors\", \"Retail Trade\", \"Other Services\", \"Professional, Scientific and Technical Services\", \"Administrative Services and Building Maintenance\", \"Food and Accommodation\", \"Consultants\", \"Technology, Media and Telecommunications\", \"Manufacturing\", \"Healthcare\", \"Wholesale Trade\", \"Transportation and Warehousing\", \"Real Estate\", \"Sports, Arts, Entertainment, and Recreation\", \"Construction\", \"Finance and Insurance\", \"Education\" ]\n",
        "#blank industry is left out and back into residual group\n",
        "\n",
        "def grouping_residuals(var_value: str, major_values: list) -> str:\n",
        "  if var_value in major_values:\n",
        "    return var_value\n",
        "  else:\n",
        "    return \"residuals\"\n",
        "\n",
        "df_quotes_full_train['product_res'] = df_quotes_full_train['product'].apply(lambda x: grouping_residuals(x, major_products))\n",
        "df_quotes_full_train['carrier_id_res'] = df_quotes_full_train['carrier_id'].apply(lambda x: grouping_residuals(x, major_carriers))\n",
        "df_quotes_full_train['state_res'] = df_quotes_full_train['state'].apply(lambda x: grouping_residuals(x, major_states))\n",
        "df_quotes_full_train['industry_res'] = df_quotes_full_train['industry'].apply(lambda x: grouping_residuals(x, major_industries))\n",
        "df_quotes_full_train['business_structure_res'] = df_quotes_full_train['business_structure'].apply(lambda x: grouping_residuals(x, major_bu_structures))"
      ]
    },
    {
      "cell_type": "markdown",
      "metadata": {
        "id": "uS5t6rUJ-4hU"
      },
      "source": [
        "Let's review current columns and filter the ones we no longer need:"
      ]
    },
    {
      "cell_type": "code",
      "execution_count": 38,
      "metadata": {
        "colab": {
          "base_uri": "https://localhost:8080/"
        },
        "id": "ET07Uygv6loM",
        "outputId": "6001ac44-a95d-42ac-95c2-50df194800a8"
      },
      "outputs": [
        {
          "data": {
            "text/plain": [
              "account_uuid               object\n",
              "product                    object\n",
              "premium                   float64\n",
              "carrier_id                 object\n",
              "convert                     int64\n",
              "state                      object\n",
              "industry                   object\n",
              "year_established          float64\n",
              "annual_revenue            float64\n",
              "total_payroll             float64\n",
              "business_structure         object\n",
              "num_employees             float64\n",
              "year_obj                   object\n",
              "product_res                object\n",
              "carrier_id_res             object\n",
              "state_res                  object\n",
              "industry_res               object\n",
              "business_structure_res     object\n",
              "dtype: object"
            ]
          },
          "execution_count": 38,
          "metadata": {},
          "output_type": "execute_result"
        }
      ],
      "source": [
        "df_quotes_full_train.dtypes"
      ]
    },
    {
      "cell_type": "code",
      "execution_count": 39,
      "metadata": {
        "id": "xb7IKwN7_WXJ"
      },
      "outputs": [],
      "source": [
        "df_quotes_full_train.drop([\"product\", \"carrier_id\", \"state\", \"industry\", \"business_structure\", \"year_obj\"], axis=1, inplace=True)"
      ]
    },
    {
      "cell_type": "code",
      "execution_count": 40,
      "metadata": {
        "colab": {
          "base_uri": "https://localhost:8080/"
        },
        "id": "xGiaSYM9_Tp5",
        "outputId": "43417d45-2977-430f-ff42-c056196e11b1"
      },
      "outputs": [
        {
          "name": "stdout",
          "output_type": "stream",
          "text": [
            "The enriched quotes dataset has 11017 rows and 12 columns\n"
          ]
        }
      ],
      "source": [
        "num_rows_quo, num_cols_quo = df_quotes_full_train.shape\n",
        "print(\"The enriched quotes dataset has {0} rows and {1} columns\".format(num_rows_quo,num_cols_quo))"
      ]
    },
    {
      "cell_type": "code",
      "execution_count": 41,
      "metadata": {
        "colab": {
          "base_uri": "https://localhost:8080/"
        },
        "id": "470rsHjiBm_p",
        "outputId": "3b203b57-49cb-41b6-dd3c-a92e3e82a327"
      },
      "outputs": [
        {
          "data": {
            "text/plain": [
              "account_uuid               object\n",
              "premium                   float64\n",
              "convert                     int64\n",
              "year_established          float64\n",
              "annual_revenue            float64\n",
              "total_payroll             float64\n",
              "num_employees             float64\n",
              "product_res                object\n",
              "carrier_id_res             object\n",
              "state_res                  object\n",
              "industry_res               object\n",
              "business_structure_res     object\n",
              "dtype: object"
            ]
          },
          "execution_count": 41,
          "metadata": {},
          "output_type": "execute_result"
        }
      ],
      "source": [
        "df_quotes_full_train.dtypes"
      ]
    },
    {
      "cell_type": "code",
      "execution_count": 42,
      "metadata": {
        "id": "iDUQwznrBkiI"
      },
      "outputs": [],
      "source": [
        "name_vars_object = [name for name,tipo in df_quotes_full_train.dtypes.iteritems() if 'object' in str(tipo) and name not in name_vars_id]\n",
        "name_vars_float = [name for name, tipo in df_quotes_full_train.dtypes.iteritems() if 'float' in str(tipo)]\n",
        "name_vars_int = [name for name, tipo in df_quotes_full_train.dtypes.iteritems() if 'int' in str(tipo)]"
      ]
    },
    {
      "cell_type": "markdown",
      "metadata": {
        "id": "IoD1gh5AA1Zj"
      },
      "source": [
        "#####3.2.1.1 Creation of dummy variables"
      ]
    },
    {
      "cell_type": "markdown",
      "metadata": {
        "id": "iGQqokhyA9tU"
      },
      "source": [
        "Before creating dummies, we need to ensure that string values comply with proper nomenclature"
      ]
    },
    {
      "cell_type": "code",
      "execution_count": 43,
      "metadata": {
        "id": "0JVsUPqMBZ2p"
      },
      "outputs": [],
      "source": [
        "def string_to_nomenclature(text):\n",
        "    return text.strip().replace(',','_').replace('/','_').replace('.','_').replace(' ','_').replace('-','_').replace('(','_').replace(')','_').lower()"
      ]
    },
    {
      "cell_type": "code",
      "execution_count": 44,
      "metadata": {
        "id": "KPM5j-e-BgVZ"
      },
      "outputs": [],
      "source": [
        "df_quotes_full_train[name_vars_object] = df_quotes_full_train[name_vars_object].applymap(lambda x: string_to_nomenclature(x))\n",
        "\n",
        "#Building dummies in a separate dataset\n",
        "df_quotes_full_train_dummies = df_quotes_full_train.copy()\n",
        "df_quotes_full_train_dummies = pd.get_dummies(df_quotes_full_train_dummies,columns=name_vars_object)"
      ]
    },
    {
      "cell_type": "markdown",
      "metadata": {
        "id": "6y65sKfQEjMO"
      },
      "source": [
        "This way, having two different datasets, we can try two types of classification algorithms: those who take only numerical variables and those who can take both numerical and categorical variables"
      ]
    },
    {
      "cell_type": "markdown",
      "metadata": {
        "id": "ItKyLCCVRZH6"
      },
      "source": [
        "#### 3.2.2. Continuous variables"
      ]
    },
    {
      "cell_type": "markdown",
      "metadata": {
        "id": "luMZp-WcFcfq"
      },
      "source": [
        "First, we need to build the \"age\" from the year of establishment"
      ]
    },
    {
      "cell_type": "code",
      "execution_count": 45,
      "metadata": {
        "colab": {
          "base_uri": "https://localhost:8080/"
        },
        "id": "PBSPCjL0FbmR",
        "outputId": "681e9014-f5c7-415a-85e0-7f94c4278638"
      },
      "outputs": [
        {
          "name": "stderr",
          "output_type": "stream",
          "text": [
            "/usr/local/lib/python3.7/dist-packages/ipykernel_launcher.py:1: FutureWarning: The pandas.datetime class is deprecated and will be removed from pandas in a future version. Import from datetime module instead.\n",
            "  \"\"\"Entry point for launching an IPython kernel.\n",
            "/usr/local/lib/python3.7/dist-packages/ipykernel_launcher.py:2: FutureWarning: The pandas.datetime class is deprecated and will be removed from pandas in a future version. Import from datetime module instead.\n",
            "  \n"
          ]
        }
      ],
      "source": [
        "df_quotes_full_train_dummies[\"company_age\"] = pd.datetime.now().year - df_quotes_full_train_dummies[\"year_established\"]\n",
        "df_quotes_full_train[\"company_age\"] = pd.datetime.now().year - df_quotes_full_train[\"year_established\"]"
      ]
    },
    {
      "cell_type": "code",
      "execution_count": 46,
      "metadata": {
        "id": "EZCnObDWU8gV"
      },
      "outputs": [],
      "source": [
        "df_quotes_full_train_dummies.drop([\"year_established\"], axis=1, inplace=True)\n",
        "df_quotes_full_train.drop([\"year_established\"], axis=1, inplace=True)\n",
        "\n",
        "#For the analysis of continuous variables we are going to use the dataset without dummies, same conclusions and treatments will apply to the dummies dataset which is exactly a copy\n",
        "name_vars_object = [name for name,tipo in df_quotes_full_train.dtypes.iteritems() if 'object' in str(tipo) and name not in name_vars_id]\n",
        "name_vars_float = [name for name, tipo in df_quotes_full_train.dtypes.iteritems() if 'float' in str(tipo)]\n",
        "name_vars_int = [name for name, tipo in df_quotes_full_train.dtypes.iteritems() if 'int' in str(tipo)]"
      ]
    },
    {
      "cell_type": "code",
      "execution_count": 47,
      "metadata": {
        "colab": {
          "base_uri": "https://localhost:8080/"
        },
        "id": "JR2g9_mSP01M",
        "outputId": "ab2c9fa9-4dfa-4b05-94e4-8b5e5c21f50d"
      },
      "outputs": [
        {
          "name": "stdout",
          "output_type": "stream",
          "text": [
            "The dummies quotes dataset has 11017 rows and 81 columns\n"
          ]
        }
      ],
      "source": [
        "num_rows_quo, num_cols_quo = df_quotes_full_train_dummies.shape\n",
        "print(\"The dummies quotes dataset has {0} rows and {1} columns\".format(num_rows_quo,num_cols_quo))"
      ]
    },
    {
      "cell_type": "code",
      "execution_count": 48,
      "metadata": {
        "colab": {
          "base_uri": "https://localhost:8080/",
          "height": 1000
        },
        "id": "OAQKUzt6HDE8",
        "outputId": "fca1a876-38f3-4d9e-cd3c-30db3582404e"
      },
      "outputs": [
        {
          "data": {
            "image/png": "[encoded data removed]",
            "text/plain": [
              "<Figure size 432x288 with 1 Axes>"
            ]
          },
          "metadata": {
            "needs_background": "light"
          },
          "output_type": "display_data"
        },
        {
          "data": {
            "image/png": "[encoded data removed]",
            "text/plain": [
              "<Figure size 432x288 with 1 Axes>"
            ]
          },
          "metadata": {
            "needs_background": "light"
          },
          "output_type": "display_data"
        },
        {
          "data": {
            "image/png": "[encoded data removed]",
            "text/plain": [
              "<Figure size 432x288 with 1 Axes>"
            ]
          },
          "metadata": {
            "needs_background": "light"
          },
          "output_type": "display_data"
        },
        {
          "data": {
            "image/png": "[encoded data removed]",
            "text/plain": [
              "<Figure size 432x288 with 1 Axes>"
            ]
          },
          "metadata": {
            "needs_background": "light"
          },
          "output_type": "display_data"
        },
        {
          "data": {
            "image/png": "[encoded data removed]",
            "text/plain": [
              "<Figure size 432x288 with 1 Axes>"
            ]
          },
          "metadata": {
            "needs_background": "light"
          },
          "output_type": "display_data"
        }
      ],
      "source": [
        "for col in name_vars_float:\n",
        "  plt.figure()\n",
        "  df_quotes_full_train.boxplot(column=col)"
      ]
    },
    {
      "cell_type": "markdown",
      "metadata": {
        "id": "ZXnAMQlLKTXB"
      },
      "source": [
        "It can be seen that this variables are very dense at the center, not very disperse, but they present a lot of upper \"outliers\".\n",
        "Even though those values could make sense given the nature of the variables, they could be a problem in terms of modeling.\n",
        "In premium and number of employees, we can get rid of those residual high values above 50000 and 200 respectively, and see what happens then."
      ]
    },
    {
      "cell_type": "code",
      "execution_count": 49,
      "metadata": {
        "id": "R4-MrLMxPbg_"
      },
      "outputs": [],
      "source": [
        "df_quotes_full_train = df_quotes_full_train[df_quotes_full_train[\"num_employees\"] < 200]\n",
        "df_quotes_full_train = df_quotes_full_train[df_quotes_full_train[\"premium\"] < 50000]\n",
        "\n",
        "df_quotes_full_train_dummies = df_quotes_full_train_dummies[df_quotes_full_train_dummies[\"num_employees\"] < 200]\n",
        "df_quotes_full_train_dummies = df_quotes_full_train_dummies[df_quotes_full_train_dummies[\"premium\"] < 50000]"
      ]
    },
    {
      "cell_type": "code",
      "execution_count": 50,
      "metadata": {
        "colab": {
          "base_uri": "https://localhost:8080/"
        },
        "id": "IOUo6Cz2Pdae",
        "outputId": "09baedac-1c1d-4a4b-9456-98664a811e62"
      },
      "outputs": [
        {
          "name": "stdout",
          "output_type": "stream",
          "text": [
            "The dummies quotes dataset has 11013 rows and 81 columns\n"
          ]
        }
      ],
      "source": [
        "num_rows_quo, num_cols_quo = df_quotes_full_train_dummies.shape\n",
        "print(\"The dummies quotes dataset has {0} rows and {1} columns\".format(num_rows_quo,num_cols_quo))"
      ]
    },
    {
      "cell_type": "markdown",
      "metadata": {
        "id": "iqGlaIDaLMGt"
      },
      "source": [
        "We have lost barely 4 rows, so it was fair to get rid of those maximum values. Let's take a look at the IQRs:"
      ]
    },
    {
      "cell_type": "code",
      "execution_count": 51,
      "metadata": {
        "id": "LMfi7y57M25_"
      },
      "outputs": [],
      "source": [
        "#Obtain Q1 and Q3\n",
        "col_iqr_values = []\n",
        "\n",
        "for col in name_vars_float:\n",
        "    q1, q3 = df_quotes_full_train[col].quantile([0.25,0.75])\n",
        "    col_iqr_values.append((col,q1,q3))"
      ]
    },
    {
      "cell_type": "code",
      "execution_count": 52,
      "metadata": {
        "colab": {
          "base_uri": "https://localhost:8080/"
        },
        "id": "D_JxYglsM_rf",
        "outputId": "ffdbe49e-2a29-41fa-d064-f5ad6abc5d97"
      },
      "outputs": [
        {
          "name": "stdout",
          "output_type": "stream",
          "text": [
            "In column premium there are 0 low-outliers and 659 (5.983837283210751%) up-outliers\n",
            "In column annual_revenue there are 0 low-outliers and 636 (5.774993189866521%) up-outliers\n",
            "In column total_payroll there are 0 low-outliers and 555 (5.039498774175974%) up-outliers\n",
            "In column num_employees there are 0 low-outliers and 627 (5.693271588123127%) up-outliers\n",
            "In column company_age there are 0 low-outliers and 487 (4.4220466721147735%) up-outliers\n"
          ]
        },
        {
          "data": {
            "text/plain": [
              "{'annual_revenue': (-450000.0, 630000.0),\n",
              " 'company_age': (-11.0, 25.0),\n",
              " 'num_employees': (-4.0, 5.0),\n",
              " 'premium': (-2572.0, 4340.0),\n",
              " 'total_payroll': (-120000.0, 150000.0)}"
            ]
          },
          "execution_count": 52,
          "metadata": {},
          "output_type": "execute_result"
        }
      ],
      "source": [
        "n = 4 #we are trying [1.5:0.5:5]\n",
        "col_limits_values = {}\n",
        "for name, q1, q3 in col_iqr_values:\n",
        "    iqr = q3-q1\n",
        "    lower_lim = q1 - iqr*n\n",
        "    upper_lim = q3 + iqr*n\n",
        "\n",
        "    outliers_low = len(df_quotes_full_train[df_quotes_full_train[name] < lower_lim])\n",
        "    outliers_up = len(df_quotes_full_train[df_quotes_full_train[name] > upper_lim])\n",
        "    \n",
        "    col_limits_values[name] = (lower_lim,upper_lim)\n",
        "\n",
        "    print(\"In column {0} there are {1} low-outliers and {2} ({3}%) up-outliers\".format(name,outliers_low,outliers_up,100*outliers_up/num_rows_quo))\n",
        "\n",
        "col_limits_values"
      ]
    },
    {
      "cell_type": "markdown",
      "metadata": {
        "id": "smuFNLz6OK79"
      },
      "source": [
        "Even with an extreme expanding factor of 4 or 5, there are several outliers related to this specific sample. We should not break more the unit of modeling by filtering so many rows, specially without having an expert stakeholder to discuss this issue with.\n",
        "\n",
        "We definitely would need the opinion of the Data Owner to tell if these are errors or normal values that we can accept.\n",
        "\n",
        "We are not keeping the rows in this case, in order to avoid a bad training of the model or even risking convergency."
      ]
    },
    {
      "cell_type": "code",
      "execution_count": 53,
      "metadata": {
        "id": "d_q-Utsq2A3d"
      },
      "outputs": [],
      "source": [
        "#We do not need to limit the lower bound since it's naturally 0 (see describe cell)\n",
        "for col in col_limits_values:\n",
        "  df_quotes_full_train = df_quotes_full_train[df_quotes_full_train[col] <= col_limits_values[col][1]]\n",
        "  df_quotes_full_train_dummies = df_quotes_full_train_dummies[df_quotes_full_train_dummies[col] <= col_limits_values[col][1]]"
      ]
    },
    {
      "cell_type": "code",
      "execution_count": 54,
      "metadata": {
        "colab": {
          "base_uri": "https://localhost:8080/"
        },
        "id": "ZdfTjoel1ZKg",
        "outputId": "d0e1eeb7-540d-4958-bfca-a6482aeb5f83"
      },
      "outputs": [
        {
          "name": "stdout",
          "output_type": "stream",
          "text": [
            "Both datasets have 9032 rows and 81 columns\n"
          ]
        }
      ],
      "source": [
        "num_rows_quo, num_cols_quo = df_quotes_full_train_dummies.shape\n",
        "print(\"Both datasets have {0} rows and {1} columns\".format(num_rows_quo,num_cols_quo))"
      ]
    },
    {
      "cell_type": "markdown",
      "metadata": {
        "id": "Y4tKCw_zT77M"
      },
      "source": [
        "## 4. Understanding the target variable and modeling"
      ]
    },
    {
      "cell_type": "markdown",
      "metadata": {
        "id": "ZChVSER6UbEM"
      },
      "source": [
        "So far, we know that we need to train a model to predict \"convert\" variable. But this is actually only a part of the challenge, since the account value is the actual final goal.\n",
        "\n",
        "In terms of modeling, we are taking \"convert\" as the target variable and we will choose a model based on the robustness of the algorithm versus this column, but we will also check RMSE in terms of account value at the end of the analysis.\n",
        "Hence, we need to keep in mind this \"two\" target variables.\n",
        "\n",
        "Also, when making predictions we have to be sure that all rows are available at the end in order to calculate account value. That means that, in case a data treatment applies and some quote rows are discarded (due to lack of information or major errors), we will have to assume that it is not possible to make predictions over the accounts related to those rows."
      ]
    },
    {
      "cell_type": "markdown",
      "metadata": {
        "id": "F0N9L3zEuiyD"
      },
      "source": [
        "### 4.1 Conversion rate"
      ]
    },
    {
      "cell_type": "markdown",
      "metadata": {
        "id": "hrmY83HgVxyo"
      },
      "source": [
        "The \"convert\" variable is distributed as follows:"
      ]
    },
    {
      "cell_type": "code",
      "execution_count": 55,
      "metadata": {
        "colab": {
          "base_uri": "https://localhost:8080/"
        },
        "id": "znZIAmYgfNYS",
        "outputId": "69f5da30-dee8-4ef5-cf6c-361f3113e2ff"
      },
      "outputs": [
        {
          "data": {
            "text/plain": [
              "1    60.983171\n",
              "0    39.016829\n",
              "Name: convert, dtype: float64"
            ]
          },
          "execution_count": 55,
          "metadata": {},
          "output_type": "execute_result"
        }
      ],
      "source": [
        "df_quotes_full_train.convert.value_counts() / num_rows_quo * 100"
      ]
    },
    {
      "cell_type": "markdown",
      "metadata": {
        "id": "OvUo0lgQfwXB"
      },
      "source": [
        "It seems to be almost balanced, so we are not over/undersampling the 1/0s. It is also a good conversion rate."
      ]
    },
    {
      "cell_type": "markdown",
      "metadata": {
        "id": "5XoDuCR8iWBY"
      },
      "source": [
        "It can be interesting to observe how the target variable behaves regarding some other variables like: premium, annual revenue, product, carrier or state"
      ]
    },
    {
      "cell_type": "code",
      "execution_count": 56,
      "metadata": {
        "id": "KCP30aoWitpu"
      },
      "outputs": [],
      "source": [
        "df_quotes_full_train[\"premium_bins\"] = pd.qcut(df_quotes_full_train['premium'], q=10, precision=0)"
      ]
    },
    {
      "cell_type": "code",
      "execution_count": 57,
      "metadata": {
        "colab": {
          "base_uri": "https://localhost:8080/",
          "height": 385
        },
        "id": "RtHnvxO7jBfl",
        "outputId": "ecd2aab1-5a37-48a0-d509-93c469ae804a"
      },
      "outputs": [
        {
          "data": {
            "text/plain": [
              "<matplotlib.axes._subplots.AxesSubplot at 0x7fa72be72950>"
            ]
          },
          "execution_count": 57,
          "metadata": {},
          "output_type": "execute_result"
        },
        {
          "data": {
            "image/png": "[encoded data removed]",
            "text/plain": [
              "<Figure size 432x288 with 1 Axes>"
            ]
          },
          "metadata": {
            "needs_background": "light"
          },
          "output_type": "display_data"
        }
      ],
      "source": [
        "df_quotes_full_train.groupby([\"premium_bins\"]).convert.sum().plot(kind=\"bar\")"
      ]
    },
    {
      "cell_type": "markdown",
      "metadata": {
        "id": "3xlufyeFldqt"
      },
      "source": [
        "The conversion rate appears to be equally distributed along equally sized bins of premiums, except for the bin aroun 500-530$ where it experiments a decrease."
      ]
    },
    {
      "cell_type": "code",
      "execution_count": 58,
      "metadata": {
        "id": "XFZgdliohLXE"
      },
      "outputs": [],
      "source": [
        "df_quotes_full_train[\"annual_revenue_bins\"] = pd.qcut(df_quotes_full_train['annual_revenue'], q=9, precision=0)"
      ]
    },
    {
      "cell_type": "code",
      "execution_count": 59,
      "metadata": {
        "colab": {
          "base_uri": "https://localhost:8080/",
          "height": 414
        },
        "id": "CjZlmv0_kAnS",
        "outputId": "a6569277-371a-425e-aca7-51b532531f21"
      },
      "outputs": [
        {
          "data": {
            "text/plain": [
              "<matplotlib.axes._subplots.AxesSubplot at 0x7fa72bf4e4d0>"
            ]
          },
          "execution_count": 59,
          "metadata": {},
          "output_type": "execute_result"
        },
        {
          "data": {
            "image/png": "[encoded data removed]",
            "text/plain": [
              "<Figure size 432x288 with 1 Axes>"
            ]
          },
          "metadata": {
            "needs_background": "light"
          },
          "output_type": "display_data"
        }
      ],
      "source": [
        "df_quotes_full_train.groupby([\"annual_revenue_bins\"]).convert.sum().plot(kind=\"bar\")"
      ]
    },
    {
      "cell_type": "markdown",
      "metadata": {
        "id": "QXZMbDzullss"
      },
      "source": [
        "The conversion does not follow a steady behaviour through equally sized bins of annual revenue."
      ]
    },
    {
      "cell_type": "code",
      "execution_count": 60,
      "metadata": {
        "colab": {
          "base_uri": "https://localhost:8080/",
          "height": 455
        },
        "id": "wdvzqe0HkbO6",
        "outputId": "bb3d971c-1de3-47bf-e1c4-5859c238496a"
      },
      "outputs": [
        {
          "data": {
            "text/plain": [
              "<matplotlib.axes._subplots.AxesSubplot at 0x7fa72bf71d50>"
            ]
          },
          "execution_count": 60,
          "metadata": {},
          "output_type": "execute_result"
        },
        {
          "data": {
            "image/png": "[encoded data removed]",
            "text/plain": [
              "<Figure size 432x288 with 1 Axes>"
            ]
          },
          "metadata": {
            "needs_background": "light"
          },
          "output_type": "display_data"
        }
      ],
      "source": [
        "df_quotes_full_train.groupby([\"product_res\"]).convert.mean().plot(rot=90)"
      ]
    },
    {
      "cell_type": "code",
      "execution_count": 61,
      "metadata": {
        "colab": {
          "base_uri": "https://localhost:8080/",
          "height": 451
        },
        "id": "0LDUzCNjngCd",
        "outputId": "0aaac6a9-0ab6-4af5-b42b-122d7eb72204"
      },
      "outputs": [
        {
          "data": {
            "text/plain": [
              "<matplotlib.axes._subplots.AxesSubplot at 0x7fa72bfe1410>"
            ]
          },
          "execution_count": 61,
          "metadata": {},
          "output_type": "execute_result"
        },
        {
          "data": {
            "image/png": "[encoded data removed]",
            "text/plain": [
              "<Figure size 432x288 with 1 Axes>"
            ]
          },
          "metadata": {
            "needs_background": "light"
          },
          "output_type": "display_data"
        }
      ],
      "source": [
        "df_quotes_full_train.groupby([\"product_res\"]).convert.sum().plot(kind=\"bar\")"
      ]
    },
    {
      "cell_type": "markdown",
      "metadata": {
        "id": "4q6TG_QSmqPn"
      },
      "source": [
        "Commercial Auto, CW Errors Omissions and Package appear to be the products with higher relative conversion rates, taking into account its size.\n",
        "From a total perspective, business_owners_policy_bop and general_liability are the products that concentrate the higher number of quotes"
      ]
    },
    {
      "cell_type": "code",
      "execution_count": 62,
      "metadata": {
        "colab": {
          "base_uri": "https://localhost:8080/",
          "height": 345
        },
        "id": "zcgCBhAGkn-A",
        "outputId": "4818f6b9-9164-47f4-9159-618e3f3753b2"
      },
      "outputs": [
        {
          "data": {
            "text/plain": [
              "<matplotlib.axes._subplots.AxesSubplot at 0x7fa72c07c590>"
            ]
          },
          "execution_count": 62,
          "metadata": {},
          "output_type": "execute_result"
        },
        {
          "data": {
            "image/png": "[encoded data removed]",
            "text/plain": [
              "<Figure size 432x288 with 1 Axes>"
            ]
          },
          "metadata": {
            "needs_background": "light"
          },
          "output_type": "display_data"
        }
      ],
      "source": [
        "df_quotes_full_train.groupby([\"carrier_id_res\"]).convert.mean().plot(rot=90)"
      ]
    },
    {
      "cell_type": "code",
      "execution_count": 63,
      "metadata": {
        "colab": {
          "base_uri": "https://localhost:8080/",
          "height": 342
        },
        "id": "TZ64rTKVnyHD",
        "outputId": "d3d34352-f457-481d-eeb0-4fb5f2763808"
      },
      "outputs": [
        {
          "data": {
            "text/plain": [
              "<matplotlib.axes._subplots.AxesSubplot at 0x7fa72c0b7650>"
            ]
          },
          "execution_count": 63,
          "metadata": {},
          "output_type": "execute_result"
        },
        {
          "data": {
            "image/png": "[encoded data removed]",
            "text/plain": [
              "<Figure size 432x288 with 1 Axes>"
            ]
          },
          "metadata": {
            "needs_background": "light"
          },
          "output_type": "display_data"
        }
      ],
      "source": [
        "df_quotes_full_train.groupby([\"carrier_id_res\"]).convert.sum().plot(kind=\"bar\")"
      ]
    },
    {
      "cell_type": "markdown",
      "metadata": {
        "id": "pk3-MgDUmzCP"
      },
      "source": [
        "Carrier 40 and 53 are the ones with higher conversion rates, taking into account their size in terms of quotes.\n",
        "From a total perspective, carriers 31 and 39 are the ones that concentrate the higher number of quotes"
      ]
    },
    {
      "cell_type": "code",
      "execution_count": 64,
      "metadata": {
        "colab": {
          "base_uri": "https://localhost:8080/",
          "height": 310
        },
        "id": "7wejD-sonLTj",
        "outputId": "371afce6-852f-4239-8800-6c8f8822109d"
      },
      "outputs": [
        {
          "data": {
            "text/plain": [
              "<matplotlib.axes._subplots.AxesSubplot at 0x7fa72c0f0c50>"
            ]
          },
          "execution_count": 64,
          "metadata": {},
          "output_type": "execute_result"
        },
        {
          "data": {
            "image/png": "[encoded data removed]",
            "text/plain": [
              "<Figure size 432x288 with 1 Axes>"
            ]
          },
          "metadata": {
            "needs_background": "light"
          },
          "output_type": "display_data"
        }
      ],
      "source": [
        "df_quotes_full_train.groupby([\"state_res\"]).convert.mean().plot(rot=90)"
      ]
    },
    {
      "cell_type": "code",
      "execution_count": 65,
      "metadata": {
        "colab": {
          "base_uri": "https://localhost:8080/",
          "height": 342
        },
        "id": "2DgaY9r8n9xj",
        "outputId": "3a8911bd-f7dc-4d1e-8ca9-4f05ef1a46e9"
      },
      "outputs": [
        {
          "data": {
            "text/plain": [
              "<matplotlib.axes._subplots.AxesSubplot at 0x7fa72c102890>"
            ]
          },
          "execution_count": 65,
          "metadata": {},
          "output_type": "execute_result"
        },
        {
          "data": {
            "image/png": "[encoded data removed]",
            "text/plain": [
              "<Figure size 432x288 with 1 Axes>"
            ]
          },
          "metadata": {
            "needs_background": "light"
          },
          "output_type": "display_data"
        }
      ],
      "source": [
        "df_quotes_full_train.groupby([\"state_res\"]).convert.sum().plot(kind=\"bar\")"
      ]
    },
    {
      "cell_type": "markdown",
      "metadata": {
        "id": "e8KbO0eHnSPN"
      },
      "source": [
        "Conversion rates reach their maximum in Kentucky and Oregan with respect to their size in quotes. From a total perspective, California and Florida are the ones that concentrate the higher number of quotes. All the residual 21 states almost make up to the same amount of quotes than California."
      ]
    },
    {
      "cell_type": "code",
      "execution_count": 66,
      "metadata": {
        "id": "lTqqVP-mh2iR"
      },
      "outputs": [],
      "source": [
        "df_quotes_full_train.drop([\"premium_bins\",\"annual_revenue_bins\"], axis=1,inplace=True)"
      ]
    },
    {
      "cell_type": "markdown",
      "metadata": {
        "id": "aqgfghknuqFj"
      },
      "source": [
        "### 4.2. Correlation analysis"
      ]
    },
    {
      "cell_type": "markdown",
      "metadata": {
        "id": "JgvRpQK8wziT"
      },
      "source": [
        "We are using the dummies dataset for this analysis since it contains all variables in numerical format."
      ]
    },
    {
      "cell_type": "code",
      "execution_count": 67,
      "metadata": {
        "colab": {
          "base_uri": "https://localhost:8080/",
          "height": 638
        },
        "id": "lltTBcirvKNb",
        "outputId": "be31676f-12c1-41e0-aea7-8b0a36aba9de"
      },
      "outputs": [
        {
          "data": {
            "text/plain": [
              "<matplotlib.axes._subplots.AxesSubplot at 0x7fa72c0f9fd0>"
            ]
          },
          "execution_count": 67,
          "metadata": {},
          "output_type": "execute_result"
        },
        {
          "data": {
            "image/png": "[encoded data removed]",
            "text/plain": [
              "<Figure size 432x288 with 2 Axes>"
            ]
          },
          "metadata": {
            "needs_background": "light"
          },
          "output_type": "display_data"
        }
      ],
      "source": [
        "matrix_corr_p = df_quotes_full_train_dummies.drop(\"account_uuid\", axis=1).corr(method='pearson')\n",
        "sns.heatmap(matrix_corr_p, fmt='.1f',linewidths=0.5,xticklabels=list(matrix_corr_p))"
      ]
    },
    {
      "cell_type": "code",
      "execution_count": 68,
      "metadata": {
        "colab": {
          "base_uri": "https://localhost:8080/",
          "height": 605
        },
        "id": "wn2TOzbLxdmQ",
        "outputId": "bd94d765-865b-40bc-82f4-6e922b2ac631"
      },
      "outputs": [
        {
          "data": {
            "text/plain": [
              "<matplotlib.axes._subplots.AxesSubplot at 0x7fa72c79ff90>"
            ]
          },
          "execution_count": 68,
          "metadata": {},
          "output_type": "execute_result"
        },
        {
          "data": {
            "image/png": "[encoded data removed]",
            "text/plain": [
              "<Figure size 432x288 with 2 Axes>"
            ]
          },
          "metadata": {
            "needs_background": "light"
          },
          "output_type": "display_data"
        }
      ],
      "source": [
        "matrix_corr_s = df_quotes_full_train_dummies.drop(\"account_uuid\", axis=1).corr(method='spearman')\n",
        "sns.heatmap(matrix_corr_s, fmt='.1f',linewidths=0.5)"
      ]
    },
    {
      "cell_type": "markdown",
      "metadata": {
        "id": "tJA3LN0PyWI-"
      },
      "source": [
        "Let's use Spearman's correlation matrix since it can detect in general monotonous relationships"
      ]
    },
    {
      "cell_type": "code",
      "execution_count": 69,
      "metadata": {
        "colab": {
          "base_uri": "https://localhost:8080/"
        },
        "id": "NMwFbuu-yjrs",
        "outputId": "c6001530-8be8-41bf-a905-120867cffc5a"
      },
      "outputs": [
        {
          "name": "stdout",
          "output_type": "stream",
          "text": [
            "Variable num_employees is correlated with variable total_payroll up to 0.7606232518686319\n",
            "Variable carrier_id_res_53 is correlated with variable product_res_commercial_auto up to 0.7109988290101685\n",
            "Variable business_structure_res_limited_liability_company is correlated with variable business_structure_res_individual up to -0.7145312618676787\n"
          ]
        },
        {
          "data": {
            "text/plain": [
              "[('num_employees', 'total_payroll', 0.7606232518686319),\n",
              " ('carrier_id_res_53', 'product_res_commercial_auto', 0.7109988290101685),\n",
              " ('business_structure_res_limited_liability_company',\n",
              "  'business_structure_res_individual',\n",
              "  -0.7145312618676787)]"
            ]
          },
          "execution_count": 69,
          "metadata": {},
          "output_type": "execute_result"
        }
      ],
      "source": [
        "num_var = len(matrix_corr_s)\n",
        "\n",
        "corr_value = 0.7\n",
        "corr_variables = []\n",
        "\n",
        "for row in range(1,num_var):\n",
        "    for col in range(0,row):\n",
        "        if abs(matrix_corr_s.iloc[row,col]) >= corr_value:\n",
        "            print(\"Variable {0} is correlated with variable {1} up to {2}\".format(list(matrix_corr_s)[row],list(matrix_corr_s)[col],matrix_corr_s.iloc[row,col]))\n",
        "            corr_variables.append((list(matrix_corr_s)[row],list(matrix_corr_s)[col],matrix_corr_s.iloc[row,col]))\n",
        "                                  \n",
        "corr_variables"
      ]
    },
    {
      "cell_type": "markdown",
      "metadata": {
        "id": "GLd8pdb12P5u"
      },
      "source": [
        "It seems natural to find that number of employees and total payroll are highly correlated. On the other hand, we can guess that carrier 53 might be an insurance company specifically dedicated/specialized in Commercial Auto products. First results in Google shows that Forbes says Progressive is the insurance company for this kind of product with highest market share, could it be this one?"
      ]
    },
    {
      "cell_type": "code",
      "execution_count": 70,
      "metadata": {
        "colab": {
          "base_uri": "https://localhost:8080/"
        },
        "id": "PniBbMaq1v4P",
        "outputId": "afae4862-2cda-473c-bfb9-ba46ba569d34"
      },
      "outputs": [
        {
          "name": "stdout",
          "output_type": "stream",
          "text": [
            "0.01673338907452738\n",
            "0.010903634117711995\n"
          ]
        }
      ],
      "source": [
        "print(matrix_corr_s.loc[\"num_employees\",\"convert\"])\n",
        "print(matrix_corr_s.loc[\"total_payroll\",\"convert\"])"
      ]
    },
    {
      "cell_type": "code",
      "execution_count": 71,
      "metadata": {
        "colab": {
          "base_uri": "https://localhost:8080/"
        },
        "id": "yRtN-IRH10u_",
        "outputId": "4d5e1912-a529-43cf-a32e-dccfa5e0101d"
      },
      "outputs": [
        {
          "name": "stdout",
          "output_type": "stream",
          "text": [
            "0.07025020072499612\n",
            "0.06596802794456821\n"
          ]
        }
      ],
      "source": [
        "print(matrix_corr_s.loc[\"carrier_id_res_53\",\"convert\"])\n",
        "print(matrix_corr_s.loc[\"product_res_commercial_auto\",\"convert\"])"
      ]
    },
    {
      "cell_type": "code",
      "execution_count": 72,
      "metadata": {
        "colab": {
          "base_uri": "https://localhost:8080/"
        },
        "id": "YDMbqz-j7MVA",
        "outputId": "faa6d663-b962-41de-c754-f9d84034915e"
      },
      "outputs": [
        {
          "name": "stdout",
          "output_type": "stream",
          "text": [
            "-0.012320806584401453\n",
            "0.004570311561901901\n"
          ]
        }
      ],
      "source": [
        "print(matrix_corr_s.loc[\"business_structure_res_limited_liability_company\",\"convert\"])\n",
        "print(matrix_corr_s.loc[\"business_structure_res_individual\",\"convert\"])"
      ]
    },
    {
      "cell_type": "markdown",
      "metadata": {
        "id": "D_iMhITi3c7i"
      },
      "source": [
        "* We can keep number of employees and discard total payroll\n",
        "* Since the correlationships with the target are almost similar, let's keep product_res_commercial_auto in order not to stick to a specific carrier, and not to lose generality.\n",
        "* We can keep business_structure_res_limited_liability_company and discard business_structure_res_individual"
      ]
    },
    {
      "cell_type": "code",
      "execution_count": 73,
      "metadata": {
        "id": "H7WVx6YA3ntx"
      },
      "outputs": [],
      "source": [
        "df_quotes_full_train_dummies.drop(\"total_payroll\", axis=1, inplace=True)\n",
        "df_quotes_full_train.drop(\"total_payroll\", axis=1, inplace=True)"
      ]
    },
    {
      "cell_type": "code",
      "execution_count": 74,
      "metadata": {
        "id": "lE22nj194YfO"
      },
      "outputs": [],
      "source": [
        "df_quotes_full_train_dummies.drop(\"carrier_id_res_53\", axis=1, inplace=True)"
      ]
    },
    {
      "cell_type": "code",
      "execution_count": 75,
      "metadata": {
        "id": "7XCx8EcL75po"
      },
      "outputs": [],
      "source": [
        "df_quotes_full_train_dummies.drop(\"business_structure_res_individual\", axis=1, inplace=True)"
      ]
    },
    {
      "cell_type": "markdown",
      "metadata": {
        "id": "KmfTt3Hh5uoR"
      },
      "source": [
        "### 4.3 Modeling"
      ]
    },
    {
      "cell_type": "markdown",
      "metadata": {
        "id": "y0QK1HePnymY"
      },
      "source": [
        "First, the dataset with dummies will be used to model a Logistic Regression and a Random Forest classifiers.\n",
        "Then we will also try [CatBoost](https://catboost.ai/en/docs/) with the dataset containing plain continuous and categorial variables"
      ]
    },
    {
      "cell_type": "code",
      "execution_count": 76,
      "metadata": {
        "id": "HzeA4SC_59IH"
      },
      "outputs": [],
      "source": [
        "random.seed(4)\n",
        "seed_value = random.randint(1,1234567)"
      ]
    },
    {
      "cell_type": "code",
      "execution_count": 77,
      "metadata": {
        "id": "kki4W1gIftYg"
      },
      "outputs": [],
      "source": [
        "ids_prem = df_quotes_full_train_dummies[[\"account_uuid\",\"premium\"]]"
      ]
    },
    {
      "cell_type": "code",
      "execution_count": 78,
      "metadata": {
        "id": "D9lEp56266TU"
      },
      "outputs": [],
      "source": [
        "X = df_quotes_full_train_dummies.drop(\"convert\", axis=1)\n",
        "y = df_quotes_full_train_dummies[[\"account_uuid\",\"convert\"]]"
      ]
    },
    {
      "cell_type": "code",
      "execution_count": 79,
      "metadata": {
        "id": "nUZrTsqYfrhy"
      },
      "outputs": [],
      "source": [
        "Xcat = df_quotes_full_train.drop(\"convert\", axis=1)\n",
        "ycat = df_quotes_full_train[[\"account_uuid\",\"convert\"]]"
      ]
    },
    {
      "cell_type": "markdown",
      "metadata": {
        "id": "TeqVtCzC6x1F"
      },
      "source": [
        "#### 4.3.1 Variables importance and selection"
      ]
    },
    {
      "cell_type": "markdown",
      "metadata": {
        "id": "rfzUNBIy7aDS"
      },
      "source": [
        "A quick random forest model will allow to assess wich variables can explain better the convert variable, to make an initial selection:"
      ]
    },
    {
      "cell_type": "code",
      "execution_count": 80,
      "metadata": {
        "colab": {
          "base_uri": "https://localhost:8080/"
        },
        "id": "_raCCz_Y6MdQ",
        "outputId": "b19b2aba-45bf-4c15-831f-cc271d44ce34"
      },
      "outputs": [
        {
          "name": "stderr",
          "output_type": "stream",
          "text": [
            "/usr/local/lib/python3.7/dist-packages/ipykernel_launcher.py:2: DataConversionWarning: A column-vector y was passed when a 1d array was expected. Please change the shape of y to (n_samples,), for example using ravel().\n",
            "  \n"
          ]
        },
        {
          "data": {
            "text/plain": [
              "RandomForestClassifier(random_state=495029)"
            ]
          },
          "execution_count": 80,
          "metadata": {},
          "output_type": "execute_result"
        }
      ],
      "source": [
        "rf = RandomForestClassifier(random_state=seed_value)\n",
        "rf.fit(X.drop([\"account_uuid\"], axis=1),y.drop([\"account_uuid\"], axis=1))"
      ]
    },
    {
      "cell_type": "code",
      "execution_count": 81,
      "metadata": {
        "id": "VQs7jJl16GIn"
      },
      "outputs": [],
      "source": [
        "ft_importances_df = pd.DataFrame(X.drop([\"account_uuid\"], axis=1).columns,columns=['features'])\n",
        "ft_importances_df['importance'] = rf.feature_importances_\n",
        "ft_importances_df.sort_values('importance',ascending=False,inplace=True)\n",
        "ft_importances_df['cumulative_sum'] = ft_importances_df['importance'].cumsum()"
      ]
    },
    {
      "cell_type": "code",
      "execution_count": 82,
      "metadata": {
        "colab": {
          "base_uri": "https://localhost:8080/",
          "height": 1000
        },
        "id": "v1ewt7tE7o6J",
        "outputId": "bd6266bd-afe0-4958-ed2a-90343f6ba162"
      },
      "outputs": [
        {
          "data": {
            "text/html": [
              "\n",
              "  <div id=\"df-399f9853-c512-47a0-97ae-050f132d4b43\">\n",
              "    <div class=\"colab-df-container\">\n",
              "      <div>\n",
              "<style scoped>\n",
              "    .dataframe tbody tr th:only-of-type {\n",
              "        vertical-align: middle;\n",
              "    }\n",
              "\n",
              "    .dataframe tbody tr th {\n",
              "        vertical-align: top;\n",
              "    }\n",
              "\n",
              "    .dataframe thead th {\n",
              "        text-align: right;\n",
              "    }\n",
              "</style>\n",
              "<table border=\"1\" class=\"dataframe\">\n",
              "  <thead>\n",
              "    <tr style=\"text-align: right;\">\n",
              "      <th></th>\n",
              "      <th>features</th>\n",
              "      <th>importance</th>\n",
              "      <th>cumulative_sum</th>\n",
              "    </tr>\n",
              "  </thead>\n",
              "  <tbody>\n",
              "    <tr>\n",
              "      <th>0</th>\n",
              "      <td>premium</td>\n",
              "      <td>0.177940</td>\n",
              "      <td>0.177940</td>\n",
              "    </tr>\n",
              "    <tr>\n",
              "      <th>1</th>\n",
              "      <td>annual_revenue</td>\n",
              "      <td>0.132543</td>\n",
              "      <td>0.310483</td>\n",
              "    </tr>\n",
              "    <tr>\n",
              "      <th>75</th>\n",
              "      <td>company_age</td>\n",
              "      <td>0.085260</td>\n",
              "      <td>0.395744</td>\n",
              "    </tr>\n",
              "    <tr>\n",
              "      <th>2</th>\n",
              "      <td>num_employees</td>\n",
              "      <td>0.040796</td>\n",
              "      <td>0.436540</td>\n",
              "    </tr>\n",
              "    <tr>\n",
              "      <th>19</th>\n",
              "      <td>carrier_id_res_60</td>\n",
              "      <td>0.029956</td>\n",
              "      <td>0.466496</td>\n",
              "    </tr>\n",
              "    <tr>\n",
              "      <th>73</th>\n",
              "      <td>business_structure_res_limited_liability_company</td>\n",
              "      <td>0.028129</td>\n",
              "      <td>0.494625</td>\n",
              "    </tr>\n",
              "    <tr>\n",
              "      <th>3</th>\n",
              "      <td>product_res_business_owners_policy_bop</td>\n",
              "      <td>0.026416</td>\n",
              "      <td>0.521040</td>\n",
              "    </tr>\n",
              "    <tr>\n",
              "      <th>17</th>\n",
              "      <td>carrier_id_res_39</td>\n",
              "      <td>0.022022</td>\n",
              "      <td>0.543063</td>\n",
              "    </tr>\n",
              "    <tr>\n",
              "      <th>16</th>\n",
              "      <td>carrier_id_res_31</td>\n",
              "      <td>0.021241</td>\n",
              "      <td>0.564304</td>\n",
              "    </tr>\n",
              "    <tr>\n",
              "      <th>63</th>\n",
              "      <td>industry_res_other_services</td>\n",
              "      <td>0.015728</td>\n",
              "      <td>0.580032</td>\n",
              "    </tr>\n",
              "    <tr>\n",
              "      <th>72</th>\n",
              "      <td>business_structure_res_corporation</td>\n",
              "      <td>0.014611</td>\n",
              "      <td>0.594643</td>\n",
              "    </tr>\n",
              "    <tr>\n",
              "      <th>28</th>\n",
              "      <td>state_res_fl</td>\n",
              "      <td>0.014480</td>\n",
              "      <td>0.609123</td>\n",
              "    </tr>\n",
              "    <tr>\n",
              "      <th>67</th>\n",
              "      <td>industry_res_retail_trade</td>\n",
              "      <td>0.013903</td>\n",
              "      <td>0.623026</td>\n",
              "    </tr>\n",
              "    <tr>\n",
              "      <th>8</th>\n",
              "      <td>product_res_general_liability</td>\n",
              "      <td>0.013750</td>\n",
              "      <td>0.636776</td>\n",
              "    </tr>\n",
              "    <tr>\n",
              "      <th>26</th>\n",
              "      <td>state_res_ca</td>\n",
              "      <td>0.013198</td>\n",
              "      <td>0.649974</td>\n",
              "    </tr>\n",
              "    <tr>\n",
              "      <th>57</th>\n",
              "      <td>industry_res_contractors</td>\n",
              "      <td>0.012782</td>\n",
              "      <td>0.662755</td>\n",
              "    </tr>\n",
              "    <tr>\n",
              "      <th>47</th>\n",
              "      <td>state_res_residuals</td>\n",
              "      <td>0.012648</td>\n",
              "      <td>0.675403</td>\n",
              "    </tr>\n",
              "    <tr>\n",
              "      <th>60</th>\n",
              "      <td>industry_res_food_and_accommodation</td>\n",
              "      <td>0.012225</td>\n",
              "      <td>0.687629</td>\n",
              "    </tr>\n",
              "    <tr>\n",
              "      <th>64</th>\n",
              "      <td>industry_res_professional__scientific_and_technical_services</td>\n",
              "      <td>0.011636</td>\n",
              "      <td>0.699264</td>\n",
              "    </tr>\n",
              "    <tr>\n",
              "      <th>42</th>\n",
              "      <td>state_res_ny</td>\n",
              "      <td>0.011535</td>\n",
              "      <td>0.710799</td>\n",
              "    </tr>\n",
              "    <tr>\n",
              "      <th>50</th>\n",
              "      <td>state_res_tx</td>\n",
              "      <td>0.010292</td>\n",
              "      <td>0.721090</td>\n",
              "    </tr>\n",
              "    <tr>\n",
              "      <th>29</th>\n",
              "      <td>state_res_ga</td>\n",
              "      <td>0.010278</td>\n",
              "      <td>0.731368</td>\n",
              "    </tr>\n",
              "    <tr>\n",
              "      <th>54</th>\n",
              "      <td>industry_res_administrative_services_and_building_maintenance</td>\n",
              "      <td>0.008252</td>\n",
              "      <td>0.739620</td>\n",
              "    </tr>\n",
              "    <tr>\n",
              "      <th>56</th>\n",
              "      <td>industry_res_consultants</td>\n",
              "      <td>0.008179</td>\n",
              "      <td>0.747799</td>\n",
              "    </tr>\n",
              "    <tr>\n",
              "      <th>74</th>\n",
              "      <td>business_structure_res_residuals</td>\n",
              "      <td>0.008124</td>\n",
              "      <td>0.755923</td>\n",
              "    </tr>\n",
              "    <tr>\n",
              "      <th>51</th>\n",
              "      <td>state_res_va</td>\n",
              "      <td>0.008052</td>\n",
              "      <td>0.763975</td>\n",
              "    </tr>\n",
              "    <tr>\n",
              "      <th>62</th>\n",
              "      <td>industry_res_manufacturing</td>\n",
              "      <td>0.007946</td>\n",
              "      <td>0.771921</td>\n",
              "    </tr>\n",
              "    <tr>\n",
              "      <th>40</th>\n",
              "      <td>state_res_nj</td>\n",
              "      <td>0.007934</td>\n",
              "      <td>0.779855</td>\n",
              "    </tr>\n",
              "    <tr>\n",
              "      <th>39</th>\n",
              "      <td>state_res_nc</td>\n",
              "      <td>0.007847</td>\n",
              "      <td>0.787702</td>\n",
              "    </tr>\n",
              "    <tr>\n",
              "      <th>30</th>\n",
              "      <td>state_res_il</td>\n",
              "      <td>0.007597</td>\n",
              "      <td>0.795299</td>\n",
              "    </tr>\n",
              "    <tr>\n",
              "      <th>48</th>\n",
              "      <td>state_res_sc</td>\n",
              "      <td>0.007205</td>\n",
              "      <td>0.802503</td>\n",
              "    </tr>\n",
              "    <tr>\n",
              "      <th>23</th>\n",
              "      <td>carrier_id_res_residuals</td>\n",
              "      <td>0.007180</td>\n",
              "      <td>0.809683</td>\n",
              "    </tr>\n",
              "    <tr>\n",
              "      <th>15</th>\n",
              "      <td>carrier_id_res_30</td>\n",
              "      <td>0.007114</td>\n",
              "      <td>0.816797</td>\n",
              "    </tr>\n",
              "    <tr>\n",
              "      <th>12</th>\n",
              "      <td>carrier_id_res_21</td>\n",
              "      <td>0.007098</td>\n",
              "      <td>0.823895</td>\n",
              "    </tr>\n",
              "    <tr>\n",
              "      <th>22</th>\n",
              "      <td>carrier_id_res_9</td>\n",
              "      <td>0.006831</td>\n",
              "      <td>0.830726</td>\n",
              "    </tr>\n",
              "    <tr>\n",
              "      <th>33</th>\n",
              "      <td>state_res_la</td>\n",
              "      <td>0.006489</td>\n",
              "      <td>0.837214</td>\n",
              "    </tr>\n",
              "    <tr>\n",
              "      <th>46</th>\n",
              "      <td>state_res_pa</td>\n",
              "      <td>0.006377</td>\n",
              "      <td>0.843592</td>\n",
              "    </tr>\n",
              "    <tr>\n",
              "      <th>36</th>\n",
              "      <td>state_res_mi</td>\n",
              "      <td>0.006209</td>\n",
              "      <td>0.849801</td>\n",
              "    </tr>\n",
              "    <tr>\n",
              "      <th>69</th>\n",
              "      <td>industry_res_technology__media_and_telecommunications</td>\n",
              "      <td>0.005988</td>\n",
              "      <td>0.855789</td>\n",
              "    </tr>\n",
              "    <tr>\n",
              "      <th>14</th>\n",
              "      <td>carrier_id_res_29</td>\n",
              "      <td>0.005908</td>\n",
              "      <td>0.861697</td>\n",
              "    </tr>\n",
              "    <tr>\n",
              "      <th>43</th>\n",
              "      <td>state_res_oh</td>\n",
              "      <td>0.005868</td>\n",
              "      <td>0.867565</td>\n",
              "    </tr>\n",
              "    <tr>\n",
              "      <th>49</th>\n",
              "      <td>state_res_tn</td>\n",
              "      <td>0.005491</td>\n",
              "      <td>0.873056</td>\n",
              "    </tr>\n",
              "    <tr>\n",
              "      <th>71</th>\n",
              "      <td>industry_res_wholesale_trade</td>\n",
              "      <td>0.005446</td>\n",
              "      <td>0.878502</td>\n",
              "    </tr>\n",
              "    <tr>\n",
              "      <th>61</th>\n",
              "      <td>industry_res_healthcare</td>\n",
              "      <td>0.005446</td>\n",
              "      <td>0.883948</td>\n",
              "    </tr>\n",
              "    <tr>\n",
              "      <th>10</th>\n",
              "      <td>product_res_residuals</td>\n",
              "      <td>0.005376</td>\n",
              "      <td>0.889324</td>\n",
              "    </tr>\n",
              "    <tr>\n",
              "      <th>35</th>\n",
              "      <td>state_res_md</td>\n",
              "      <td>0.005346</td>\n",
              "      <td>0.894669</td>\n",
              "    </tr>\n",
              "    <tr>\n",
              "      <th>27</th>\n",
              "      <td>state_res_co</td>\n",
              "      <td>0.005333</td>\n",
              "      <td>0.900002</td>\n",
              "    </tr>\n",
              "    <tr>\n",
              "      <th>24</th>\n",
              "      <td>state_res_al</td>\n",
              "      <td>0.005198</td>\n",
              "      <td>0.905200</td>\n",
              "    </tr>\n",
              "    <tr>\n",
              "      <th>34</th>\n",
              "      <td>state_res_ma</td>\n",
              "      <td>0.004956</td>\n",
              "      <td>0.910156</td>\n",
              "    </tr>\n",
              "    <tr>\n",
              "      <th>37</th>\n",
              "      <td>state_res_mo</td>\n",
              "      <td>0.004894</td>\n",
              "      <td>0.915050</td>\n",
              "    </tr>\n",
              "    <tr>\n",
              "      <th>25</th>\n",
              "      <td>state_res_az</td>\n",
              "      <td>0.004427</td>\n",
              "      <td>0.919477</td>\n",
              "    </tr>\n",
              "    <tr>\n",
              "      <th>53</th>\n",
              "      <td>state_res_wi</td>\n",
              "      <td>0.004257</td>\n",
              "      <td>0.923734</td>\n",
              "    </tr>\n",
              "    <tr>\n",
              "      <th>11</th>\n",
              "      <td>product_res_workers_compensation</td>\n",
              "      <td>0.004252</td>\n",
              "      <td>0.927987</td>\n",
              "    </tr>\n",
              "    <tr>\n",
              "      <th>58</th>\n",
              "      <td>industry_res_education</td>\n",
              "      <td>0.004238</td>\n",
              "      <td>0.932225</td>\n",
              "    </tr>\n",
              "    <tr>\n",
              "      <th>66</th>\n",
              "      <td>industry_res_residuals</td>\n",
              "      <td>0.004105</td>\n",
              "      <td>0.936329</td>\n",
              "    </tr>\n",
              "    <tr>\n",
              "      <th>6</th>\n",
              "      <td>product_res_cw_professional_liability</td>\n",
              "      <td>0.003852</td>\n",
              "      <td>0.940181</td>\n",
              "    </tr>\n",
              "    <tr>\n",
              "      <th>4</th>\n",
              "      <td>product_res_commercial_auto</td>\n",
              "      <td>0.003839</td>\n",
              "      <td>0.944021</td>\n",
              "    </tr>\n",
              "    <tr>\n",
              "      <th>41</th>\n",
              "      <td>state_res_nv</td>\n",
              "      <td>0.003724</td>\n",
              "      <td>0.947744</td>\n",
              "    </tr>\n",
              "    <tr>\n",
              "      <th>45</th>\n",
              "      <td>state_res_or</td>\n",
              "      <td>0.003681</td>\n",
              "      <td>0.951426</td>\n",
              "    </tr>\n",
              "    <tr>\n",
              "      <th>32</th>\n",
              "      <td>state_res_ky</td>\n",
              "      <td>0.003650</td>\n",
              "      <td>0.955075</td>\n",
              "    </tr>\n",
              "    <tr>\n",
              "      <th>52</th>\n",
              "      <td>state_res_wa</td>\n",
              "      <td>0.003606</td>\n",
              "      <td>0.958681</td>\n",
              "    </tr>\n",
              "    <tr>\n",
              "      <th>44</th>\n",
              "      <td>state_res_ok</td>\n",
              "      <td>0.003559</td>\n",
              "      <td>0.962240</td>\n",
              "    </tr>\n",
              "    <tr>\n",
              "      <th>31</th>\n",
              "      <td>state_res_in</td>\n",
              "      <td>0.003440</td>\n",
              "      <td>0.965680</td>\n",
              "    </tr>\n",
              "    <tr>\n",
              "      <th>68</th>\n",
              "      <td>industry_res_sports__arts__entertainment__and_recreation</td>\n",
              "      <td>0.003405</td>\n",
              "      <td>0.969085</td>\n",
              "    </tr>\n",
              "    <tr>\n",
              "      <th>21</th>\n",
              "      <td>carrier_id_res_73</td>\n",
              "      <td>0.003339</td>\n",
              "      <td>0.972424</td>\n",
              "    </tr>\n",
              "    <tr>\n",
              "      <th>38</th>\n",
              "      <td>state_res_ms</td>\n",
              "      <td>0.003166</td>\n",
              "      <td>0.975590</td>\n",
              "    </tr>\n",
              "    <tr>\n",
              "      <th>65</th>\n",
              "      <td>industry_res_real_estate</td>\n",
              "      <td>0.002831</td>\n",
              "      <td>0.978421</td>\n",
              "    </tr>\n",
              "    <tr>\n",
              "      <th>5</th>\n",
              "      <td>product_res_cw_errors_omissions_e_o</td>\n",
              "      <td>0.002661</td>\n",
              "      <td>0.981082</td>\n",
              "    </tr>\n",
              "    <tr>\n",
              "      <th>7</th>\n",
              "      <td>product_res_cw_umbrella_policy</td>\n",
              "      <td>0.002648</td>\n",
              "      <td>0.983730</td>\n",
              "    </tr>\n",
              "    <tr>\n",
              "      <th>18</th>\n",
              "      <td>carrier_id_res_40</td>\n",
              "      <td>0.002630</td>\n",
              "      <td>0.986360</td>\n",
              "    </tr>\n",
              "    <tr>\n",
              "      <th>9</th>\n",
              "      <td>product_res_package</td>\n",
              "      <td>0.002617</td>\n",
              "      <td>0.988977</td>\n",
              "    </tr>\n",
              "    <tr>\n",
              "      <th>13</th>\n",
              "      <td>carrier_id_res_22</td>\n",
              "      <td>0.002564</td>\n",
              "      <td>0.991541</td>\n",
              "    </tr>\n",
              "    <tr>\n",
              "      <th>59</th>\n",
              "      <td>industry_res_finance_and_insurance</td>\n",
              "      <td>0.002351</td>\n",
              "      <td>0.993893</td>\n",
              "    </tr>\n",
              "    <tr>\n",
              "      <th>70</th>\n",
              "      <td>industry_res_transportation_and_warehousing</td>\n",
              "      <td>0.002311</td>\n",
              "      <td>0.996204</td>\n",
              "    </tr>\n",
              "    <tr>\n",
              "      <th>55</th>\n",
              "      <td>industry_res_construction</td>\n",
              "      <td>0.002237</td>\n",
              "      <td>0.998441</td>\n",
              "    </tr>\n",
              "    <tr>\n",
              "      <th>20</th>\n",
              "      <td>carrier_id_res_72</td>\n",
              "      <td>0.001559</td>\n",
              "      <td>1.000000</td>\n",
              "    </tr>\n",
              "  </tbody>\n",
              "</table>\n",
              "</div>\n",
              "      <button class=\"colab-df-convert\" onclick=\"convertToInteractive('df-399f9853-c512-47a0-97ae-050f132d4b43')\"\n",
              "              title=\"Convert this dataframe to an interactive table.\"\n",
              "              style=\"display:none;\">\n",
              "        \n",
              "  <svg xmlns=\"http://www.w3.org/2000/svg\" height=\"24px\"viewBox=\"0 0 24 24\"\n",
              "       width=\"24px\">\n",
              "    <path d=\"M0 0h24v24H0V0z\" fill=\"none\"/>\n",
              "    <path d=\"M18.56 5.44l.94 2.06.94-2.06 2.06-.94-2.06-.94-.94-2.06-.94 2.06-2.06.94zm-11 1L8.5 8.5l.94-2.06 2.06-.94-2.06-.94L8.5 2.5l-.94 2.06-2.06.94zm10 10l.94 2.06.94-2.06 2.06-.94-2.06-.94-.94-2.06-.94 2.06-2.06.94z\"/><path d=\"M17.41 7.96l-1.37-1.37c-.4-.4-.92-.59-1.43-.59-.52 0-1.04.2-1.43.59L10.3 9.45l-7.72 7.72c-.78.78-.78 2.05 0 2.83L4 21.41c.39.39.9.59 1.41.59.51 0 1.02-.2 1.41-.59l7.78-7.78 2.81-2.81c.8-.78.8-2.07 0-2.86zM5.41 20L4 18.59l7.72-7.72 1.47 1.35L5.41 20z\"/>\n",
              "  </svg>\n",
              "      </button>\n",
              "      \n",
              "  <style>\n",
              "    .colab-df-container {\n",
              "      display:flex;\n",
              "      flex-wrap:wrap;\n",
              "      gap: 12px;\n",
              "    }\n",
              "\n",
              "    .colab-df-convert {\n",
              "      background-color: #E8F0FE;\n",
              "      border: none;\n",
              "      border-radius: 50%;\n",
              "      cursor: pointer;\n",
              "      display: none;\n",
              "      fill: #1967D2;\n",
              "      height: 32px;\n",
              "      padding: 0 0 0 0;\n",
              "      width: 32px;\n",
              "    }\n",
              "\n",
              "    .colab-df-convert:hover {\n",
              "      background-color: #E2EBFA;\n",
              "      box-shadow: 0px 1px 2px rgba(60, 64, 67, 0.3), 0px 1px 3px 1px rgba(60, 64, 67, 0.15);\n",
              "      fill: #174EA6;\n",
              "    }\n",
              "\n",
              "    [theme=dark] .colab-df-convert {\n",
              "      background-color: #3B4455;\n",
              "      fill: #D2E3FC;\n",
              "    }\n",
              "\n",
              "    [theme=dark] .colab-df-convert:hover {\n",
              "      background-color: #434B5C;\n",
              "      box-shadow: 0px 1px 3px 1px rgba(0, 0, 0, 0.15);\n",
              "      filter: drop-shadow(0px 1px 2px rgba(0, 0, 0, 0.3));\n",
              "      fill: #FFFFFF;\n",
              "    }\n",
              "  </style>\n",
              "\n",
              "      <script>\n",
              "        const buttonEl =\n",
              "          document.querySelector('#df-399f9853-c512-47a0-97ae-050f132d4b43 button.colab-df-convert');\n",
              "        buttonEl.style.display =\n",
              "          google.colab.kernel.accessAllowed ? 'block' : 'none';\n",
              "\n",
              "        async function convertToInteractive(key) {\n",
              "          const element = document.querySelector('#df-399f9853-c512-47a0-97ae-050f132d4b43');\n",
              "          const dataTable =\n",
              "            await google.colab.kernel.invokeFunction('convertToInteractive',\n",
              "                                                     [key], {});\n",
              "          if (!dataTable) return;\n",
              "\n",
              "          const docLinkHtml = 'Like what you see? Visit the ' +\n",
              "            '<a target=\"_blank\" href=https://colab.research.google.com/notebooks/data_table.ipynb>data table notebook</a>'\n",
              "            + ' to learn more about interactive tables.';\n",
              "          element.innerHTML = '';\n",
              "          dataTable['output_type'] = 'display_data';\n",
              "          await google.colab.output.renderOutput(dataTable, element);\n",
              "          const docLink = document.createElement('div');\n",
              "          docLink.innerHTML = docLinkHtml;\n",
              "          element.appendChild(docLink);\n",
              "        }\n",
              "      </script>\n",
              "    </div>\n",
              "  </div>\n",
              "  "
            ],
            "text/plain": [
              "                                                         features  ...  cumulative_sum\n",
              "0                                                         premium  ...        0.177940\n",
              "1                                                  annual_revenue  ...        0.310483\n",
              "75                                                    company_age  ...        0.395744\n",
              "2                                                   num_employees  ...        0.436540\n",
              "19                                              carrier_id_res_60  ...        0.466496\n",
              "73               business_structure_res_limited_liability_company  ...        0.494625\n",
              "3                          product_res_business_owners_policy_bop  ...        0.521040\n",
              "17                                              carrier_id_res_39  ...        0.543063\n",
              "16                                              carrier_id_res_31  ...        0.564304\n",
              "63                                    industry_res_other_services  ...        0.580032\n",
              "72                             business_structure_res_corporation  ...        0.594643\n",
              "28                                                   state_res_fl  ...        0.609123\n",
              "67                                      industry_res_retail_trade  ...        0.623026\n",
              "8                                   product_res_general_liability  ...        0.636776\n",
              "26                                                   state_res_ca  ...        0.649974\n",
              "57                                       industry_res_contractors  ...        0.662755\n",
              "47                                            state_res_residuals  ...        0.675403\n",
              "60                            industry_res_food_and_accommodation  ...        0.687629\n",
              "64   industry_res_professional__scientific_and_technical_services  ...        0.699264\n",
              "42                                                   state_res_ny  ...        0.710799\n",
              "50                                                   state_res_tx  ...        0.721090\n",
              "29                                                   state_res_ga  ...        0.731368\n",
              "54  industry_res_administrative_services_and_building_maintenance  ...        0.739620\n",
              "56                                       industry_res_consultants  ...        0.747799\n",
              "74                               business_structure_res_residuals  ...        0.755923\n",
              "51                                                   state_res_va  ...        0.763975\n",
              "62                                     industry_res_manufacturing  ...        0.771921\n",
              "40                                                   state_res_nj  ...        0.779855\n",
              "39                                                   state_res_nc  ...        0.787702\n",
              "30                                                   state_res_il  ...        0.795299\n",
              "48                                                   state_res_sc  ...        0.802503\n",
              "23                                       carrier_id_res_residuals  ...        0.809683\n",
              "15                                              carrier_id_res_30  ...        0.816797\n",
              "12                                              carrier_id_res_21  ...        0.823895\n",
              "22                                               carrier_id_res_9  ...        0.830726\n",
              "33                                                   state_res_la  ...        0.837214\n",
              "46                                                   state_res_pa  ...        0.843592\n",
              "36                                                   state_res_mi  ...        0.849801\n",
              "69          industry_res_technology__media_and_telecommunications  ...        0.855789\n",
              "14                                              carrier_id_res_29  ...        0.861697\n",
              "43                                                   state_res_oh  ...        0.867565\n",
              "49                                                   state_res_tn  ...        0.873056\n",
              "71                                   industry_res_wholesale_trade  ...        0.878502\n",
              "61                                        industry_res_healthcare  ...        0.883948\n",
              "10                                          product_res_residuals  ...        0.889324\n",
              "35                                                   state_res_md  ...        0.894669\n",
              "27                                                   state_res_co  ...        0.900002\n",
              "24                                                   state_res_al  ...        0.905200\n",
              "34                                                   state_res_ma  ...        0.910156\n",
              "37                                                   state_res_mo  ...        0.915050\n",
              "25                                                   state_res_az  ...        0.919477\n",
              "53                                                   state_res_wi  ...        0.923734\n",
              "11                               product_res_workers_compensation  ...        0.927987\n",
              "58                                         industry_res_education  ...        0.932225\n",
              "66                                         industry_res_residuals  ...        0.936329\n",
              "6                           product_res_cw_professional_liability  ...        0.940181\n",
              "4                                     product_res_commercial_auto  ...        0.944021\n",
              "41                                                   state_res_nv  ...        0.947744\n",
              "45                                                   state_res_or  ...        0.951426\n",
              "32                                                   state_res_ky  ...        0.955075\n",
              "52                                                   state_res_wa  ...        0.958681\n",
              "44                                                   state_res_ok  ...        0.962240\n",
              "31                                                   state_res_in  ...        0.965680\n",
              "68       industry_res_sports__arts__entertainment__and_recreation  ...        0.969085\n",
              "21                                              carrier_id_res_73  ...        0.972424\n",
              "38                                                   state_res_ms  ...        0.975590\n",
              "65                                       industry_res_real_estate  ...        0.978421\n",
              "5                             product_res_cw_errors_omissions_e_o  ...        0.981082\n",
              "7                                  product_res_cw_umbrella_policy  ...        0.983730\n",
              "18                                              carrier_id_res_40  ...        0.986360\n",
              "9                                             product_res_package  ...        0.988977\n",
              "13                                              carrier_id_res_22  ...        0.991541\n",
              "59                             industry_res_finance_and_insurance  ...        0.993893\n",
              "70                    industry_res_transportation_and_warehousing  ...        0.996204\n",
              "55                                      industry_res_construction  ...        0.998441\n",
              "20                                              carrier_id_res_72  ...        1.000000\n",
              "\n",
              "[76 rows x 3 columns]"
            ]
          },
          "execution_count": 82,
          "metadata": {},
          "output_type": "execute_result"
        }
      ],
      "source": [
        "ft_importances_df['cumulative_sum'] = ft_importances_df['importance'].cumsum()\n",
        "ft_importances_df"
      ]
    },
    {
      "cell_type": "markdown",
      "metadata": {
        "id": "RIsXV9g78AXY"
      },
      "source": [
        "We are going to keep those variables that explain the 95% of the model:"
      ]
    },
    {
      "cell_type": "code",
      "execution_count": 83,
      "metadata": {
        "colab": {
          "base_uri": "https://localhost:8080/"
        },
        "id": "L5oCfZdH8Juv",
        "outputId": "7a1dd3cd-1264-4592-c1b2-8fc19b11fc0c"
      },
      "outputs": [
        {
          "name": "stdout",
          "output_type": "stream",
          "text": [
            "58 candidate variables have been selected\n",
            "\n",
            "['premium', 'annual_revenue', 'company_age', 'num_employees', 'carrier_id_res_60', 'business_structure_res_limited_liability_company', 'product_res_business_owners_policy_bop', 'carrier_id_res_39', 'carrier_id_res_31', 'industry_res_other_services', 'business_structure_res_corporation', 'state_res_fl', 'industry_res_retail_trade', 'product_res_general_liability', 'state_res_ca', 'industry_res_contractors', 'state_res_residuals', 'industry_res_food_and_accommodation', 'industry_res_professional__scientific_and_technical_services', 'state_res_ny', 'state_res_tx', 'state_res_ga', 'industry_res_administrative_services_and_building_maintenance', 'industry_res_consultants', 'business_structure_res_residuals', 'state_res_va', 'industry_res_manufacturing', 'state_res_nj', 'state_res_nc', 'state_res_il', 'state_res_sc', 'carrier_id_res_residuals', 'carrier_id_res_30', 'carrier_id_res_21', 'carrier_id_res_9', 'state_res_la', 'state_res_pa', 'state_res_mi', 'industry_res_technology__media_and_telecommunications', 'carrier_id_res_29', 'state_res_oh', 'state_res_tn', 'industry_res_wholesale_trade', 'industry_res_healthcare', 'product_res_residuals', 'state_res_md', 'state_res_co', 'state_res_al', 'state_res_ma', 'state_res_mo', 'state_res_az', 'state_res_wi', 'product_res_workers_compensation', 'industry_res_education', 'industry_res_residuals', 'product_res_cw_professional_liability', 'product_res_commercial_auto', 'state_res_nv']\n"
          ]
        }
      ],
      "source": [
        "importance_threshold = 0.95\n",
        "selected_features = list(ft_importances_df[ft_importances_df.cumulative_sum <= importance_threshold].features)\n",
        "\n",
        "print(\"{0} candidate variables have been selected\\n\".format(len(selected_features)))\n",
        "print(selected_features)"
      ]
    },
    {
      "cell_type": "markdown",
      "metadata": {
        "id": "LvTndaRD9cFU"
      },
      "source": [
        "#### 4.3.2. Variables standardization"
      ]
    },
    {
      "cell_type": "markdown",
      "metadata": {
        "id": "dJhWiN2HncsI"
      },
      "source": [
        "It is wise to re-scale the continuous explicative variables, specially for algorithms like Logistic Regression. Since we have a lot of outliers as seen above, the scaler will be RobustScaler"
      ]
    },
    {
      "cell_type": "code",
      "execution_count": 84,
      "metadata": {
        "colab": {
          "base_uri": "https://localhost:8080/"
        },
        "id": "drLXtWkVnE0x",
        "outputId": "bd97f0cb-c24e-46a9-dcba-98ddddcb76e7"
      },
      "outputs": [
        {
          "data": {
            "text/plain": [
              "account_uuid                                                      object\n",
              "premium                                                          float64\n",
              "annual_revenue                                                   float64\n",
              "company_age                                                      float64\n",
              "num_employees                                                    float64\n",
              "carrier_id_res_60                                                  uint8\n",
              "business_structure_res_limited_liability_company                   uint8\n",
              "product_res_business_owners_policy_bop                             uint8\n",
              "carrier_id_res_39                                                  uint8\n",
              "carrier_id_res_31                                                  uint8\n",
              "industry_res_other_services                                        uint8\n",
              "business_structure_res_corporation                                 uint8\n",
              "state_res_fl                                                       uint8\n",
              "industry_res_retail_trade                                          uint8\n",
              "product_res_general_liability                                      uint8\n",
              "state_res_ca                                                       uint8\n",
              "industry_res_contractors                                           uint8\n",
              "state_res_residuals                                                uint8\n",
              "industry_res_food_and_accommodation                                uint8\n",
              "industry_res_professional__scientific_and_technical_services       uint8\n",
              "state_res_ny                                                       uint8\n",
              "state_res_tx                                                       uint8\n",
              "state_res_ga                                                       uint8\n",
              "industry_res_administrative_services_and_building_maintenance      uint8\n",
              "industry_res_consultants                                           uint8\n",
              "business_structure_res_residuals                                   uint8\n",
              "state_res_va                                                       uint8\n",
              "industry_res_manufacturing                                         uint8\n",
              "state_res_nj                                                       uint8\n",
              "state_res_nc                                                       uint8\n",
              "state_res_il                                                       uint8\n",
              "state_res_sc                                                       uint8\n",
              "carrier_id_res_residuals                                           uint8\n",
              "carrier_id_res_30                                                  uint8\n",
              "carrier_id_res_21                                                  uint8\n",
              "carrier_id_res_9                                                   uint8\n",
              "state_res_la                                                       uint8\n",
              "state_res_pa                                                       uint8\n",
              "state_res_mi                                                       uint8\n",
              "industry_res_technology__media_and_telecommunications              uint8\n",
              "carrier_id_res_29                                                  uint8\n",
              "state_res_oh                                                       uint8\n",
              "state_res_tn                                                       uint8\n",
              "industry_res_wholesale_trade                                       uint8\n",
              "industry_res_healthcare                                            uint8\n",
              "product_res_residuals                                              uint8\n",
              "state_res_md                                                       uint8\n",
              "state_res_co                                                       uint8\n",
              "state_res_al                                                       uint8\n",
              "state_res_ma                                                       uint8\n",
              "state_res_mo                                                       uint8\n",
              "state_res_az                                                       uint8\n",
              "state_res_wi                                                       uint8\n",
              "product_res_workers_compensation                                   uint8\n",
              "industry_res_education                                             uint8\n",
              "industry_res_residuals                                             uint8\n",
              "product_res_cw_professional_liability                              uint8\n",
              "product_res_commercial_auto                                        uint8\n",
              "state_res_nv                                                       uint8\n",
              "dtype: object"
            ]
          },
          "execution_count": 84,
          "metadata": {},
          "output_type": "execute_result"
        }
      ],
      "source": [
        "X = df_quotes_full_train_dummies[[\"account_uuid\"] + selected_features]\n",
        "X.dtypes"
      ]
    },
    {
      "cell_type": "code",
      "execution_count": 85,
      "metadata": {
        "colab": {
          "base_uri": "https://localhost:8080/"
        },
        "id": "sWSPSGrHo0o4",
        "outputId": "6a3aea21-6105-43b6-9df2-f941efd708c1"
      },
      "outputs": [
        {
          "name": "stderr",
          "output_type": "stream",
          "text": [
            "/usr/local/lib/python3.7/dist-packages/ipykernel_launcher.py:5: SettingWithCopyWarning: \n",
            "A value is trying to be set on a copy of a slice from a DataFrame.\n",
            "Try using .loc[row_indexer,col_indexer] = value instead\n",
            "\n",
            "See the caveats in the documentation: https://pandas.pydata.org/pandas-docs/stable/user_guide/indexing.html#returning-a-view-versus-a-copy\n",
            "  \"\"\"\n",
            "/usr/local/lib/python3.7/dist-packages/pandas/core/frame.py:3678: SettingWithCopyWarning: \n",
            "A value is trying to be set on a copy of a slice from a DataFrame.\n",
            "Try using .loc[row_indexer,col_indexer] = value instead\n",
            "\n",
            "See the caveats in the documentation: https://pandas.pydata.org/pandas-docs/stable/user_guide/indexing.html#returning-a-view-versus-a-copy\n",
            "  self[col] = igetitem(value, i)\n"
          ]
        }
      ],
      "source": [
        "features_to_standardize = [\"premium\",\"annual_revenue\",\"company_age\",\"num_employees\"]\n",
        "\n",
        "robust_scaler = RobustScaler().fit(X[features_to_standardize])\n",
        "\n",
        "X[\"premium_orig\"] = X[\"premium\"] #we need to keep it for further calculations\n",
        "Xcat[\"premium_orig\"] = Xcat[\"premium\"] #we need to keep it for further calculations\n",
        "\n",
        "X[features_to_standardize] = robust_scaler.transform(X[features_to_standardize])\n",
        "Xcat[features_to_standardize] = robust_scaler.transform(Xcat[features_to_standardize])"
      ]
    },
    {
      "cell_type": "markdown",
      "metadata": {
        "id": "3oCutlbv9hji"
      },
      "source": [
        "####4.3.3. Train / Validation split"
      ]
    },
    {
      "cell_type": "markdown",
      "metadata": {
        "id": "7sycTeJSpgfL"
      },
      "source": [
        "We need a separate out-of-sample dataset to validate results afterwards, so splitting the training dataset in two is necessary. The conversion rate will be stratified, although random sampling is taking place."
      ]
    },
    {
      "cell_type": "code",
      "execution_count": 86,
      "metadata": {
        "id": "TmYetoowpec7"
      },
      "outputs": [],
      "source": [
        "X_train,X_val, y_train,y_val = train_test_split(X,y,train_size = 0.8,stratify = y.convert,random_state=seed_value)\n",
        "Xcat_train,Xcat_val, ycat_train,ycat_val = train_test_split(Xcat,ycat,train_size = 0.8,stratify = ycat.convert,random_state=seed_value)"
      ]
    },
    {
      "cell_type": "code",
      "execution_count": 87,
      "metadata": {
        "colab": {
          "base_uri": "https://localhost:8080/"
        },
        "id": "I8-qgCjUqG97",
        "outputId": "67fb2dae-b8cb-47c9-e988-d3ea436ee9ba"
      },
      "outputs": [
        {
          "name": "stdout",
          "output_type": "stream",
          "text": [
            "1    60.982699\n",
            "0    39.017301\n",
            "Name: convert, dtype: float64\n",
            "1    60.985058\n",
            "0    39.014942\n",
            "Name: convert, dtype: float64\n"
          ]
        }
      ],
      "source": [
        "print(y_train[\"convert\"].value_counts()*100/len(y_train))\n",
        "print(y_val[\"convert\"].value_counts()*100/len(y_val))"
      ]
    },
    {
      "cell_type": "markdown",
      "metadata": {
        "id": "FpFcA1ks-zN-"
      },
      "source": [
        "#### 4.3.4 Models"
      ]
    },
    {
      "cell_type": "markdown",
      "metadata": {
        "id": "vWF3-MELqvlK"
      },
      "source": [
        "Since this is a conversion rate prediction problem, it seems that we would want to:\n",
        "* Refine true positives, in order to optimize further marketing actions resources to increase conversion.\n",
        "* Avoid as many false negatives as possible, since the opposite would mean losing chances of potential clients.\n",
        "\n",
        "Therefore, f1-score will be the metric to assess training steps and model selection.\n",
        "\n",
        "We will also be using GridSearch for parameter tuning, and Cross Validation with 5 and 10 folds to avoid overfitting over a single training set."
      ]
    },
    {
      "cell_type": "code",
      "execution_count": 88,
      "metadata": {
        "id": "gfS8CR9prdhK"
      },
      "outputs": [],
      "source": [
        "metric_score = \"f1\""
      ]
    },
    {
      "cell_type": "markdown",
      "metadata": {
        "id": "l2wLO7ibqrCG"
      },
      "source": [
        "#####4.3.4.1 Logistic Regression"
      ]
    },
    {
      "cell_type": "code",
      "execution_count": 89,
      "metadata": {
        "colab": {
          "base_uri": "https://localhost:8080/"
        },
        "id": "DUDzXMVkrhKZ",
        "outputId": "be654469-8c87-4fc8-d7da-ae0ade520fe4"
      },
      "outputs": [
        {
          "name": "stdout",
          "output_type": "stream",
          "text": [
            "Elapsed time is 40.853423 seconds.\n"
          ]
        }
      ],
      "source": [
        "param_grid_lr = {'fit_intercept':[True,False]}\n",
        "\n",
        "lr_models = {}\n",
        "\n",
        "t = TicToc()\n",
        "t.tic()\n",
        "for solver in [\"liblinear\", \"newton-cg\", \"sag\",\"saga\",\"lbfgs\"]:\n",
        "  for n_fold in [5,10]:\n",
        "    logreg = LogisticRegression(random_state=seed_value, max_iter=200, solver=solver)\n",
        "    grid_logreg = GridSearchCV(logreg,param_grid_lr,scoring=metric_score,cv=n_fold) \n",
        "    grid_logreg.fit(X_train.drop([\"account_uuid\", \"premium_orig\"], axis=1),y_train.convert)\n",
        "\n",
        "    lr_models[solver + str(n_fold)] = grid_logreg\n",
        "t.toc()"
      ]
    },
    {
      "cell_type": "code",
      "execution_count": 90,
      "metadata": {
        "colab": {
          "base_uri": "https://localhost:8080/"
        },
        "id": "7ALVw1NfzGxW",
        "outputId": "f5b3f077-d15e-490c-eb3e-6cf72305cedb"
      },
      "outputs": [
        {
          "name": "stdout",
          "output_type": "stream",
          "text": [
            "Solver liblinear & Folds 5\n",
            "Best LogReg model has parameter: {'fit_intercept': True}\n",
            "Best LogReg model has f1 = 0.7536629155616567\n",
            "Solver liblinear & Folds 10\n",
            "Best LogReg model has parameter: {'fit_intercept': True}\n",
            "Best LogReg model has f1 = 0.7526719103599451\n",
            "Solver newton-cg & Folds 5\n",
            "Best LogReg model has parameter: {'fit_intercept': True}\n",
            "Best LogReg model has f1 = 0.7539975368031053\n",
            "Solver newton-cg & Folds 10\n",
            "Best LogReg model has parameter: {'fit_intercept': True}\n",
            "Best LogReg model has f1 = 0.7534078845466464\n",
            "Solver sag & Folds 5\n",
            "Best LogReg model has parameter: {'fit_intercept': True}\n",
            "Best LogReg model has f1 = 0.7539975368031053\n",
            "Solver sag & Folds 10\n",
            "Best LogReg model has parameter: {'fit_intercept': True}\n",
            "Best LogReg model has f1 = 0.7534078845466464\n",
            "Solver saga & Folds 5\n",
            "Best LogReg model has parameter: {'fit_intercept': True}\n",
            "Best LogReg model has f1 = 0.7539975368031053\n",
            "Solver saga & Folds 10\n",
            "Best LogReg model has parameter: {'fit_intercept': True}\n",
            "Best LogReg model has f1 = 0.7532733008255498\n",
            "Solver lbfgs & Folds 5\n",
            "Best LogReg model has parameter: {'fit_intercept': True}\n",
            "Best LogReg model has f1 = 0.7539975368031053\n",
            "Solver lbfgs & Folds 10\n",
            "Best LogReg model has parameter: {'fit_intercept': True}\n",
            "Best LogReg model has f1 = 0.7534078845466464\n"
          ]
        }
      ],
      "source": [
        "for solver in [\"liblinear\", \"newton-cg\", \"sag\",\"saga\",\"lbfgs\"]:\n",
        "  for n_fold in [5,10]:\n",
        "    print(\"Solver {0} & Folds {1}\".format(solver,n_fold))\n",
        "    print(\"Best LogReg model has parameter: {0}\".format(lr_models[solver + str(n_fold)].best_params_))\n",
        "    print(\"Best LogReg model has {0} = {1}\".format(metric_score,lr_models[solver + str(n_fold)].best_score_))"
      ]
    },
    {
      "cell_type": "markdown",
      "metadata": {
        "id": "bYoBUYEXymW1"
      },
      "source": [
        "Thanks to outliers elimination, all the solvers available in LogisticRegression class from sklearn:\n",
        "\n",
        ">(\"newton-cg\",\"liblinear\",\"sag\",\"saga\",\"lbfgs\")\n",
        "\n",
        "presented convergence.\n"
      ]
    },
    {
      "cell_type": "markdown",
      "metadata": {
        "id": "S_OLIngf12XR"
      },
      "source": [
        "It seems we could keep the LogisticRegression with intercept, 'lbfgs' solver (the standard one) and 5 CV folds."
      ]
    },
    {
      "cell_type": "code",
      "execution_count": 91,
      "metadata": {
        "id": "ru_WkErE88G9"
      },
      "outputs": [],
      "source": [
        "final_logreg = lr_models['lbfgs' + str(5)]"
      ]
    },
    {
      "cell_type": "markdown",
      "metadata": {
        "id": "bF2tohYR2Bfk"
      },
      "source": [
        "#####4.3.4.2 Random Forest"
      ]
    },
    {
      "cell_type": "code",
      "execution_count": 92,
      "metadata": {
        "colab": {
          "base_uri": "https://localhost:8080/"
        },
        "id": "gdq_8cBJ2JjT",
        "outputId": "1d69d091-8ac5-4a2a-c90d-ea5defc6a14f"
      },
      "outputs": [
        {
          "name": "stdout",
          "output_type": "stream",
          "text": [
            "Elapsed time is 119.404073 seconds.\n"
          ]
        }
      ],
      "source": [
        "param_grid_rf = {'n_estimators':[10,50,100],'max_depth':[2,4,6],'max_features':['auto', None,'log2']}\n",
        "\n",
        "rf_models = {}\n",
        "\n",
        "t = TicToc()\n",
        "t.tic()\n",
        "for n_fold in [5,10]:\n",
        "  randfor = RandomForestClassifier(random_state=seed_value)\n",
        "  grid_rf = GridSearchCV(randfor,param_grid_rf,scoring=metric_score,cv=n_fold)\n",
        "  grid_rf.fit(X_train.drop([\"account_uuid\", \"premium_orig\"], axis=1),y_train.convert)\n",
        "\n",
        "  rf_models[n_fold] = grid_rf\n",
        "t.toc()"
      ]
    },
    {
      "cell_type": "code",
      "execution_count": 93,
      "metadata": {
        "colab": {
          "base_uri": "https://localhost:8080/"
        },
        "id": "ySXSfGUt2YvA",
        "outputId": "af636d1b-b4ad-48b0-adbb-efd55a334c5f"
      },
      "outputs": [
        {
          "name": "stdout",
          "output_type": "stream",
          "text": [
            "Folds 5\n",
            "Best RandomForest model has parameter: {'max_depth': 6, 'max_features': 'auto', 'n_estimators': 50}\n",
            "Best RandomForest model has f1 = 0.7642520703329915\n",
            "Folds 10\n",
            "Best RandomForest model has parameter: {'max_depth': 4, 'max_features': 'auto', 'n_estimators': 50}\n",
            "Best RandomForest model has f1 = 0.7631779037934132\n"
          ]
        }
      ],
      "source": [
        "for n_fold in [5,10]:\n",
        "  print(\"Folds {0}\".format(n_fold))\n",
        "  print(\"Best RandomForest model has parameter: {0}\".format(rf_models[n_fold].best_params_))\n",
        "  print(\"Best RandomForest model has {0} = {1}\".format(metric_score,rf_models[n_fold].best_score_))"
      ]
    },
    {
      "cell_type": "markdown",
      "metadata": {
        "id": "JzwvG1dw4TGQ"
      },
      "source": [
        "It seems we could keep the RandomForest with 5 CV folds, 6-level depth, 50 trees, and sqrt(n_features) considered in each node split."
      ]
    },
    {
      "cell_type": "code",
      "execution_count": 94,
      "metadata": {
        "id": "sGLu6hFZ9JTC"
      },
      "outputs": [],
      "source": [
        "final_randfor = rf_models[5]"
      ]
    },
    {
      "cell_type": "markdown",
      "metadata": {
        "id": "6AEn0z7TYoej"
      },
      "source": [
        "#####4.3.4.3 XGBoost"
      ]
    },
    {
      "cell_type": "code",
      "execution_count": 95,
      "metadata": {
        "colab": {
          "base_uri": "https://localhost:8080/"
        },
        "id": "sFSoVhDtYsUy",
        "outputId": "799faf5c-186a-4898-aa48-c702eaf384fa"
      },
      "outputs": [
        {
          "name": "stdout",
          "output_type": "stream",
          "text": [
            "Elapsed time is 846.628803 seconds.\n"
          ]
        }
      ],
      "source": [
        "param_grid_xgb = {'n_estimators':[100, 200],'max_depth':[3,4,6],'max_features':['auto', None,'log2'], 'learning_rate':[0.1,0.05]}\n",
        "\n",
        "xgb_models = {}\n",
        "\n",
        "t = TicToc()\n",
        "t.tic()\n",
        "for n_fold in [5,10]:\n",
        "  xgboost = GradientBoostingClassifier(random_state=seed_value)\n",
        "  grid_xgb = GridSearchCV(xgboost,param_grid_xgb,scoring=metric_score,cv=n_fold)\n",
        "  grid_xgb.fit(X_train.drop([\"account_uuid\", \"premium_orig\"], axis=1),y_train.convert)\n",
        "\n",
        "  xgb_models[n_fold] = grid_xgb\n",
        "t.toc()"
      ]
    },
    {
      "cell_type": "code",
      "execution_count": 96,
      "metadata": {
        "colab": {
          "base_uri": "https://localhost:8080/"
        },
        "id": "6Dih-6kzaFcO",
        "outputId": "74b644d1-3318-439f-a026-f5fd9922dbd0"
      },
      "outputs": [
        {
          "name": "stdout",
          "output_type": "stream",
          "text": [
            "Folds 5\n",
            "Best XGBoost model has parameter: {'learning_rate': 0.05, 'max_depth': 3, 'max_features': 'auto', 'n_estimators': 100}\n",
            "Best XGBoost model has f1 = 0.7666218420153195\n",
            "Folds 10\n",
            "Best XGBoost model has parameter: {'learning_rate': 0.1, 'max_depth': 3, 'max_features': 'auto', 'n_estimators': 200}\n",
            "Best XGBoost model has f1 = 0.7655834474435828\n"
          ]
        }
      ],
      "source": [
        "for n_fold in [5,10]:\n",
        "  print(\"Folds {0}\".format(n_fold))\n",
        "  print(\"Best XGBoost model has parameter: {0}\".format(xgb_models[n_fold].best_params_))\n",
        "  print(\"Best XGBoost model has {0} = {1}\".format(metric_score,xgb_models[n_fold].best_score_))"
      ]
    },
    {
      "cell_type": "markdown",
      "metadata": {
        "id": "Lh9Hd9BAfFJz"
      },
      "source": [
        "It seems we could keep the XGboost with 5 CV folds."
      ]
    },
    {
      "cell_type": "code",
      "execution_count": 97,
      "metadata": {
        "id": "r6F1jjukfKLh"
      },
      "outputs": [],
      "source": [
        "final_xgboost = xgb_models[5]"
      ]
    },
    {
      "cell_type": "markdown",
      "metadata": {
        "id": "FcjmchUwdwl4"
      },
      "source": [
        "#####4.3.4.4 CatBoost"
      ]
    },
    {
      "cell_type": "markdown",
      "metadata": {
        "id": "2hojJOZcfa9S"
      },
      "source": [
        "For the CatBoost modeling, we are going to use the dataset with no dummies and original categorical variables.\n",
        "It is necessary to specify column index for those columns that are categorical."
      ]
    },
    {
      "cell_type": "code",
      "execution_count": 98,
      "metadata": {
        "id": "m7ntk6Lkg7pm"
      },
      "outputs": [],
      "source": [
        "#We need to use an auxiliar copy of the training dataset since column position is specially relevant in this case\n",
        "Xcat_aux = Xcat_train.drop([\"account_uuid\", \"premium_orig\"], axis=1)\n",
        "name_vars_object = [name for name,tipo in Xcat_aux.dtypes.iteritems() if 'object' in str(tipo)]\n",
        "index_vars_object = [Xcat_aux.columns.get_loc(col) for col in name_vars_object]"
      ]
    },
    {
      "cell_type": "code",
      "execution_count": 99,
      "metadata": {
        "colab": {
          "base_uri": "https://localhost:8080/"
        },
        "id": "cBa4cHymd34Q",
        "outputId": "dc1600bf-51e9-43b6-9e62-9a0daf8c9ca9"
      },
      "outputs": [
        {
          "name": "stdout",
          "output_type": "stream",
          "text": [
            "Elapsed time is 571.295200 seconds.\n"
          ]
        }
      ],
      "source": [
        "param_grid_cat = {'learning_rate': [0.03, 0.1],'max_depth': [4, 6, 10],'l2_leaf_reg': [1, 3, 5],'iterations': [50, 100, 150]}\n",
        "\n",
        "cat_models = {}\n",
        "\n",
        "t = TicToc()\n",
        "t.tic()\n",
        "for n_fold in [5,10]:\n",
        "  catboost = CatBoostClassifier(random_state=seed_value)\n",
        "  grid_catb = GridSearchCV(catboost,param_grid_cat,scoring=metric_score,cv=n_fold)\n",
        "  grid_catb.fit(Xcat_aux,ycat_train.convert,cat_features=index_vars_object, verbose=False)\n",
        "\n",
        "  cat_models[n_fold] = grid_catb\n",
        "t.toc()"
      ]
    },
    {
      "cell_type": "code",
      "execution_count": 100,
      "metadata": {
        "colab": {
          "base_uri": "https://localhost:8080/"
        },
        "id": "FJ67yLBitrUi",
        "outputId": "ec9aa760-8e59-4bce-a45b-6a219bcf31b7"
      },
      "outputs": [
        {
          "name": "stdout",
          "output_type": "stream",
          "text": [
            "Folds 5\n",
            "Best CatBoost model has parameter: {'iterations': 150, 'l2_leaf_reg': 5, 'learning_rate': 0.1, 'max_depth': 10}\n",
            "Best CatBoost model has f1 = 0.7576084718245522\n",
            "Folds 10\n",
            "Best CatBoost model has parameter: {'iterations': 150, 'l2_leaf_reg': 3, 'learning_rate': 0.1, 'max_depth': 10}\n",
            "Best CatBoost model has f1 = 0.7631452526749529\n"
          ]
        }
      ],
      "source": [
        "for n_fold in [5,10]:\n",
        "  print(\"Folds {0}\".format(n_fold))\n",
        "  print(\"Best CatBoost model has parameter: {0}\".format(cat_models[n_fold].best_params_))\n",
        "  print(\"Best CatBoost model has {0} = {1}\".format(metric_score,cat_models[n_fold].best_score_))"
      ]
    },
    {
      "cell_type": "markdown",
      "metadata": {
        "id": "M2cxjwSTuLK5"
      },
      "source": [
        "It seems we could keep the CatBoost model with 10 CV folds. This is an interesting result, since reaching the same f1score as the other algorithms in similar time, it avoids all the dummy variable creation, and also it implies the model has way fewer initial features.\n",
        "Investing more on fine-tuning might derive in better results, maybe even better than the others (in less time)."
      ]
    },
    {
      "cell_type": "code",
      "execution_count": 101,
      "metadata": {
        "id": "b4HWz2XbvwIt"
      },
      "outputs": [],
      "source": [
        "final_catboost = cat_models[10]"
      ]
    },
    {
      "cell_type": "markdown",
      "metadata": {
        "id": "IygZKHSQ-8O-"
      },
      "source": [
        "## 5. Evaluating results"
      ]
    },
    {
      "cell_type": "markdown",
      "metadata": {
        "id": "WAp6iYX37uNX"
      },
      "source": [
        "To compare the different algorithms in terms of 1/0s predictions (best models from gridsearch and cross validation loops), the confusion matrix and ROC curve will be looked at.\n",
        "\n",
        "Please consider that the threshhold over predicted probabilities to calculate 1/0s is set by default at 50%, and in this analysis we will not be performing a threshold optimization.\n",
        "\n",
        "As said before, we are also using RMSE over predicted account value to select the final model. Both predicted conversion probabilities and predicted conversion 1/0s will be used to calculate expected account value and whichever gives the best RMSE will be selected.\n",
        "\n",
        "Being strict, if \"expected\" account value is being demanded, we should use predicted conversion probabilities.\n",
        "\n",
        "Logistic Regression does not need to be calibrated since it already give unbiased predicted probabilities. However, the other algorithms need calibration in order to be able to use \"predict_proba\" output as the probability of conversion."
      ]
    },
    {
      "cell_type": "markdown",
      "metadata": {
        "id": "qBDIHgJj7ITe"
      },
      "source": [
        "### 5.1. Logistic Regression evaluation"
      ]
    },
    {
      "cell_type": "code",
      "execution_count": 102,
      "metadata": {
        "colab": {
          "base_uri": "https://localhost:8080/"
        },
        "id": "VxNq6jQP9Zzg",
        "outputId": "f91a830b-f71a-45cc-b923-4b289028a335"
      },
      "outputs": [
        {
          "name": "stdout",
          "output_type": "stream",
          "text": [
            "Best iteration of the LogisticRegression model has a predictive power of:\n",
            "\n",
            "AUC: 0.6854642107837459\n",
            "Gini: 0.37092842156749173\n",
            "Precision score: 0.7511071744906997\n",
            "Recall score: 0.7695099818511797\n",
            "F1 score: 0.7601972209771403\n"
          ]
        }
      ],
      "source": [
        "prediction_logreg = final_logreg.predict(X_val.drop([\"account_uuid\", \"premium_orig\"], axis=1))\n",
        "fpr_logreg, tpr_logreg, thresholds_logreg = roc_curve(y_val.convert, prediction_logreg)\n",
        "auc_logreg = auc(fpr_logreg, tpr_logreg)\n",
        "print(\"Best iteration of the LogisticRegression model has a predictive power of:\\n\")\n",
        "print(\"AUC: {0}\".format(auc_logreg))\n",
        "print(\"Gini: {0}\".format(2*auc_logreg - 1))\n",
        "print(\"Precision score: {0}\".format(precision_score(y_val.convert,prediction_logreg)))\n",
        "print(\"Recall score: {0}\".format(recall_score(y_val.convert,prediction_logreg)))\n",
        "print(\"F1 score: {0}\".format(f1_score(y_val.convert,prediction_logreg)))\n"
      ]
    },
    {
      "cell_type": "code",
      "execution_count": 103,
      "metadata": {
        "colab": {
          "base_uri": "https://localhost:8080/",
          "height": 0
        },
        "id": "zTSCUfQS9b4o",
        "outputId": "e5c97895-f9e0-483a-8017-e6f252ec1d33"
      },
      "outputs": [
        {
          "name": "stdout",
          "output_type": "stream",
          "text": [
            "ROC CURVE for LogReg:\n",
            "\n"
          ]
        },
        {
          "data": {
            "image/png": "[encoded data removed]",
            "text/plain": [
              "<Figure size 432x288 with 1 Axes>"
            ]
          },
          "metadata": {
            "needs_background": "light"
          },
          "output_type": "display_data"
        }
      ],
      "source": [
        "print(\"ROC CURVE for LogReg:\\n\")\n",
        "plt.plot(fpr_logreg,tpr_logreg)\n",
        "\n",
        "plt.show()"
      ]
    },
    {
      "cell_type": "code",
      "execution_count": 104,
      "metadata": {
        "colab": {
          "base_uri": "https://localhost:8080/"
        },
        "id": "T0LRaokXjDoa",
        "outputId": "d59bfcbc-7cc3-4639-b12d-9259afdaa50b"
      },
      "outputs": [
        {
          "name": "stderr",
          "output_type": "stream",
          "text": [
            "/usr/local/lib/python3.7/dist-packages/ipykernel_launcher.py:2: SettingWithCopyWarning: \n",
            "A value is trying to be set on a copy of a slice from a DataFrame.\n",
            "Try using .loc[row_indexer,col_indexer] = value instead\n",
            "\n",
            "See the caveats in the documentation: https://pandas.pydata.org/pandas-docs/stable/user_guide/indexing.html#returning-a-view-versus-a-copy\n",
            "  \n",
            "/usr/local/lib/python3.7/dist-packages/ipykernel_launcher.py:3: SettingWithCopyWarning: \n",
            "A value is trying to be set on a copy of a slice from a DataFrame.\n",
            "Try using .loc[row_indexer,col_indexer] = value instead\n",
            "\n",
            "See the caveats in the documentation: https://pandas.pydata.org/pandas-docs/stable/user_guide/indexing.html#returning-a-view-versus-a-copy\n",
            "  This is separate from the ipykernel package so we can avoid doing imports until\n",
            "/usr/local/lib/python3.7/dist-packages/ipykernel_launcher.py:4: SettingWithCopyWarning: \n",
            "A value is trying to be set on a copy of a slice from a DataFrame.\n",
            "Try using .loc[row_indexer,col_indexer] = value instead\n",
            "\n",
            "See the caveats in the documentation: https://pandas.pydata.org/pandas-docs/stable/user_guide/indexing.html#returning-a-view-versus-a-copy\n",
            "  after removing the cwd from sys.path.\n"
          ]
        }
      ],
      "source": [
        "lr_results = X_val[[\"account_uuid\", \"premium_orig\"]]\n",
        "lr_results[\"predict\"] = prediction_logreg\n",
        "lr_results[\"prob\"] = [pair[1] for pair in final_logreg.predict_proba(X_val.drop([\"account_uuid\", \"premium_orig\"], axis=1))] #right side of the tuple has the probability of conversion = 1\n",
        "lr_results[\"ground_truth\"] = y_val.convert"
      ]
    },
    {
      "cell_type": "markdown",
      "metadata": {
        "id": "VrNFPmsI9y9U"
      },
      "source": [
        "### 5.2. Random Forest evaluation"
      ]
    },
    {
      "cell_type": "code",
      "execution_count": 105,
      "metadata": {
        "colab": {
          "base_uri": "https://localhost:8080/"
        },
        "id": "w5EWa4Id9v3-",
        "outputId": "6ca21f1a-d53f-4d33-afd9-36bd21f0c8ad"
      },
      "outputs": [
        {
          "name": "stdout",
          "output_type": "stream",
          "text": [
            "Best iteration of the RandomForest model has a predictive power of:\n",
            "\n",
            "AUC: 0.6377257339975029\n",
            "Gini: 0.27545146799500575\n",
            "Precision score: 0.6945636623748211\n",
            "Recall score: 0.8811252268602541\n",
            "F1 score: 0.7767999999999999\n"
          ]
        }
      ],
      "source": [
        "prediction_randfor = final_randfor.predict(X_val.drop([\"account_uuid\", \"premium_orig\"], axis=1)) \n",
        "fpr_randfor, tpr_randfor, thresholds_randfor = roc_curve(y_val.convert, prediction_randfor)\n",
        "auc_randfor = auc(fpr_randfor, tpr_randfor)\n",
        "print(\"Best iteration of the RandomForest model has a predictive power of:\\n\")\n",
        "print(\"AUC: {0}\".format(auc_randfor))\n",
        "print(\"Gini: {0}\".format(2*auc_randfor - 1))\n",
        "print(\"Precision score: {0}\".format(precision_score(y_val.convert,prediction_randfor)))\n",
        "print(\"Recall score: {0}\".format(recall_score(y_val.convert,prediction_randfor)))\n",
        "print(\"F1 score: {0}\".format(f1_score(y_val.convert,prediction_randfor)))"
      ]
    },
    {
      "cell_type": "code",
      "execution_count": 106,
      "metadata": {
        "colab": {
          "base_uri": "https://localhost:8080/",
          "height": 0
        },
        "id": "VgKHInWW-J2T",
        "outputId": "b1c1d17d-db5d-468d-fc59-739470c5ae40"
      },
      "outputs": [
        {
          "name": "stdout",
          "output_type": "stream",
          "text": [
            "ROC CURVE for RandFor:\n",
            "\n"
          ]
        },
        {
          "data": {
            "image/png": "[encoded data removed]",
            "text/plain": [
              "<Figure size 432x288 with 1 Axes>"
            ]
          },
          "metadata": {
            "needs_background": "light"
          },
          "output_type": "display_data"
        }
      ],
      "source": [
        "print(\"ROC CURVE for RandFor:\\n\")\n",
        "plt.plot(fpr_randfor,tpr_randfor)\n",
        "plt.show()"
      ]
    },
    {
      "cell_type": "markdown",
      "metadata": {
        "id": "fFoyHg80mMAf"
      },
      "source": [
        "#### 5.2.1. Random Forest calibration"
      ]
    },
    {
      "cell_type": "code",
      "execution_count": 107,
      "metadata": {
        "colab": {
          "base_uri": "https://localhost:8080/",
          "height": 0
        },
        "id": "nQtqVHjOmTxV",
        "outputId": "e5dd1ea5-8b66-4315-9fc1-b8ed72b7c4b1"
      },
      "outputs": [
        {
          "data": {
            "text/plain": [
              "[<matplotlib.lines.Line2D at 0x7f2f96d17190>]"
            ]
          },
          "execution_count": 107,
          "metadata": {},
          "output_type": "execute_result"
        },
        {
          "data": {
            "image/png": "[encoded data removed]",
            "text/plain": [
              "<Figure size 432x288 with 1 Axes>"
            ]
          },
          "metadata": {
            "needs_background": "light"
          },
          "output_type": "display_data"
        }
      ],
      "source": [
        "#Reliability curve with biased predicted probabilities\n",
        "fracpos, meanpred = calibration_curve(y_val.convert, final_randfor.predict_proba(X_val.drop([\"account_uuid\", \"premium_orig\"], axis=1))[:, 1], n_bins=10)\n",
        "plt.plot(meanpred, fracpos)\n",
        "plt.plot([0, 1], [0, 1], \"k:\")"
      ]
    },
    {
      "cell_type": "code",
      "execution_count": 108,
      "metadata": {
        "colab": {
          "base_uri": "https://localhost:8080/"
        },
        "id": "nLfTJFfIlB26",
        "outputId": "9fdb9a87-0d5d-436a-ec7c-93f3d978933a"
      },
      "outputs": [
        {
          "data": {
            "text/plain": [
              "CalibratedClassifierCV(base_estimator=GridSearchCV(cv=5,\n",
              "                                                   estimator=RandomForestClassifier(random_state=495029),\n",
              "                                                   param_grid={'max_depth': [2,\n",
              "                                                                             4,\n",
              "                                                                             6],\n",
              "                                                               'max_features': ['auto',\n",
              "                                                                                None,\n",
              "                                                                                'log2'],\n",
              "                                                               'n_estimators': [10,\n",
              "                                                                                50,\n",
              "                                                                                100]},\n",
              "                                                   scoring='f1'),\n",
              "                       cv='prefit')"
            ]
          },
          "execution_count": 108,
          "metadata": {},
          "output_type": "execute_result"
        }
      ],
      "source": [
        "#Model calibration to use predict_proba\n",
        "final_randfor_cal = CalibratedClassifierCV(final_randfor, cv='prefit')\n",
        "final_randfor_cal.fit(X_train.drop([\"account_uuid\", \"premium_orig\"], axis=1), y_train.convert)"
      ]
    },
    {
      "cell_type": "code",
      "execution_count": 109,
      "metadata": {
        "colab": {
          "base_uri": "https://localhost:8080/",
          "height": 0
        },
        "id": "8-PuTHqpnL8e",
        "outputId": "a1165e19-711c-4a74-90b0-adba057f8be4"
      },
      "outputs": [
        {
          "data": {
            "text/plain": [
              "[<matplotlib.lines.Line2D at 0x7f2f96706e50>]"
            ]
          },
          "execution_count": 109,
          "metadata": {},
          "output_type": "execute_result"
        },
        {
          "data": {
            "image/png": "[encoded data removed]",
            "text/plain": [
              "<Figure size 432x288 with 1 Axes>"
            ]
          },
          "metadata": {
            "needs_background": "light"
          },
          "output_type": "display_data"
        }
      ],
      "source": [
        "#Reliability curve with unbiased predicted probabilities\n",
        "fracpos, meanpred = calibration_curve(y_val.convert, final_randfor_cal.predict_proba(X_val.drop([\"account_uuid\", \"premium_orig\"], axis=1))[:, 1], n_bins=10)\n",
        "plt.plot(meanpred, fracpos)\n",
        "plt.plot([0, 1], [0, 1], \"k:\")"
      ]
    },
    {
      "cell_type": "code",
      "execution_count": 110,
      "metadata": {
        "colab": {
          "base_uri": "https://localhost:8080/"
        },
        "id": "cuvj-nvIqq3-",
        "outputId": "4ab8f6df-ce83-485e-fbdd-977d901e0984"
      },
      "outputs": [
        {
          "name": "stderr",
          "output_type": "stream",
          "text": [
            "/usr/local/lib/python3.7/dist-packages/ipykernel_launcher.py:2: SettingWithCopyWarning: \n",
            "A value is trying to be set on a copy of a slice from a DataFrame.\n",
            "Try using .loc[row_indexer,col_indexer] = value instead\n",
            "\n",
            "See the caveats in the documentation: https://pandas.pydata.org/pandas-docs/stable/user_guide/indexing.html#returning-a-view-versus-a-copy\n",
            "  \n",
            "/usr/local/lib/python3.7/dist-packages/ipykernel_launcher.py:3: SettingWithCopyWarning: \n",
            "A value is trying to be set on a copy of a slice from a DataFrame.\n",
            "Try using .loc[row_indexer,col_indexer] = value instead\n",
            "\n",
            "See the caveats in the documentation: https://pandas.pydata.org/pandas-docs/stable/user_guide/indexing.html#returning-a-view-versus-a-copy\n",
            "  This is separate from the ipykernel package so we can avoid doing imports until\n",
            "/usr/local/lib/python3.7/dist-packages/ipykernel_launcher.py:4: SettingWithCopyWarning: \n",
            "A value is trying to be set on a copy of a slice from a DataFrame.\n",
            "Try using .loc[row_indexer,col_indexer] = value instead\n",
            "\n",
            "See the caveats in the documentation: https://pandas.pydata.org/pandas-docs/stable/user_guide/indexing.html#returning-a-view-versus-a-copy\n",
            "  after removing the cwd from sys.path.\n"
          ]
        }
      ],
      "source": [
        "rf_results = X_val[[\"account_uuid\", \"premium_orig\"]]\n",
        "rf_results[\"predict\"] = prediction_randfor\n",
        "rf_results[\"prob\"] = [pair[1] for pair in final_randfor_cal.predict_proba(X_val.drop([\"account_uuid\", \"premium_orig\"], axis=1))] #right side of the tuple has the probability of conversion = 1\n",
        "rf_results[\"ground_truth\"] = y_val.convert"
      ]
    },
    {
      "cell_type": "markdown",
      "metadata": {
        "id": "2KGvXNgvqkK4"
      },
      "source": [
        "### 5.3. XGBoost evaluation"
      ]
    },
    {
      "cell_type": "code",
      "execution_count": 111,
      "metadata": {
        "colab": {
          "base_uri": "https://localhost:8080/"
        },
        "id": "3ax5Kh4fqsZC",
        "outputId": "50da378d-f0e7-4891-9da3-099e7ba59d2d"
      },
      "outputs": [
        {
          "name": "stdout",
          "output_type": "stream",
          "text": [
            "Best iteration of the XGBoost model has a predictive power of:\n",
            "\n",
            "AUC: 0.6712971901507253\n",
            "Gini: 0.3425943803014506\n",
            "Precision score: 0.7277822257806245\n",
            "Recall score: 0.8248638838475499\n",
            "F1 score: 0.7732879625691196\n"
          ]
        }
      ],
      "source": [
        "prediction_xgboost = final_xgboost.predict(X_val.drop([\"account_uuid\", \"premium_orig\"], axis=1)) \n",
        "fpr_xgboost, tpr_xgboost, thresholds_xgboost = roc_curve(y_val.convert, prediction_xgboost)\n",
        "auc_xgboost = auc(fpr_xgboost, tpr_xgboost)\n",
        "print(\"Best iteration of the XGBoost model has a predictive power of:\\n\")\n",
        "print(\"AUC: {0}\".format(auc_xgboost))\n",
        "print(\"Gini: {0}\".format(2*auc_xgboost - 1))\n",
        "print(\"Precision score: {0}\".format(precision_score(y_val.convert,prediction_xgboost)))\n",
        "print(\"Recall score: {0}\".format(recall_score(y_val.convert,prediction_xgboost)))\n",
        "print(\"F1 score: {0}\".format(f1_score(y_val.convert,prediction_xgboost)))"
      ]
    },
    {
      "cell_type": "code",
      "execution_count": 112,
      "metadata": {
        "colab": {
          "base_uri": "https://localhost:8080/",
          "height": 0
        },
        "id": "vNJANmHxrFjb",
        "outputId": "713090d4-100a-4038-a913-ccb3f0845acb"
      },
      "outputs": [
        {
          "name": "stdout",
          "output_type": "stream",
          "text": [
            "ROC CURVE for XGBoost:\n",
            "\n"
          ]
        },
        {
          "data": {
            "image/png": "[encoded data removed]",
            "text/plain": [
              "<Figure size 432x288 with 1 Axes>"
            ]
          },
          "metadata": {
            "needs_background": "light"
          },
          "output_type": "display_data"
        }
      ],
      "source": [
        "print(\"ROC CURVE for XGBoost:\\n\")\n",
        "plt.plot(fpr_xgboost,tpr_xgboost)\n",
        "plt.show()"
      ]
    },
    {
      "cell_type": "markdown",
      "metadata": {
        "id": "vq2wo80koH0S"
      },
      "source": [
        "#### 5.3.1. XGBoost calibration"
      ]
    },
    {
      "cell_type": "code",
      "execution_count": 113,
      "metadata": {
        "colab": {
          "base_uri": "https://localhost:8080/",
          "height": 0
        },
        "id": "0bDF32XIoItS",
        "outputId": "92f81aef-9704-4587-f2e9-615557f31fed"
      },
      "outputs": [
        {
          "data": {
            "text/plain": [
              "[<matplotlib.lines.Line2D at 0x7f2f95dcb110>]"
            ]
          },
          "execution_count": 113,
          "metadata": {},
          "output_type": "execute_result"
        },
        {
          "data": {
            "image/png": "[encoded data removed]",
            "text/plain": [
              "<Figure size 432x288 with 1 Axes>"
            ]
          },
          "metadata": {
            "needs_background": "light"
          },
          "output_type": "display_data"
        }
      ],
      "source": [
        "#Reliability curve with biased predicted probabilities\n",
        "fracpos, meanpred = calibration_curve(y_val.convert, final_xgboost.predict_proba(X_val.drop([\"account_uuid\", \"premium_orig\"], axis=1))[:, 1], n_bins=10)\n",
        "plt.plot(meanpred, fracpos)\n",
        "plt.plot([0, 1], [0, 1], \"k:\")"
      ]
    },
    {
      "cell_type": "code",
      "execution_count": 114,
      "metadata": {
        "colab": {
          "base_uri": "https://localhost:8080/"
        },
        "id": "gmn9xh1BoUIu",
        "outputId": "6f153fee-e1af-4e09-cdb8-d140710552f8"
      },
      "outputs": [
        {
          "data": {
            "text/plain": [
              "CalibratedClassifierCV(base_estimator=GridSearchCV(cv=5,\n",
              "                                                   estimator=GradientBoostingClassifier(random_state=495029),\n",
              "                                                   param_grid={'learning_rate': [0.1,\n",
              "                                                                                 0.05],\n",
              "                                                               'max_depth': [3,\n",
              "                                                                             4,\n",
              "                                                                             6],\n",
              "                                                               'max_features': ['auto',\n",
              "                                                                                None,\n",
              "                                                                                'log2'],\n",
              "                                                               'n_estimators': [100,\n",
              "                                                                                200]},\n",
              "                                                   scoring='f1'),\n",
              "                       cv='prefit')"
            ]
          },
          "execution_count": 114,
          "metadata": {},
          "output_type": "execute_result"
        }
      ],
      "source": [
        "#Model calibration to use predict_proba\n",
        "final_xgboost_cal = CalibratedClassifierCV(final_xgboost, cv='prefit')\n",
        "final_xgboost_cal.fit(X_train.drop([\"account_uuid\", \"premium_orig\"], axis=1), y_train.convert)"
      ]
    },
    {
      "cell_type": "code",
      "execution_count": 115,
      "metadata": {
        "colab": {
          "base_uri": "https://localhost:8080/",
          "height": 0
        },
        "id": "b2PwZ0rfof1W",
        "outputId": "4aef7af8-a270-40a1-8fb6-bc79cd3c77f4"
      },
      "outputs": [
        {
          "data": {
            "text/plain": [
              "[<matplotlib.lines.Line2D at 0x7f2f96824210>]"
            ]
          },
          "execution_count": 115,
          "metadata": {},
          "output_type": "execute_result"
        },
        {
          "data": {
            "image/png": "[encoded data removed]",
            "text/plain": [
              "<Figure size 432x288 with 1 Axes>"
            ]
          },
          "metadata": {
            "needs_background": "light"
          },
          "output_type": "display_data"
        }
      ],
      "source": [
        "#Reliability curve with unbiased predicted probabilities\n",
        "fracpos, meanpred = calibration_curve(y_val.convert, final_xgboost_cal.predict_proba(X_val.drop([\"account_uuid\", \"premium_orig\"], axis=1))[:, 1], n_bins=10)\n",
        "plt.plot(meanpred, fracpos)\n",
        "plt.plot([0, 1], [0, 1], \"k:\")"
      ]
    },
    {
      "cell_type": "code",
      "execution_count": 116,
      "metadata": {
        "colab": {
          "base_uri": "https://localhost:8080/"
        },
        "id": "w2k48eVNrNSZ",
        "outputId": "378c6308-ecea-420f-8a1c-3b7020ec7ce9"
      },
      "outputs": [
        {
          "name": "stderr",
          "output_type": "stream",
          "text": [
            "/usr/local/lib/python3.7/dist-packages/ipykernel_launcher.py:2: SettingWithCopyWarning: \n",
            "A value is trying to be set on a copy of a slice from a DataFrame.\n",
            "Try using .loc[row_indexer,col_indexer] = value instead\n",
            "\n",
            "See the caveats in the documentation: https://pandas.pydata.org/pandas-docs/stable/user_guide/indexing.html#returning-a-view-versus-a-copy\n",
            "  \n",
            "/usr/local/lib/python3.7/dist-packages/ipykernel_launcher.py:3: SettingWithCopyWarning: \n",
            "A value is trying to be set on a copy of a slice from a DataFrame.\n",
            "Try using .loc[row_indexer,col_indexer] = value instead\n",
            "\n",
            "See the caveats in the documentation: https://pandas.pydata.org/pandas-docs/stable/user_guide/indexing.html#returning-a-view-versus-a-copy\n",
            "  This is separate from the ipykernel package so we can avoid doing imports until\n",
            "/usr/local/lib/python3.7/dist-packages/ipykernel_launcher.py:4: SettingWithCopyWarning: \n",
            "A value is trying to be set on a copy of a slice from a DataFrame.\n",
            "Try using .loc[row_indexer,col_indexer] = value instead\n",
            "\n",
            "See the caveats in the documentation: https://pandas.pydata.org/pandas-docs/stable/user_guide/indexing.html#returning-a-view-versus-a-copy\n",
            "  after removing the cwd from sys.path.\n"
          ]
        }
      ],
      "source": [
        "xg_results = X_val[[\"account_uuid\", \"premium_orig\"]]\n",
        "xg_results[\"predict\"] = prediction_xgboost\n",
        "xg_results[\"prob\"] = [pair[1] for pair in final_xgboost_cal.predict_proba(X_val.drop([\"account_uuid\", \"premium_orig\"], axis=1))] #right side of the tuple has the probability of conversion = 1\n",
        "xg_results[\"ground_truth\"] = y_val.convert"
      ]
    },
    {
      "cell_type": "markdown",
      "metadata": {
        "id": "V6W6XUUKrfS9"
      },
      "source": [
        "### 5.4. CatBoost evaluation"
      ]
    },
    {
      "cell_type": "code",
      "execution_count": 117,
      "metadata": {
        "colab": {
          "base_uri": "https://localhost:8080/"
        },
        "id": "UT5fX0gPrv0a",
        "outputId": "1c3c4f53-cbfc-46e7-8500-049f972f5a06"
      },
      "outputs": [
        {
          "name": "stdout",
          "output_type": "stream",
          "text": [
            "Best iteration of the CatBoost model has a predictive power of:\n",
            "\n",
            "AUC: 0.6858870396828463\n",
            "Gini: 0.3717740793656925\n",
            "Precision score: 0.7484822202948829\n",
            "Recall score: 0.7831215970961888\n",
            "F1 score: 0.765410199556541\n"
          ]
        }
      ],
      "source": [
        "prediction_catboost = final_catboost.predict(Xcat_val.drop([\"account_uuid\", \"premium_orig\"], axis=1)) \n",
        "fpr_catboost, tpr_catboost, thresholds_catboost = roc_curve(ycat_val.convert, prediction_catboost)\n",
        "auc_catboost = auc(fpr_catboost, tpr_catboost)\n",
        "print(\"Best iteration of the CatBoost model has a predictive power of:\\n\")\n",
        "print(\"AUC: {0}\".format(auc_catboost))\n",
        "print(\"Gini: {0}\".format(2*auc_catboost - 1))\n",
        "print(\"Precision score: {0}\".format(precision_score(y_val.convert,prediction_catboost)))\n",
        "print(\"Recall score: {0}\".format(recall_score(y_val.convert,prediction_catboost)))\n",
        "print(\"F1 score: {0}\".format(f1_score(y_val.convert,prediction_catboost)))"
      ]
    },
    {
      "cell_type": "code",
      "execution_count": 118,
      "metadata": {
        "colab": {
          "base_uri": "https://localhost:8080/",
          "height": 305
        },
        "id": "mC17dUFdsIUJ",
        "outputId": "a78e8d2c-194f-4fd7-8765-3aeecfafca99"
      },
      "outputs": [
        {
          "name": "stdout",
          "output_type": "stream",
          "text": [
            "ROC CURVE for CatBoost:\n",
            "\n"
          ]
        },
        {
          "data": {
            "image/png": "[encoded data removed]",
            "text/plain": [
              "<Figure size 432x288 with 1 Axes>"
            ]
          },
          "metadata": {
            "needs_background": "light"
          },
          "output_type": "display_data"
        }
      ],
      "source": [
        "print(\"ROC CURVE for CatBoost:\\n\")\n",
        "plt.plot(fpr_catboost,tpr_catboost)\n",
        "plt.show()"
      ]
    },
    {
      "cell_type": "markdown",
      "metadata": {
        "id": "qeRckdnPomjV"
      },
      "source": [
        "#### 5.4.1. CatBoost calibration"
      ]
    },
    {
      "cell_type": "code",
      "execution_count": 119,
      "metadata": {
        "colab": {
          "base_uri": "https://localhost:8080/",
          "height": 286
        },
        "id": "gmK6Vyjzoz9G",
        "outputId": "1fccc688-536a-4910-c908-2ee028f6b2d5"
      },
      "outputs": [
        {
          "data": {
            "text/plain": [
              "[<matplotlib.lines.Line2D at 0x7f2f95e1cf10>]"
            ]
          },
          "execution_count": 119,
          "metadata": {},
          "output_type": "execute_result"
        },
        {
          "data": {
            "image/png": "[encoded data removed]",
            "text/plain": [
              "<Figure size 432x288 with 1 Axes>"
            ]
          },
          "metadata": {
            "needs_background": "light"
          },
          "output_type": "display_data"
        }
      ],
      "source": [
        "#Reliability curve with biased predicted probabilities\n",
        "fracpos, meanpred = calibration_curve(ycat_val.convert, final_catboost.predict_proba(Xcat_val.drop([\"account_uuid\", \"premium_orig\"], axis=1))[:, 1], n_bins=10)\n",
        "plt.plot(meanpred, fracpos)\n",
        "plt.plot([0, 1], [0, 1], \"k:\")"
      ]
    },
    {
      "cell_type": "markdown",
      "metadata": {
        "id": "jgbhwlut3quh"
      },
      "source": [
        "This reliability curve is already very fitted, so we are not calibrating the catboost model. We can use the initial predicted probabilities."
      ]
    },
    {
      "cell_type": "code",
      "execution_count": 120,
      "metadata": {
        "colab": {
          "base_uri": "https://localhost:8080/"
        },
        "id": "boW3OKxxsNvK",
        "outputId": "0e4bd175-e856-45c2-d572-ab236e7e620b"
      },
      "outputs": [
        {
          "name": "stderr",
          "output_type": "stream",
          "text": [
            "/usr/local/lib/python3.7/dist-packages/ipykernel_launcher.py:2: SettingWithCopyWarning: \n",
            "A value is trying to be set on a copy of a slice from a DataFrame.\n",
            "Try using .loc[row_indexer,col_indexer] = value instead\n",
            "\n",
            "See the caveats in the documentation: https://pandas.pydata.org/pandas-docs/stable/user_guide/indexing.html#returning-a-view-versus-a-copy\n",
            "  \n",
            "/usr/local/lib/python3.7/dist-packages/ipykernel_launcher.py:3: SettingWithCopyWarning: \n",
            "A value is trying to be set on a copy of a slice from a DataFrame.\n",
            "Try using .loc[row_indexer,col_indexer] = value instead\n",
            "\n",
            "See the caveats in the documentation: https://pandas.pydata.org/pandas-docs/stable/user_guide/indexing.html#returning-a-view-versus-a-copy\n",
            "  This is separate from the ipykernel package so we can avoid doing imports until\n",
            "/usr/local/lib/python3.7/dist-packages/ipykernel_launcher.py:4: SettingWithCopyWarning: \n",
            "A value is trying to be set on a copy of a slice from a DataFrame.\n",
            "Try using .loc[row_indexer,col_indexer] = value instead\n",
            "\n",
            "See the caveats in the documentation: https://pandas.pydata.org/pandas-docs/stable/user_guide/indexing.html#returning-a-view-versus-a-copy\n",
            "  after removing the cwd from sys.path.\n"
          ]
        }
      ],
      "source": [
        "cb_results = Xcat_val[[\"account_uuid\", \"premium_orig\"]]\n",
        "cb_results[\"predict\"] = prediction_catboost\n",
        "cb_results[\"prob\"] = [pair[1] for pair in final_catboost.predict_proba(Xcat_val.drop([\"account_uuid\", \"premium_orig\"], axis=1))] #right side of the tuple has the probability of conversion = 1\n",
        "cb_results[\"ground_truth\"] = ycat_val.convert"
      ]
    },
    {
      "cell_type": "markdown",
      "metadata": {
        "id": "rTefyGZCt313"
      },
      "source": [
        "### 5.3. RMSE Account value evaluation"
      ]
    },
    {
      "cell_type": "markdown",
      "metadata": {
        "id": "Vi1J9qL3uE2Q"
      },
      "source": [
        "Important to note: for the sake of data integrity, in the next analysis we are going to discard those accounts that suffered from filters (except duplicates) over their quotes, as we would not be taking into consideration the whole picture of an account. It would actually not be necessary when calculating RMSE over account values (because the dataset is autocontained), but still, it would not be \"the complete picture\".\n",
        "\n",
        "So, we are counting the original quotes per account, and the validation quotes per account, and those accounts for wich this calculation gives different numbers are going down."
      ]
    },
    {
      "cell_type": "code",
      "execution_count": 121,
      "metadata": {
        "id": "34xemdNwuDYB"
      },
      "outputs": [],
      "source": [
        "original_quotes = pd.DataFrame(df_quotes_train[\"account_uuid\"].value_counts()).reset_index()\n",
        "val_quotes = pd.DataFrame(lr_results[\"account_uuid\"].value_counts()).reset_index() #it is the same for the other algorithms"
      ]
    },
    {
      "cell_type": "code",
      "execution_count": 122,
      "metadata": {
        "id": "nKGdC0frvJ42"
      },
      "outputs": [],
      "source": [
        "val_quotes = val_quotes.merge(original_quotes, how=\"left\", left_on=\"index\", right_on=\"index\", suffixes = [None,\"_orig\"])\n",
        "val_quotes_valid = val_quotes[val_quotes[\"account_uuid\"] == val_quotes[\"account_uuid_orig\"]]"
      ]
    },
    {
      "cell_type": "code",
      "execution_count": 123,
      "metadata": {
        "id": "8L5yEK2Gse46"
      },
      "outputs": [],
      "source": [
        "def get_valueacc_rmse(ds_results, whole_ids):\n",
        "  ds_rsme = ds_results.merge(whole_ids[\"index\"],how=\"inner\", left_on=\"account_uuid\", right_on=\"index\").drop(\"index\", axis=1)\n",
        "\n",
        "  ds_rsme[\"gt_accvalue\"] = ds_rsme[\"ground_truth\"] * ds_rsme[\"premium_orig\"]\n",
        "  ds_rsme[\"pred_accvalue\"] = ds_rsme[\"predict\"] * ds_rsme[\"premium_orig\"]\n",
        "  ds_rsme[\"exp_accvalue\"] = ds_rsme[\"prob\"] * ds_rsme[\"premium_orig\"]\n",
        "\n",
        "  return pd.DataFrame(ds_rsme.groupby(\"account_uuid\").agg({\"gt_accvalue\": sum, \"pred_accvalue\":sum, \"exp_accvalue\": sum})).reset_index()\n",
        "\n",
        "def print_rmse(results, model):\n",
        "  print(model)\n",
        "  print(\"RMSE over account value 1/0s (predicted): {0}\".format(mean_squared_error(results.gt_accvalue, results.pred_accvalue, squared = False)))\n",
        "  print(\"RMSE over account value probs (expected): {0}\".format(mean_squared_error(results.gt_accvalue, results.exp_accvalue, squared = False)))"
      ]
    },
    {
      "cell_type": "code",
      "execution_count": 124,
      "metadata": {
        "id": "Rbh92b_rxcZ8"
      },
      "outputs": [],
      "source": [
        "rf_rmse = get_valueacc_rmse(rf_results, val_quotes_valid)\n",
        "lr_rmse = get_valueacc_rmse(lr_results, val_quotes_valid)\n",
        "xg_rmse = get_valueacc_rmse(xg_results, val_quotes_valid)\n",
        "cb_rmse = get_valueacc_rmse(cb_results, val_quotes_valid)"
      ]
    },
    {
      "cell_type": "code",
      "execution_count": 125,
      "metadata": {
        "colab": {
          "base_uri": "https://localhost:8080/"
        },
        "id": "s_vNpTOx1cGu",
        "outputId": "2d249e3e-d339-45bf-934e-7ae38c2d12a9"
      },
      "outputs": [
        {
          "name": "stdout",
          "output_type": "stream",
          "text": [
            "LOGISTIC REGRESSION\n",
            "RMSE over account value 1/0s (predicted): 506.62052245316954\n",
            "RMSE over account value probs (expected): 438.38705343504284\n",
            "RANDOM FOREST\n",
            "RMSE over account value 1/0s (predicted): 412.2524038360858\n",
            "RMSE over account value probs (expected): 396.2508143049642\n",
            "XGBOOST\n",
            "RMSE over account value 1/0s (predicted): 435.700632685372\n",
            "RMSE over account value probs (expected): 408.42913674022094\n",
            "CATBOOST\n",
            "RMSE over account value 1/0s (predicted): 466.231278006769\n",
            "RMSE over account value probs (expected): 420.89587819676126\n"
          ]
        }
      ],
      "source": [
        "print_rmse(lr_rmse, \"LOGISTIC REGRESSION\")\n",
        "print_rmse(rf_rmse, \"RANDOM FOREST\")\n",
        "print_rmse(xg_rmse, \"XGBOOST\")\n",
        "print_rmse(cb_rmse, \"CATBOOST\")"
      ]
    },
    {
      "cell_type": "markdown",
      "metadata": {
        "id": "V8wGnnfP6Ou_"
      },
      "source": [
        "In order to minimize the RMSE over the test dataset, we will be using the RandomForest model"
      ]
    },
    {
      "cell_type": "code",
      "execution_count": 126,
      "metadata": {
        "id": "7FOeKbbo5tEC"
      },
      "outputs": [],
      "source": [
        "path = \"/content/drive/MyDrive/ColabNotebooks/coverwallet_codetest/assets/\"\n",
        "pickle.dump(final_logreg, open(path + \"logregression_pkl\", 'wb'))\n",
        "pickle.dump(final_randfor_cal, open(path + \"randomforest_cal_pkl\", 'wb'))\n",
        "pickle.dump(final_xgboost_cal, open(path + \"xgboost_cal_pkl\", 'wb'))\n",
        "pickle.dump(final_catboost, open(path + \"catboost_pkl\", 'wb'))\n",
        "pickle.dump(robust_scaler, open(path + \"robustscaler_pkl\", 'wb'))"
      ]
    }
  ],
  "metadata": {
    "colab": {
      "collapsed_sections": [
        "PIc1dg8AvkyF",
        "gaLEOHxu5JZr",
        "uJm91qvaRTWE",
        "3oCutlbv9hji",
        "FpFcA1ks-zN-",
        "qBDIHgJj7ITe",
        "VrNFPmsI9y9U",
        "fFoyHg80mMAf",
        "2KGvXNgvqkK4",
        "vq2wo80koH0S"
      ],
      "name": "model_training_v2.ipynb",
      "provenance": []
    },
    "kernelspec": {
      "display_name": "Python 3",
      "name": "python3"
    },
    "language_info": {
      "name": "python"
    }
  },
  "nbformat": 4,
  "nbformat_minor": 0
}
