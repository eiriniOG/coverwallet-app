{
  "nbformat": 4,
  "nbformat_minor": 0,
  "metadata": {
    "colab": {
      "name": "apply_model_test.ipynb",
      "provenance": [],
      "collapsed_sections": [
        "h3d9hdDT00yH"
      ]
    },
    "kernelspec": {
      "name": "python3",
      "display_name": "Python 3"
    },
    "language_info": {
      "name": "python"
    }
  },
  "cells": [
    {
      "cell_type": "markdown",
      "source": [
        "#1. Libraries"
      ],
      "metadata": {
        "id": "h3d9hdDT00yH"
      }
    },
    {
      "cell_type": "code",
      "execution_count": 40,
      "metadata": {
        "id": "1E5rdqzctw9Z",
        "colab": {
          "base_uri": "https://localhost:8080/"
        },
        "outputId": "f36bd0f8-cbe2-43c7-e36c-ed578b7066f6"
      },
      "outputs": [
        {
          "output_type": "stream",
          "name": "stdout",
          "text": [
            "Requirement already satisfied: pytictoc in /usr/local/lib/python3.7/dist-packages (1.5.2)\n",
            "Requirement already satisfied: catboost in /usr/local/lib/python3.7/dist-packages (1.0.4)\n",
            "Requirement already satisfied: pandas>=0.24.0 in /usr/local/lib/python3.7/dist-packages (from catboost) (1.3.5)\n",
            "Requirement already satisfied: numpy>=1.16.0 in /usr/local/lib/python3.7/dist-packages (from catboost) (1.21.5)\n",
            "Requirement already satisfied: matplotlib in /usr/local/lib/python3.7/dist-packages (from catboost) (3.2.2)\n",
            "Requirement already satisfied: scipy in /usr/local/lib/python3.7/dist-packages (from catboost) (1.4.1)\n",
            "Requirement already satisfied: graphviz in /usr/local/lib/python3.7/dist-packages (from catboost) (0.10.1)\n",
            "Requirement already satisfied: plotly in /usr/local/lib/python3.7/dist-packages (from catboost) (5.5.0)\n",
            "Requirement already satisfied: six in /usr/local/lib/python3.7/dist-packages (from catboost) (1.15.0)\n",
            "Requirement already satisfied: pytz>=2017.3 in /usr/local/lib/python3.7/dist-packages (from pandas>=0.24.0->catboost) (2018.9)\n",
            "Requirement already satisfied: python-dateutil>=2.7.3 in /usr/local/lib/python3.7/dist-packages (from pandas>=0.24.0->catboost) (2.8.2)\n",
            "Requirement already satisfied: cycler>=0.10 in /usr/local/lib/python3.7/dist-packages (from matplotlib->catboost) (0.11.0)\n",
            "Requirement already satisfied: pyparsing!=2.0.4,!=2.1.2,!=2.1.6,>=2.0.1 in /usr/local/lib/python3.7/dist-packages (from matplotlib->catboost) (3.0.7)\n",
            "Requirement already satisfied: kiwisolver>=1.0.1 in /usr/local/lib/python3.7/dist-packages (from matplotlib->catboost) (1.3.2)\n",
            "Requirement already satisfied: tenacity>=6.2.0 in /usr/local/lib/python3.7/dist-packages (from plotly->catboost) (8.0.1)\n"
          ]
        }
      ],
      "source": [
        "import pandas as pd\n",
        "pd.set_option('display.max_colwidth', None)\n",
        "import numpy as np\n",
        "import matplotlib.pyplot as plt\n",
        "plt.rc('figure', figsize=(10, 8))\n",
        "import seaborn as sns\n",
        "sns.set(color_codes=True)\n",
        "import random\n",
        "import pickle\n",
        "\n",
        "from datetime import datetime\n",
        "\n",
        "!pip install pytictoc\n",
        "from pytictoc import TicToc\n",
        "\n",
        "from sklearn.model_selection import train_test_split\n",
        "from sklearn.preprocessing import RobustScaler\n",
        "from sklearn.linear_model import LogisticRegression\n",
        "from sklearn.ensemble import RandomForestClassifier, GradientBoostingClassifier\n",
        "from sklearn.metrics import  roc_curve, auc, recall_score, precision_score,f1_score, confusion_matrix, mean_squared_error\n",
        "from sklearn.model_selection import GridSearchCV, ParameterGrid\n",
        "from sklearn.calibration import CalibratedClassifierCV, calibration_curve\n",
        "\n",
        "!pip install catboost\n",
        "from catboost import CatBoostClassifier"
      ]
    },
    {
      "cell_type": "markdown",
      "source": [
        "#2. Data"
      ],
      "metadata": {
        "id": "T9h9kv1a05M-"
      }
    },
    {
      "cell_type": "code",
      "source": [
        "path = \"/content/drive/MyDrive/ColabNotebooks/coverwallet_codetest/assets/\"\n",
        "output = \"/content/drive/MyDrive/ColabNotebooks/coverwallet_codetest/output/\"\n",
        "model_alg = \"randomforest_cal\" #do not use catbost here\n",
        "\n",
        "robust_scaler = pickle.load(open(path + \"robustscaler_pkl\", 'rb'))\n",
        "model_trained = pickle.load(open(path + model_alg + \"_pkl\", 'rb'))"
      ],
      "metadata": {
        "id": "r_M_bPULDFtR"
      },
      "execution_count": 41,
      "outputs": []
    },
    {
      "cell_type": "code",
      "source": [
        "#Read received csv\n",
        "f_accounts_test = '/content/drive/MyDrive/ColabNotebooks/coverwallet_codetest/data/accounts_test.csv'\n",
        "f_quotes_test = '/content/drive/MyDrive/ColabNotebooks/coverwallet_codetest/data/quotes_test.csv'\n",
        "\n",
        "df_accounts_test = pd.read_csv(f_accounts_test)\n",
        "df_quotes_test = pd.read_csv(f_quotes_test)"
      ],
      "metadata": {
        "id": "EYIpiVCYw_IW"
      },
      "execution_count": 42,
      "outputs": []
    },
    {
      "cell_type": "code",
      "source": [
        "#Datasets dimensions\n",
        "num_rows_acc, num_cols_acc = df_accounts_test.shape\n",
        "num_rows_quo, num_cols_quo = df_quotes_test.shape\n",
        "print(\"The accounts dataset has {0} rows and {1} columns\".format(num_rows_acc,num_cols_acc))\n",
        "print(\"The quotes dataset has {0} rows and {1} columns\".format(num_rows_quo,num_cols_quo))"
      ],
      "metadata": {
        "colab": {
          "base_uri": "https://localhost:8080/"
        },
        "id": "PeaUy-bxxQ39",
        "outputId": "f1175eb0-994f-48af-8a39-3bf00cc46989"
      },
      "execution_count": 43,
      "outputs": [
        {
          "output_type": "stream",
          "name": "stdout",
          "text": [
            "The accounts dataset has 2448 rows and 9 columns\n",
            "The quotes dataset has 5005 rows and 4 columns\n"
          ]
        }
      ]
    },
    {
      "cell_type": "code",
      "source": [
        "df_accounts_test.dtypes"
      ],
      "metadata": {
        "colab": {
          "base_uri": "https://localhost:8080/"
        },
        "id": "dqQsVwFmxXfT",
        "outputId": "51820cc1-31e1-4327-d4b4-00b8cb18e8bb"
      },
      "execution_count": 44,
      "outputs": [
        {
          "output_type": "execute_result",
          "data": {
            "text/plain": [
              "account_uuid           object\n",
              "state                  object\n",
              "industry               object\n",
              "subindustry            object\n",
              "year_established      float64\n",
              "annual_revenue        float64\n",
              "total_payroll         float64\n",
              "business_structure     object\n",
              "num_employees         float64\n",
              "dtype: object"
            ]
          },
          "metadata": {},
          "execution_count": 44
        }
      ]
    },
    {
      "cell_type": "code",
      "source": [
        "df_quotes_test.dtypes"
      ],
      "metadata": {
        "colab": {
          "base_uri": "https://localhost:8080/"
        },
        "id": "s36aA3U6xaI7",
        "outputId": "a3440abe-fd88-4ee1-8bef-4acaf261b7dd"
      },
      "execution_count": 45,
      "outputs": [
        {
          "output_type": "execute_result",
          "data": {
            "text/plain": [
              "account_uuid     object\n",
              "product          object\n",
              "premium         float64\n",
              "carrier_id        int64\n",
              "dtype: object"
            ]
          },
          "metadata": {},
          "execution_count": 45
        }
      ]
    },
    {
      "cell_type": "code",
      "source": [
        "df_quotes_test[\"carrier_id\"] = df_quotes_test[\"carrier_id\"].astype(str)"
      ],
      "metadata": {
        "id": "U7O3QOgBxiXa"
      },
      "execution_count": 46,
      "outputs": []
    },
    {
      "cell_type": "markdown",
      "source": [
        "#3. Duplicates"
      ],
      "metadata": {
        "id": "c7tMk5NL09LN"
      }
    },
    {
      "cell_type": "code",
      "source": [
        "#Unnecessarily duplicated rows\n",
        "if df_accounts_test.duplicated().any():\n",
        "    print(\"Duplicated full rows in accounts dataset\")\n",
        "if df_quotes_test.duplicated().any():\n",
        "    print(\"Duplicated full rows in quotes dataset\")  \n",
        "else: print(\"Everything is ok\")"
      ],
      "metadata": {
        "colab": {
          "base_uri": "https://localhost:8080/"
        },
        "id": "5hmpL6DXxmAZ",
        "outputId": "a32cca6c-80f7-4c6b-ffc2-dd1ac535f7c5"
      },
      "execution_count": 47,
      "outputs": [
        {
          "output_type": "stream",
          "name": "stdout",
          "text": [
            "Duplicated full rows in quotes dataset\n"
          ]
        }
      ]
    },
    {
      "cell_type": "code",
      "source": [
        "quotes_duplicates = df_quotes_test[df_quotes_test.duplicated()]\n",
        "print(len(quotes_duplicates))"
      ],
      "metadata": {
        "colab": {
          "base_uri": "https://localhost:8080/"
        },
        "id": "UkQchZ_EKy9n",
        "outputId": "09b60655-f03f-481d-853e-c8b152eecf36"
      },
      "execution_count": 48,
      "outputs": [
        {
          "output_type": "stream",
          "name": "stdout",
          "text": [
            "359\n"
          ]
        }
      ]
    },
    {
      "cell_type": "code",
      "source": [
        "df_quotes_test = df_quotes_test[~df_quotes_test.duplicated()]"
      ],
      "metadata": {
        "id": "FFHf9yVfK-2-"
      },
      "execution_count": 49,
      "outputs": []
    },
    {
      "cell_type": "code",
      "source": [
        "len(pd.unique(df_quotes_test[\"account_uuid\"]))"
      ],
      "metadata": {
        "colab": {
          "base_uri": "https://localhost:8080/"
        },
        "id": "YRDFSu-PLVsc",
        "outputId": "d1d009ce-3a84-4e3b-afec-b7b5709d99b2"
      },
      "execution_count": 50,
      "outputs": [
        {
          "output_type": "execute_result",
          "data": {
            "text/plain": [
              "2448"
            ]
          },
          "metadata": {},
          "execution_count": 50
        }
      ]
    },
    {
      "cell_type": "markdown",
      "source": [
        "#4. Null values"
      ],
      "metadata": {
        "id": "ryaibNk30_b_"
      }
    },
    {
      "cell_type": "code",
      "source": [
        "df_quotes_test.isnull().sum()"
      ],
      "metadata": {
        "colab": {
          "base_uri": "https://localhost:8080/"
        },
        "id": "A-XUlESLyZ4m",
        "outputId": "2da879aa-244f-4aa0-f7c1-9e39f1936eec"
      },
      "execution_count": 51,
      "outputs": [
        {
          "output_type": "execute_result",
          "data": {
            "text/plain": [
              "account_uuid    0\n",
              "product         0\n",
              "premium         0\n",
              "carrier_id      0\n",
              "dtype: int64"
            ]
          },
          "metadata": {},
          "execution_count": 51
        }
      ]
    },
    {
      "cell_type": "code",
      "source": [
        "values = {\"industry\": \"blank\", \"subindustry\": \"blank\"}\n",
        "df_accounts_test.fillna(value=values, inplace=True)"
      ],
      "metadata": {
        "id": "AT1z17Ewy4KW"
      },
      "execution_count": 52,
      "outputs": []
    },
    {
      "cell_type": "code",
      "source": [
        "df_accounts_test.isnull().sum()"
      ],
      "metadata": {
        "colab": {
          "base_uri": "https://localhost:8080/"
        },
        "id": "hAlVoDPaydcm",
        "outputId": "4cc711ea-1a12-43d9-a16b-23b25fd1920c"
      },
      "execution_count": 53,
      "outputs": [
        {
          "output_type": "execute_result",
          "data": {
            "text/plain": [
              "account_uuid           0\n",
              "state                  3\n",
              "industry               0\n",
              "subindustry            0\n",
              "year_established       6\n",
              "annual_revenue         5\n",
              "total_payroll         21\n",
              "business_structure     0\n",
              "num_employees         12\n",
              "dtype: int64"
            ]
          },
          "metadata": {},
          "execution_count": 53
        }
      ]
    },
    {
      "cell_type": "code",
      "source": [
        "values = {\"state\": \"FL\", \"year_established\": 2017, \"annual_revenue\": 217706.9, \"total_payroll\": 43469.87, \"num_employees\": 8}\n",
        "df_accounts_test.fillna(value=values, inplace=True)"
      ],
      "metadata": {
        "id": "19dSG8axzdET"
      },
      "execution_count": 54,
      "outputs": []
    },
    {
      "cell_type": "markdown",
      "source": [
        "#5. Merge datasets"
      ],
      "metadata": {
        "id": "a9jLOIEC1E0N"
      }
    },
    {
      "cell_type": "code",
      "source": [
        "df_quotes_test = df_quotes_test.rename({\"account_uuid\": \"company_id\"}, axis=\"columns\")"
      ],
      "metadata": {
        "id": "PJ2gkIad1ort"
      },
      "execution_count": 55,
      "outputs": []
    },
    {
      "cell_type": "code",
      "source": [
        "df_accounts_full_test = df_accounts_test.merge(df_quotes_test, how=\"inner\", left_on=[\"account_uuid\"],right_on=[\"company_id\"])\n",
        "num_rows_quo, num_cols_quo = df_accounts_full_test.shape\n",
        "print(\"The complete dataset has {0} rows and {1} columns\".format(num_rows_quo,num_cols_quo))"
      ],
      "metadata": {
        "colab": {
          "base_uri": "https://localhost:8080/"
        },
        "id": "F3YyI2e51tWb",
        "outputId": "56bdb604-d1d5-4933-c50a-5e82468afc85"
      },
      "execution_count": 56,
      "outputs": [
        {
          "output_type": "stream",
          "name": "stdout",
          "text": [
            "The complete dataset has 4646 rows and 13 columns\n"
          ]
        }
      ]
    },
    {
      "cell_type": "code",
      "source": [
        "df_accounts_full_test.drop([\"company_id\", \"subindustry\"], axis=1, inplace=True)"
      ],
      "metadata": {
        "id": "oMu_hf-I2sZn"
      },
      "execution_count": 57,
      "outputs": []
    },
    {
      "cell_type": "markdown",
      "source": [
        "# 6. Creating necessary variables"
      ],
      "metadata": {
        "id": "osqCkLfZ-eBM"
      }
    },
    {
      "cell_type": "markdown",
      "source": [
        "GROUPING RESIDUAL VALUES"
      ],
      "metadata": {
        "id": "GTel4hDr_7G7"
      }
    },
    {
      "cell_type": "code",
      "source": [
        "#Grouping residual values\n",
        "major_bu_structures = [\"Limited Liability Company\", \"Individual\", \"Corporation\"]\n",
        "major_products = [\"General_Liability\", \"Business_Owners_Policy_BOP\", \"Workers_Compensation\", \"CW_Professional_Liability\", \"Commercial_Auto\", \"CW_Errors_Omissions_E_O\", \"CW_Umbrella_Policy\", \"Package\"]\n",
        "major_carriers = [\"39\", \"31\", \"60\",\"30\",\"29\",\"9\",\"53\",\"21\",\"73\",\"22\",\"40\",\"72\"]\n",
        "major_states = [\"FL\",\"CA\",\"NY\",\"TX\",\"GA\",\"NJ\",\"VA\",\"PA\",\"NC\",\"SC\",\"IL\",\"LA\",\"MA\",\"OH\",\"MI\",\"CO\",\"MD\",\"AL\",\"TN\",\"MO\",\"AZ\",\"WA\",\"WI\",\"IN\",\"NV\",\"OK\",\"KY\",\"MS\",\"OR\"]\n",
        "major_industries = [\"Contractors\", \"Retail Trade\", \"Other Services\", \"Professional, Scientific and Technical Services\", \"Administrative Services and Building Maintenance\", \"Food and Accommodation\", \"Consultants\", \"Technology, Media and Telecommunications\", \"Manufacturing\", \"Healthcare\", \"Wholesale Trade\", \"Transportation and Warehousing\", \"Real Estate\", \"Sports, Arts, Entertainment, and Recreation\", \"Construction\", \"Finance and Insurance\", \"Education\" ]\n",
        "#blank industry is left out and back into residual group\n",
        "\n",
        "def grouping_residuals(var_value: str, major_values: list) -> str:\n",
        "  if var_value in major_values:\n",
        "    return var_value\n",
        "  else:\n",
        "    return \"residuals\"\n",
        "\n",
        "df_accounts_full_test['product_res'] = df_accounts_full_test['product'].apply(lambda x: grouping_residuals(x, major_products))\n",
        "df_accounts_full_test['carrier_id_res'] = df_accounts_full_test['carrier_id'].apply(lambda x: grouping_residuals(x, major_carriers))\n",
        "df_accounts_full_test['state_res'] = df_accounts_full_test['state'].apply(lambda x: grouping_residuals(x, major_states))\n",
        "df_accounts_full_test['industry_res'] = df_accounts_full_test['industry'].apply(lambda x: grouping_residuals(x, major_industries))\n",
        "df_accounts_full_test['business_structure_res'] = df_accounts_full_test['business_structure'].apply(lambda x: grouping_residuals(x, major_bu_structures))"
      ],
      "metadata": {
        "id": "9lMGXumW-rx6"
      },
      "execution_count": 58,
      "outputs": []
    },
    {
      "cell_type": "code",
      "source": [
        "df_accounts_full_test.drop([\"product\", \"carrier_id\", \"state\", \"industry\", \"business_structure\"], axis=1, inplace=True)"
      ],
      "metadata": {
        "id": "tzyad053-99Y"
      },
      "execution_count": 59,
      "outputs": []
    },
    {
      "cell_type": "markdown",
      "source": [
        "DUMMIES"
      ],
      "metadata": {
        "id": "BxPPnTpCAAvA"
      }
    },
    {
      "cell_type": "code",
      "source": [
        "def string_to_nomenclature(text):\n",
        "    return text.strip().replace(',','_').replace('/','_').replace('.','_').replace(' ','_').replace('-','_').replace('(','_').replace(')','_').lower()"
      ],
      "metadata": {
        "id": "zn0J1wUl--DU"
      },
      "execution_count": 60,
      "outputs": []
    },
    {
      "cell_type": "code",
      "source": [
        "if model_alg != \"catboost\":\n",
        "  name_vars_object = [name for name,tipo in df_accounts_full_test.dtypes.iteritems() if 'object' in str(tipo) and name not in [\"account_uuid\"]]\n",
        "  df_accounts_full_test[name_vars_object] = df_accounts_full_test[name_vars_object].applymap(lambda x: string_to_nomenclature(x))\n",
        "\n",
        "  #Building dummies in a separate dataset\n",
        "  df_accounts_full_test_dummies = pd.get_dummies(df_accounts_full_test,columns=name_vars_object)\n",
        "else:\n",
        "  df_accounts_full_test_dummies = df_accounts_full_test"
      ],
      "metadata": {
        "id": "XNzqAABN_Mko"
      },
      "execution_count": 61,
      "outputs": []
    },
    {
      "cell_type": "markdown",
      "source": [
        "CALCULATED VARIABLES"
      ],
      "metadata": {
        "id": "m5BxjkPkAFvA"
      }
    },
    {
      "cell_type": "code",
      "source": [
        "df_accounts_full_test_dummies[\"year_established\"].astype(str).value_counts()"
      ],
      "metadata": {
        "colab": {
          "base_uri": "https://localhost:8080/"
        },
        "id": "GAG7dVGaAT2e",
        "outputId": "6fa98ec0-857d-465f-f09f-f6ddc3bed875"
      },
      "execution_count": 62,
      "outputs": [
        {
          "output_type": "execute_result",
          "data": {
            "text/plain": [
              "2017.0    1690\n",
              "2018.0     921\n",
              "2016.0     367\n",
              "2015.0     294\n",
              "2014.0     234\n",
              "2012.0     143\n",
              "2013.0     134\n",
              "2008.0      99\n",
              "2010.0      87\n",
              "2009.0      73\n",
              "2007.0      62\n",
              "2011.0      54\n",
              "2005.0      48\n",
              "2003.0      45\n",
              "2006.0      45\n",
              "2004.0      44\n",
              "2002.0      31\n",
              "2001.0      30\n",
              "2000.0      30\n",
              "1993.0      17\n",
              "1999.0      16\n",
              "1998.0      16\n",
              "1992.0      13\n",
              "1996.0      12\n",
              "1989.0      12\n",
              "1986.0      11\n",
              "1982.0      11\n",
              "1990.0      11\n",
              "1987.0      11\n",
              "1994.0      11\n",
              "1995.0       9\n",
              "1985.0       9\n",
              "1997.0       9\n",
              "1988.0       8\n",
              "1991.0       6\n",
              "1984.0       6\n",
              "1977.0       5\n",
              "1972.0       3\n",
              "1983.0       3\n",
              "1981.0       2\n",
              "1978.0       2\n",
              "1943.0       2\n",
              "1975.0       2\n",
              "1952.0       1\n",
              "1961.0       1\n",
              "1979.0       1\n",
              "1966.0       1\n",
              "1973.0       1\n",
              "1949.0       1\n",
              "1885.0       1\n",
              "1967.0       1\n",
              "Name: year_established, dtype: int64"
            ]
          },
          "metadata": {},
          "execution_count": 62
        }
      ]
    },
    {
      "cell_type": "code",
      "source": [
        "df_accounts_full_test_dummies[\"company_age\"] = pd.datetime.now().year - df_accounts_full_test_dummies[\"year_established\"]"
      ],
      "metadata": {
        "id": "ROlv1wt2AHs1",
        "colab": {
          "base_uri": "https://localhost:8080/"
        },
        "outputId": "acf8e040-618b-47f5-d1c5-116cff3c96fe"
      },
      "execution_count": 63,
      "outputs": [
        {
          "output_type": "stream",
          "name": "stderr",
          "text": [
            "/usr/local/lib/python3.7/dist-packages/ipykernel_launcher.py:1: FutureWarning: The pandas.datetime class is deprecated and will be removed from pandas in a future version. Import from datetime module instead.\n",
            "  \"\"\"Entry point for launching an IPython kernel.\n"
          ]
        }
      ]
    },
    {
      "cell_type": "code",
      "source": [
        "if model_alg != \"catboost\":\n",
        "  df_accounts_full_test_dummies.drop([\"year_established\", \"total_payroll\", \"carrier_id_res_53\", \"business_structure_res_individual\"], axis=1, inplace=True)\n",
        "else:\n",
        "  df_accounts_full_test_dummies.drop([\"year_established\", \"total_payroll\"], axis=1, inplace=True)"
      ],
      "metadata": {
        "id": "n-cNLzu2BE4R"
      },
      "execution_count": 64,
      "outputs": []
    },
    {
      "cell_type": "markdown",
      "source": [
        "\n",
        "#7. Applying Model"
      ],
      "metadata": {
        "id": "DcuCkTJwCHw-"
      }
    },
    {
      "cell_type": "code",
      "source": [
        "if model_alg != \"catboost\":\n",
        "  model_features = ['premium', 'annual_revenue', 'company_age', 'num_employees', 'carrier_id_res_60', 'business_structure_res_limited_liability_company', 'product_res_business_owners_policy_bop', 'carrier_id_res_39', 'carrier_id_res_31', 'industry_res_other_services', 'business_structure_res_corporation', 'state_res_fl', 'industry_res_retail_trade', 'product_res_general_liability', 'state_res_ca', 'industry_res_contractors', 'state_res_residuals', 'industry_res_food_and_accommodation', 'industry_res_professional__scientific_and_technical_services', 'state_res_ny', 'state_res_tx', 'state_res_ga', 'industry_res_administrative_services_and_building_maintenance', 'industry_res_consultants', 'business_structure_res_residuals', 'state_res_va', 'industry_res_manufacturing', 'state_res_nj', 'state_res_nc', 'state_res_il', 'state_res_sc', 'carrier_id_res_residuals', 'carrier_id_res_30', 'carrier_id_res_21', 'carrier_id_res_9', 'state_res_la', 'state_res_pa', 'state_res_mi', 'industry_res_technology__media_and_telecommunications', 'carrier_id_res_29', 'state_res_oh', 'state_res_tn', 'industry_res_wholesale_trade', 'industry_res_healthcare', 'product_res_residuals', 'state_res_md', 'state_res_co', 'state_res_al', 'state_res_ma', 'state_res_mo', 'state_res_az', 'state_res_wi', 'product_res_workers_compensation', 'industry_res_education', 'industry_res_residuals', 'product_res_cw_professional_liability', 'product_res_commercial_auto', 'state_res_nv']\n",
        "else:\n",
        "  model_features = [\"premium\",\"annual_revenue\",\"num_employees\",\"product_res\",\"carrier_id_res\",\"state_res\" ,\"industry_res\" ,\"business_structure_res\",\"company_age\"]\n",
        "\n",
        "df_results = df_accounts_full_test_dummies[[\"account_uuid\"] + model_features]"
      ],
      "metadata": {
        "id": "aor6QROUCQn9"
      },
      "execution_count": 65,
      "outputs": []
    },
    {
      "cell_type": "code",
      "source": [
        "features_to_standardize = [\"premium\",\"annual_revenue\",\"company_age\",\"num_employees\"]\n",
        "df_results[\"premium_orig\"] = df_results[\"premium\"]\n",
        "df_results[features_to_standardize] = robust_scaler.transform(df_results[features_to_standardize])"
      ],
      "metadata": {
        "colab": {
          "base_uri": "https://localhost:8080/"
        },
        "id": "3ycgsVO-FTfi",
        "outputId": "e13d0ecf-7a04-4e6d-92a7-c94b24dfcb88"
      },
      "execution_count": 66,
      "outputs": [
        {
          "output_type": "stream",
          "name": "stderr",
          "text": [
            "/usr/local/lib/python3.7/dist-packages/ipykernel_launcher.py:2: SettingWithCopyWarning: \n",
            "A value is trying to be set on a copy of a slice from a DataFrame.\n",
            "Try using .loc[row_indexer,col_indexer] = value instead\n",
            "\n",
            "See the caveats in the documentation: https://pandas.pydata.org/pandas-docs/stable/user_guide/indexing.html#returning-a-view-versus-a-copy\n",
            "  \n",
            "/usr/local/lib/python3.7/dist-packages/pandas/core/frame.py:3678: SettingWithCopyWarning: \n",
            "A value is trying to be set on a copy of a slice from a DataFrame.\n",
            "Try using .loc[row_indexer,col_indexer] = value instead\n",
            "\n",
            "See the caveats in the documentation: https://pandas.pydata.org/pandas-docs/stable/user_guide/indexing.html#returning-a-view-versus-a-copy\n",
            "  self[col] = igetitem(value, i)\n"
          ]
        }
      ]
    },
    {
      "cell_type": "code",
      "source": [
        "results = df_results[[\"account_uuid\", \"premium_orig\"]]\n",
        "results[\"prob\"] = [pair[1] for pair in model_trained.predict_proba(df_results.drop([\"account_uuid\", \"premium_orig\"], axis=1))] #right side of the tuple has the probability of conversion = 1"
      ],
      "metadata": {
        "colab": {
          "base_uri": "https://localhost:8080/"
        },
        "id": "Mqh6nSCDD6lG",
        "outputId": "0b7c570a-07f4-417a-8541-253dd4fed7c8"
      },
      "execution_count": 67,
      "outputs": [
        {
          "output_type": "stream",
          "name": "stderr",
          "text": [
            "/usr/local/lib/python3.7/dist-packages/ipykernel_launcher.py:2: SettingWithCopyWarning: \n",
            "A value is trying to be set on a copy of a slice from a DataFrame.\n",
            "Try using .loc[row_indexer,col_indexer] = value instead\n",
            "\n",
            "See the caveats in the documentation: https://pandas.pydata.org/pandas-docs/stable/user_guide/indexing.html#returning-a-view-versus-a-copy\n",
            "  \n"
          ]
        }
      ]
    },
    {
      "cell_type": "markdown",
      "source": [
        "#8. Account Value calculation"
      ],
      "metadata": {
        "id": "oT5JLbWUGEaX"
      }
    },
    {
      "cell_type": "code",
      "source": [
        "results[\"exp_accvalue\"] = results[\"prob\"] * results[\"premium_orig\"]\n",
        "results_rmse = pd.DataFrame(results.groupby(\"account_uuid\").agg({\"exp_accvalue\": sum})).reset_index()\n",
        "results_rmse"
      ],
      "metadata": {
        "colab": {
          "base_uri": "https://localhost:8080/",
          "height": 553
        },
        "id": "POXjosp4GHCu",
        "outputId": "f1049022-5a90-45f1-ca80-efa80ad27621"
      },
      "execution_count": 68,
      "outputs": [
        {
          "output_type": "stream",
          "name": "stderr",
          "text": [
            "/usr/local/lib/python3.7/dist-packages/ipykernel_launcher.py:1: SettingWithCopyWarning: \n",
            "A value is trying to be set on a copy of a slice from a DataFrame.\n",
            "Try using .loc[row_indexer,col_indexer] = value instead\n",
            "\n",
            "See the caveats in the documentation: https://pandas.pydata.org/pandas-docs/stable/user_guide/indexing.html#returning-a-view-versus-a-copy\n",
            "  \"\"\"Entry point for launching an IPython kernel.\n"
          ]
        },
        {
          "output_type": "execute_result",
          "data": {
            "text/html": [
              "\n",
              "  <div id=\"df-2ceac388-32c1-4e43-9de7-2b755e5ffd04\">\n",
              "    <div class=\"colab-df-container\">\n",
              "      <div>\n",
              "<style scoped>\n",
              "    .dataframe tbody tr th:only-of-type {\n",
              "        vertical-align: middle;\n",
              "    }\n",
              "\n",
              "    .dataframe tbody tr th {\n",
              "        vertical-align: top;\n",
              "    }\n",
              "\n",
              "    .dataframe thead th {\n",
              "        text-align: right;\n",
              "    }\n",
              "</style>\n",
              "<table border=\"1\" class=\"dataframe\">\n",
              "  <thead>\n",
              "    <tr style=\"text-align: right;\">\n",
              "      <th></th>\n",
              "      <th>account_uuid</th>\n",
              "      <th>exp_accvalue</th>\n",
              "    </tr>\n",
              "  </thead>\n",
              "  <tbody>\n",
              "    <tr>\n",
              "      <th>0</th>\n",
              "      <td>0007250d-1fa22-3ea7-f8d9a-2ab585d136</td>\n",
              "      <td>1713.692950</td>\n",
              "    </tr>\n",
              "    <tr>\n",
              "      <th>1</th>\n",
              "      <td>000f36a0-70dec-6b10-04a24-d07bcbe4ed</td>\n",
              "      <td>1144.959514</td>\n",
              "    </tr>\n",
              "    <tr>\n",
              "      <th>2</th>\n",
              "      <td>00143506-a4ba9-6d4d-558b4-28e36e9ee4</td>\n",
              "      <td>6292.454523</td>\n",
              "    </tr>\n",
              "    <tr>\n",
              "      <th>3</th>\n",
              "      <td>001d5526-eedf-49c9-904a-c4297022c4c5</td>\n",
              "      <td>530.201791</td>\n",
              "    </tr>\n",
              "    <tr>\n",
              "      <th>4</th>\n",
              "      <td>002d4d12-184f-4e8c-8c79-851ec406c568</td>\n",
              "      <td>337.913040</td>\n",
              "    </tr>\n",
              "    <tr>\n",
              "      <th>...</th>\n",
              "      <td>...</td>\n",
              "      <td>...</td>\n",
              "    </tr>\n",
              "    <tr>\n",
              "      <th>2443</th>\n",
              "      <td>ff4b624e-906e6-24e3-a128b-ee25dab4ce</td>\n",
              "      <td>513.776764</td>\n",
              "    </tr>\n",
              "    <tr>\n",
              "      <th>2444</th>\n",
              "      <td>ff5b8d3e-5842-4495-b7bc-8c20bdac4bf8</td>\n",
              "      <td>4400.532369</td>\n",
              "    </tr>\n",
              "    <tr>\n",
              "      <th>2445</th>\n",
              "      <td>ff7ba7a6-2d9a-4e26-8344-d2254e2cd747</td>\n",
              "      <td>2329.471847</td>\n",
              "    </tr>\n",
              "    <tr>\n",
              "      <th>2446</th>\n",
              "      <td>ffd84807-18c22-ea59-71f3a-133f375af5</td>\n",
              "      <td>1385.847148</td>\n",
              "    </tr>\n",
              "    <tr>\n",
              "      <th>2447</th>\n",
              "      <td>ffff26d7-62928-d0b7-9a7c7-2e3136095e</td>\n",
              "      <td>188.517005</td>\n",
              "    </tr>\n",
              "  </tbody>\n",
              "</table>\n",
              "<p>2448 rows × 2 columns</p>\n",
              "</div>\n",
              "      <button class=\"colab-df-convert\" onclick=\"convertToInteractive('df-2ceac388-32c1-4e43-9de7-2b755e5ffd04')\"\n",
              "              title=\"Convert this dataframe to an interactive table.\"\n",
              "              style=\"display:none;\">\n",
              "        \n",
              "  <svg xmlns=\"http://www.w3.org/2000/svg\" height=\"24px\"viewBox=\"0 0 24 24\"\n",
              "       width=\"24px\">\n",
              "    <path d=\"M0 0h24v24H0V0z\" fill=\"none\"/>\n",
              "    <path d=\"M18.56 5.44l.94 2.06.94-2.06 2.06-.94-2.06-.94-.94-2.06-.94 2.06-2.06.94zm-11 1L8.5 8.5l.94-2.06 2.06-.94-2.06-.94L8.5 2.5l-.94 2.06-2.06.94zm10 10l.94 2.06.94-2.06 2.06-.94-2.06-.94-.94-2.06-.94 2.06-2.06.94z\"/><path d=\"M17.41 7.96l-1.37-1.37c-.4-.4-.92-.59-1.43-.59-.52 0-1.04.2-1.43.59L10.3 9.45l-7.72 7.72c-.78.78-.78 2.05 0 2.83L4 21.41c.39.39.9.59 1.41.59.51 0 1.02-.2 1.41-.59l7.78-7.78 2.81-2.81c.8-.78.8-2.07 0-2.86zM5.41 20L4 18.59l7.72-7.72 1.47 1.35L5.41 20z\"/>\n",
              "  </svg>\n",
              "      </button>\n",
              "      \n",
              "  <style>\n",
              "    .colab-df-container {\n",
              "      display:flex;\n",
              "      flex-wrap:wrap;\n",
              "      gap: 12px;\n",
              "    }\n",
              "\n",
              "    .colab-df-convert {\n",
              "      background-color: #E8F0FE;\n",
              "      border: none;\n",
              "      border-radius: 50%;\n",
              "      cursor: pointer;\n",
              "      display: none;\n",
              "      fill: #1967D2;\n",
              "      height: 32px;\n",
              "      padding: 0 0 0 0;\n",
              "      width: 32px;\n",
              "    }\n",
              "\n",
              "    .colab-df-convert:hover {\n",
              "      background-color: #E2EBFA;\n",
              "      box-shadow: 0px 1px 2px rgba(60, 64, 67, 0.3), 0px 1px 3px 1px rgba(60, 64, 67, 0.15);\n",
              "      fill: #174EA6;\n",
              "    }\n",
              "\n",
              "    [theme=dark] .colab-df-convert {\n",
              "      background-color: #3B4455;\n",
              "      fill: #D2E3FC;\n",
              "    }\n",
              "\n",
              "    [theme=dark] .colab-df-convert:hover {\n",
              "      background-color: #434B5C;\n",
              "      box-shadow: 0px 1px 3px 1px rgba(0, 0, 0, 0.15);\n",
              "      filter: drop-shadow(0px 1px 2px rgba(0, 0, 0, 0.3));\n",
              "      fill: #FFFFFF;\n",
              "    }\n",
              "  </style>\n",
              "\n",
              "      <script>\n",
              "        const buttonEl =\n",
              "          document.querySelector('#df-2ceac388-32c1-4e43-9de7-2b755e5ffd04 button.colab-df-convert');\n",
              "        buttonEl.style.display =\n",
              "          google.colab.kernel.accessAllowed ? 'block' : 'none';\n",
              "\n",
              "        async function convertToInteractive(key) {\n",
              "          const element = document.querySelector('#df-2ceac388-32c1-4e43-9de7-2b755e5ffd04');\n",
              "          const dataTable =\n",
              "            await google.colab.kernel.invokeFunction('convertToInteractive',\n",
              "                                                     [key], {});\n",
              "          if (!dataTable) return;\n",
              "\n",
              "          const docLinkHtml = 'Like what you see? Visit the ' +\n",
              "            '<a target=\"_blank\" href=https://colab.research.google.com/notebooks/data_table.ipynb>data table notebook</a>'\n",
              "            + ' to learn more about interactive tables.';\n",
              "          element.innerHTML = '';\n",
              "          dataTable['output_type'] = 'display_data';\n",
              "          await google.colab.output.renderOutput(dataTable, element);\n",
              "          const docLink = document.createElement('div');\n",
              "          docLink.innerHTML = docLinkHtml;\n",
              "          element.appendChild(docLink);\n",
              "        }\n",
              "      </script>\n",
              "    </div>\n",
              "  </div>\n",
              "  "
            ],
            "text/plain": [
              "                              account_uuid  exp_accvalue\n",
              "0     0007250d-1fa22-3ea7-f8d9a-2ab585d136   1713.692950\n",
              "1     000f36a0-70dec-6b10-04a24-d07bcbe4ed   1144.959514\n",
              "2     00143506-a4ba9-6d4d-558b4-28e36e9ee4   6292.454523\n",
              "3     001d5526-eedf-49c9-904a-c4297022c4c5    530.201791\n",
              "4     002d4d12-184f-4e8c-8c79-851ec406c568    337.913040\n",
              "...                                    ...           ...\n",
              "2443  ff4b624e-906e6-24e3-a128b-ee25dab4ce    513.776764\n",
              "2444  ff5b8d3e-5842-4495-b7bc-8c20bdac4bf8   4400.532369\n",
              "2445  ff7ba7a6-2d9a-4e26-8344-d2254e2cd747   2329.471847\n",
              "2446  ffd84807-18c22-ea59-71f3a-133f375af5   1385.847148\n",
              "2447  ffff26d7-62928-d0b7-9a7c7-2e3136095e    188.517005\n",
              "\n",
              "[2448 rows x 2 columns]"
            ]
          },
          "metadata": {},
          "execution_count": 68
        }
      ]
    },
    {
      "cell_type": "code",
      "source": [
        "now = datetime.now().strftime(\"%Y%m%d_%H%M\")\n",
        "results_rmse.to_csv(output + now + '_submission.csv', index=False)  "
      ],
      "metadata": {
        "id": "-eGffCfxHuZ5"
      },
      "execution_count": 69,
      "outputs": []
    }
  ]
}